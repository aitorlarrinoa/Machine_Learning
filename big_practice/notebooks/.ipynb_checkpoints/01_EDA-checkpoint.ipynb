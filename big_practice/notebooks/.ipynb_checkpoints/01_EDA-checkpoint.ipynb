{
 "cells": [
  {
   "cell_type": "markdown",
   "id": "92fb430a",
   "metadata": {},
   "source": [
    "# ANÁLISIS DE SINIESTRALIDAD"
   ]
  },
  {
   "cell_type": "markdown",
   "id": "c5d439a9",
   "metadata": {},
   "source": [
    "### CUNEF MUCD (2021/22)"
   ]
  },
  {
   "cell_type": "markdown",
   "id": "c0cbbd00",
   "metadata": {},
   "source": [
    "- Aitor Larriona Rementería\n",
    "- Diego Cendán Bedregal"
   ]
  },
  {
   "cell_type": "markdown",
   "id": "33328df3",
   "metadata": {},
   "source": [
    "## EDA"
   ]
  },
  {
   "cell_type": "markdown",
   "id": "2b64ff78",
   "metadata": {},
   "source": [
    "## Diccionario de datos"
   ]
  },
  {
   "cell_type": "markdown",
   "id": "39127126",
   "metadata": {},
   "source": [
    "A continuación mostramos el diccionario de datos con el que trabajaremos. Este diccionario de datos se corresponderá con los datos con los que trabajaremos después de modificar los datos originales"
   ]
  },
  {
   "cell_type": "markdown",
   "id": "d28f0c65",
   "metadata": {},
   "source": [
    "<div>\n",
    "<img src=\"diccionario_2.png\", width=\"800\"/>\n",
    "</div>"
   ]
  },
  {
   "cell_type": "markdown",
   "id": "0f2ef94f",
   "metadata": {},
   "source": [
    "## Definición del problema"
   ]
  },
  {
   "cell_type": "markdown",
   "id": "762d0f9f",
   "metadata": {},
   "source": [
    "Los gobiernos federal, provincial y territorial de Canadá trabajan para mejorar la seguridad vial con el fin de reducir el número de víctimas mortales.\n",
    "\n",
    "Teniendo en cuenta todas las variables que tenemos, se quiere predecir si habrá fallecimientos o no. \n",
    "El momento a evaluar el modelo será una vez producido el accidente. Es decir, evaluaremos el modelo teniendo en cuenta unicamente las variables conocidas en el instante en el que se produce una colisión. Todos aquellos registros conocidos a posteriori no serán incluidos en nuestro modelo. La finalidad del modelo es realizar una predicción con el mayor porcentaje de acierto posible, que nos indique en el momento que se produza un accidente si habra al menos un fallecido, o bien han sobrevibido todos los involucrados en el mismo. \n",
    "\n",
    "Para ello, disponemos de un conjunto de datos proporcionado por La base de datos nacional de colisiones de Transport Canada (NCDB). Dicha base, contiene datos sobre todas las colisiones de vehículos de motor notificadas en Canadá que las provincias y territorios proporcionan cada año (1999-2014)."
   ]
  },
  {
   "cell_type": "code",
   "execution_count": 1,
   "id": "97ca2758",
   "metadata": {},
   "outputs": [
    {
     "name": "stdout",
     "output_type": "stream",
     "text": [
      "\r\n",
      "     active environment : ML_big_practice\r\n",
      "    active env location : /Users/aitor/opt/anaconda3/envs/ML_big_practice\r\n",
      "            shell level : 2\r\n",
      "       user config file : /Users/aitor/.condarc\r\n",
      " populated config files : /Users/aitor/.condarc\r\n",
      "          conda version : 4.10.3\r\n",
      "    conda-build version : 3.21.4\r\n",
      "         python version : 3.8.8.final.0\r\n",
      "       virtual packages : __osx=10.16=0\r\n",
      "                          __unix=0=0\r\n",
      "                          __archspec=1=x86_64\r\n",
      "       base environment : /Users/aitor/opt/anaconda3  (writable)\r\n",
      "      conda av data dir : /Users/aitor/opt/anaconda3/etc/conda\r\n",
      "  conda av metadata url : None\r\n",
      "           channel URLs : https://repo.anaconda.com/pkgs/main/osx-64\r\n",
      "                          https://repo.anaconda.com/pkgs/main/noarch\r\n",
      "                          https://repo.anaconda.com/pkgs/r/osx-64\r\n",
      "                          https://repo.anaconda.com/pkgs/r/noarch\r\n",
      "          package cache : /Users/aitor/opt/anaconda3/pkgs\r\n",
      "                          /Users/aitor/.conda/pkgs\r\n",
      "       envs directories : /Users/aitor/opt/anaconda3/envs\r\n",
      "                          /Users/aitor/.conda/envs\r\n",
      "               platform : osx-64\r\n",
      "             user-agent : conda/4.10.3 requests/2.26.0 CPython/3.8.8 Darwin/20.4.0 OSX/10.16\r\n",
      "                UID:GID : 501:20\r\n",
      "             netrc file : None\r\n",
      "           offline mode : False\r\n",
      "\r\n"
     ]
    }
   ],
   "source": [
    "! conda info"
   ]
  },
  {
   "cell_type": "markdown",
   "id": "a7225d78",
   "metadata": {},
   "source": [
    "## Librerías"
   ]
  },
  {
   "cell_type": "markdown",
   "id": "a1a39718",
   "metadata": {},
   "source": [
    "Se importan las librerías necesarias para poder llevar a cabo este notebook. Ajustamos las opciones de visualización de los datos para poder ver todas las columnas del dataset"
   ]
  },
  {
   "cell_type": "code",
   "execution_count": 2,
   "id": "125e8cad",
   "metadata": {},
   "outputs": [],
   "source": [
    "import pandas as pd\n",
    "import matplotlib.pyplot as plt\n",
    "import numpy as np\n",
    "import math\n",
    "import missingno as msno\n",
    "import seaborn as sns\n",
    "import plotly.express as px\n",
    "import plotly.graph_objects as go\n",
    "import pyarrow.parquet as pq\n",
    "import pyarrow as pa\n",
    "\n",
    "pd.set_option('display.max_columns', 30)\n",
    "pd.set_option('display.max_rows', 5000)"
   ]
  },
  {
   "cell_type": "markdown",
   "id": "c3760e0f",
   "metadata": {},
   "source": [
    "## Funciones"
   ]
  },
  {
   "cell_type": "markdown",
   "id": "864f3382",
   "metadata": {},
   "source": [
    "Cargamos FUNCIONES. De esta manera, importamos las funciones necesarias en este notebook del archivo FUNCIONES.py, donde se encuentran todas las funciones creadas que nos ayudan a alcanzar nuestro objetivo con su correspondiente explicación ."
   ]
  },
  {
   "cell_type": "code",
   "execution_count": 3,
   "id": "23281232",
   "metadata": {},
   "outputs": [],
   "source": [
    "%run FUNCIONES"
   ]
  },
  {
   "cell_type": "markdown",
   "id": "e6c11054",
   "metadata": {},
   "source": [
    "## Lectura del fichero csv"
   ]
  },
  {
   "cell_type": "markdown",
   "id": "f00c7aba",
   "metadata": {},
   "source": [
    "Lectura de los datos proporionados en formato .csv.\n",
    "Mostramos las 8 primeras filas del dataset para realizar una primera observación"
   ]
  },
  {
   "cell_type": "code",
   "execution_count": 4,
   "id": "aa83e505",
   "metadata": {},
   "outputs": [
    {
     "name": "stderr",
     "output_type": "stream",
     "text": [
      "/Users/aitor/opt/anaconda3/envs/ML_big_practice/lib/python3.9/site-packages/IPython/core/interactiveshell.py:3444: DtypeWarning: Columns (1,2,5,12) have mixed types.Specify dtype option on import or set low_memory=False.\n",
      "  exec(code_obj, self.user_global_ns, self.user_ns)\n"
     ]
    },
    {
     "data": {
      "text/html": [
       "<div>\n",
       "<style scoped>\n",
       "    .dataframe tbody tr th:only-of-type {\n",
       "        vertical-align: middle;\n",
       "    }\n",
       "\n",
       "    .dataframe tbody tr th {\n",
       "        vertical-align: top;\n",
       "    }\n",
       "\n",
       "    .dataframe thead th {\n",
       "        text-align: right;\n",
       "    }\n",
       "</style>\n",
       "<table border=\"1\" class=\"dataframe\">\n",
       "  <thead>\n",
       "    <tr style=\"text-align: right;\">\n",
       "      <th></th>\n",
       "      <th>C_YEAR</th>\n",
       "      <th>C_MNTH</th>\n",
       "      <th>C_WDAY</th>\n",
       "      <th>C_HOUR</th>\n",
       "      <th>C_SEV</th>\n",
       "      <th>C_VEHS</th>\n",
       "      <th>C_CONF</th>\n",
       "      <th>C_RCFG</th>\n",
       "      <th>C_WTHR</th>\n",
       "      <th>C_RSUR</th>\n",
       "      <th>C_RALN</th>\n",
       "      <th>C_TRAF</th>\n",
       "      <th>V_ID</th>\n",
       "      <th>V_TYPE</th>\n",
       "      <th>V_YEAR</th>\n",
       "      <th>P_ID</th>\n",
       "      <th>P_SEX</th>\n",
       "      <th>P_AGE</th>\n",
       "      <th>P_PSN</th>\n",
       "      <th>P_ISEV</th>\n",
       "      <th>P_SAFE</th>\n",
       "      <th>P_USER</th>\n",
       "    </tr>\n",
       "  </thead>\n",
       "  <tbody>\n",
       "    <tr>\n",
       "      <th>0</th>\n",
       "      <td>1999</td>\n",
       "      <td>1</td>\n",
       "      <td>1</td>\n",
       "      <td>20</td>\n",
       "      <td>2</td>\n",
       "      <td>02</td>\n",
       "      <td>34</td>\n",
       "      <td>UU</td>\n",
       "      <td>1</td>\n",
       "      <td>5</td>\n",
       "      <td>3</td>\n",
       "      <td>03</td>\n",
       "      <td>01</td>\n",
       "      <td>06</td>\n",
       "      <td>1990</td>\n",
       "      <td>01</td>\n",
       "      <td>M</td>\n",
       "      <td>41</td>\n",
       "      <td>11</td>\n",
       "      <td>1</td>\n",
       "      <td>UU</td>\n",
       "      <td>1</td>\n",
       "    </tr>\n",
       "    <tr>\n",
       "      <th>1</th>\n",
       "      <td>1999</td>\n",
       "      <td>1</td>\n",
       "      <td>1</td>\n",
       "      <td>20</td>\n",
       "      <td>2</td>\n",
       "      <td>02</td>\n",
       "      <td>34</td>\n",
       "      <td>UU</td>\n",
       "      <td>1</td>\n",
       "      <td>5</td>\n",
       "      <td>3</td>\n",
       "      <td>03</td>\n",
       "      <td>02</td>\n",
       "      <td>01</td>\n",
       "      <td>1987</td>\n",
       "      <td>01</td>\n",
       "      <td>M</td>\n",
       "      <td>19</td>\n",
       "      <td>11</td>\n",
       "      <td>1</td>\n",
       "      <td>UU</td>\n",
       "      <td>1</td>\n",
       "    </tr>\n",
       "    <tr>\n",
       "      <th>2</th>\n",
       "      <td>1999</td>\n",
       "      <td>1</td>\n",
       "      <td>1</td>\n",
       "      <td>20</td>\n",
       "      <td>2</td>\n",
       "      <td>02</td>\n",
       "      <td>34</td>\n",
       "      <td>UU</td>\n",
       "      <td>1</td>\n",
       "      <td>5</td>\n",
       "      <td>3</td>\n",
       "      <td>03</td>\n",
       "      <td>02</td>\n",
       "      <td>01</td>\n",
       "      <td>1987</td>\n",
       "      <td>02</td>\n",
       "      <td>F</td>\n",
       "      <td>20</td>\n",
       "      <td>13</td>\n",
       "      <td>2</td>\n",
       "      <td>02</td>\n",
       "      <td>2</td>\n",
       "    </tr>\n",
       "    <tr>\n",
       "      <th>3</th>\n",
       "      <td>1999</td>\n",
       "      <td>1</td>\n",
       "      <td>1</td>\n",
       "      <td>08</td>\n",
       "      <td>2</td>\n",
       "      <td>01</td>\n",
       "      <td>01</td>\n",
       "      <td>UU</td>\n",
       "      <td>5</td>\n",
       "      <td>3</td>\n",
       "      <td>6</td>\n",
       "      <td>18</td>\n",
       "      <td>01</td>\n",
       "      <td>01</td>\n",
       "      <td>1986</td>\n",
       "      <td>01</td>\n",
       "      <td>M</td>\n",
       "      <td>46</td>\n",
       "      <td>11</td>\n",
       "      <td>1</td>\n",
       "      <td>UU</td>\n",
       "      <td>1</td>\n",
       "    </tr>\n",
       "    <tr>\n",
       "      <th>4</th>\n",
       "      <td>1999</td>\n",
       "      <td>1</td>\n",
       "      <td>1</td>\n",
       "      <td>08</td>\n",
       "      <td>2</td>\n",
       "      <td>01</td>\n",
       "      <td>01</td>\n",
       "      <td>UU</td>\n",
       "      <td>5</td>\n",
       "      <td>3</td>\n",
       "      <td>6</td>\n",
       "      <td>18</td>\n",
       "      <td>99</td>\n",
       "      <td>NN</td>\n",
       "      <td>NNNN</td>\n",
       "      <td>01</td>\n",
       "      <td>M</td>\n",
       "      <td>05</td>\n",
       "      <td>99</td>\n",
       "      <td>2</td>\n",
       "      <td>UU</td>\n",
       "      <td>3</td>\n",
       "    </tr>\n",
       "    <tr>\n",
       "      <th>5</th>\n",
       "      <td>1999</td>\n",
       "      <td>1</td>\n",
       "      <td>1</td>\n",
       "      <td>17</td>\n",
       "      <td>2</td>\n",
       "      <td>03</td>\n",
       "      <td>QQ</td>\n",
       "      <td>QQ</td>\n",
       "      <td>1</td>\n",
       "      <td>2</td>\n",
       "      <td>1</td>\n",
       "      <td>01</td>\n",
       "      <td>01</td>\n",
       "      <td>01</td>\n",
       "      <td>1984</td>\n",
       "      <td>01</td>\n",
       "      <td>M</td>\n",
       "      <td>28</td>\n",
       "      <td>11</td>\n",
       "      <td>1</td>\n",
       "      <td>UU</td>\n",
       "      <td>1</td>\n",
       "    </tr>\n",
       "    <tr>\n",
       "      <th>6</th>\n",
       "      <td>1999</td>\n",
       "      <td>1</td>\n",
       "      <td>1</td>\n",
       "      <td>17</td>\n",
       "      <td>2</td>\n",
       "      <td>03</td>\n",
       "      <td>QQ</td>\n",
       "      <td>QQ</td>\n",
       "      <td>1</td>\n",
       "      <td>2</td>\n",
       "      <td>1</td>\n",
       "      <td>01</td>\n",
       "      <td>02</td>\n",
       "      <td>01</td>\n",
       "      <td>1991</td>\n",
       "      <td>01</td>\n",
       "      <td>M</td>\n",
       "      <td>21</td>\n",
       "      <td>11</td>\n",
       "      <td>1</td>\n",
       "      <td>UU</td>\n",
       "      <td>1</td>\n",
       "    </tr>\n",
       "    <tr>\n",
       "      <th>7</th>\n",
       "      <td>1999</td>\n",
       "      <td>1</td>\n",
       "      <td>1</td>\n",
       "      <td>17</td>\n",
       "      <td>2</td>\n",
       "      <td>03</td>\n",
       "      <td>QQ</td>\n",
       "      <td>QQ</td>\n",
       "      <td>1</td>\n",
       "      <td>2</td>\n",
       "      <td>1</td>\n",
       "      <td>01</td>\n",
       "      <td>02</td>\n",
       "      <td>01</td>\n",
       "      <td>1991</td>\n",
       "      <td>02</td>\n",
       "      <td>F</td>\n",
       "      <td>UU</td>\n",
       "      <td>13</td>\n",
       "      <td>2</td>\n",
       "      <td>UU</td>\n",
       "      <td>2</td>\n",
       "    </tr>\n",
       "  </tbody>\n",
       "</table>\n",
       "</div>"
      ],
      "text/plain": [
       "   C_YEAR C_MNTH C_WDAY C_HOUR  C_SEV C_VEHS C_CONF C_RCFG C_WTHR C_RSUR  \\\n",
       "0    1999      1      1     20      2     02     34     UU      1      5   \n",
       "1    1999      1      1     20      2     02     34     UU      1      5   \n",
       "2    1999      1      1     20      2     02     34     UU      1      5   \n",
       "3    1999      1      1     08      2     01     01     UU      5      3   \n",
       "4    1999      1      1     08      2     01     01     UU      5      3   \n",
       "5    1999      1      1     17      2     03     QQ     QQ      1      2   \n",
       "6    1999      1      1     17      2     03     QQ     QQ      1      2   \n",
       "7    1999      1      1     17      2     03     QQ     QQ      1      2   \n",
       "\n",
       "  C_RALN C_TRAF V_ID V_TYPE V_YEAR P_ID P_SEX P_AGE P_PSN P_ISEV P_SAFE P_USER  \n",
       "0      3     03   01     06   1990   01     M    41    11      1     UU      1  \n",
       "1      3     03   02     01   1987   01     M    19    11      1     UU      1  \n",
       "2      3     03   02     01   1987   02     F    20    13      2     02      2  \n",
       "3      6     18   01     01   1986   01     M    46    11      1     UU      1  \n",
       "4      6     18   99     NN   NNNN   01     M    05    99      2     UU      3  \n",
       "5      1     01   01     01   1984   01     M    28    11      1     UU      1  \n",
       "6      1     01   02     01   1991   01     M    21    11      1     UU      1  \n",
       "7      1     01   02     01   1991   02     F    UU    13      2     UU      2  "
      ]
     },
     "execution_count": 4,
     "metadata": {},
     "output_type": "execute_result"
    }
   ],
   "source": [
    "df_pd_data = pd.read_csv(\"/Users/aitor/Desktop/Máster Ciencia de Datos/Aprendizaje automático/Machine-Learning/big_practice_data/NCDB_1999_to_2014.csv\")\n",
    "\n",
    "df_pd_data.head(8)"
   ]
  },
  {
   "cell_type": "markdown",
   "id": "766ee019",
   "metadata": {},
   "source": [
    "Observamos la clase de las variables que tiene nuestro dataset"
   ]
  },
  {
   "cell_type": "code",
   "execution_count": 5,
   "id": "b1b88295",
   "metadata": {
    "scrolled": false
   },
   "outputs": [
    {
     "data": {
      "text/plain": [
       "C_YEAR     int64\n",
       "C_MNTH    object\n",
       "C_WDAY    object\n",
       "C_HOUR    object\n",
       "C_SEV      int64\n",
       "C_VEHS    object\n",
       "C_CONF    object\n",
       "C_RCFG    object\n",
       "C_WTHR    object\n",
       "C_RSUR    object\n",
       "C_RALN    object\n",
       "C_TRAF    object\n",
       "V_ID      object\n",
       "V_TYPE    object\n",
       "V_YEAR    object\n",
       "P_ID      object\n",
       "P_SEX     object\n",
       "P_AGE     object\n",
       "P_PSN     object\n",
       "P_ISEV    object\n",
       "P_SAFE    object\n",
       "P_USER    object\n",
       "dtype: object"
      ]
     },
     "execution_count": 5,
     "metadata": {},
     "output_type": "execute_result"
    }
   ],
   "source": [
    "df_pd_data.dtypes"
   ]
  },
  {
   "cell_type": "markdown",
   "id": "df794f44",
   "metadata": {},
   "source": [
    "Mostramos las dimensiones del dataset con el que se va a trabajar"
   ]
  },
  {
   "cell_type": "code",
   "execution_count": 6,
   "id": "c5a0c837",
   "metadata": {
    "scrolled": true
   },
   "outputs": [
    {
     "name": "stdout",
     "output_type": "stream",
     "text": [
      "Las dimensiones del dataset que vamos a analizar son 5860405 x 22\n"
     ]
    }
   ],
   "source": [
    "print(\"Las dimensiones del dataset que vamos a analizar son\", df_pd_data.shape[0], \"x\", df_pd_data.shape[1])"
   ]
  },
  {
   "cell_type": "markdown",
   "id": "628841c0",
   "metadata": {},
   "source": [
    "Comprobamos los valores únicos que hay en cada una de las columnas haciendo uso de la función *valores_unicos*. Si en una variable existen más de 'k' categóricas únicas, no te las muestra. Por lo tanto, elegimos un 'k' elevado para que nos enseñe todo. "
   ]
  },
  {
   "cell_type": "code",
   "execution_count": 7,
   "id": "066ed355",
   "metadata": {
    "scrolled": true
   },
   "outputs": [
    {
     "data": {
      "text/plain": [
       "{'C_YEAR': [1999,\n",
       "  2000,\n",
       "  2001,\n",
       "  2002,\n",
       "  2003,\n",
       "  2004,\n",
       "  2005,\n",
       "  2006,\n",
       "  2007,\n",
       "  2008,\n",
       "  2009,\n",
       "  2010,\n",
       "  2011,\n",
       "  2012,\n",
       "  2013,\n",
       "  2014],\n",
       " 'C_MNTH': [1,\n",
       "  2,\n",
       "  3,\n",
       "  4,\n",
       "  5,\n",
       "  6,\n",
       "  7,\n",
       "  8,\n",
       "  9,\n",
       "  10,\n",
       "  11,\n",
       "  12,\n",
       "  '12',\n",
       "  'UU',\n",
       "  '01',\n",
       "  '02',\n",
       "  '11'],\n",
       " 'C_WDAY': [1, 2, 3, 4, 5, 6, 7, '7', 'U', '1', '2', '3', '4', '5', '6'],\n",
       " 'C_HOUR': ['20',\n",
       "  '08',\n",
       "  '17',\n",
       "  '15',\n",
       "  '14',\n",
       "  '01',\n",
       "  '11',\n",
       "  '13',\n",
       "  '19',\n",
       "  '16',\n",
       "  '09',\n",
       "  '02',\n",
       "  '18',\n",
       "  '12',\n",
       "  '10',\n",
       "  '23',\n",
       "  '00',\n",
       "  '06',\n",
       "  '07',\n",
       "  '21',\n",
       "  'UU',\n",
       "  '05',\n",
       "  '22',\n",
       "  '03',\n",
       "  '04'],\n",
       " 'C_SEV': [2, 1],\n",
       " 'C_VEHS': ['02',\n",
       "  '01',\n",
       "  '03',\n",
       "  '04',\n",
       "  '06',\n",
       "  '07',\n",
       "  '09',\n",
       "  'UU',\n",
       "  '05',\n",
       "  '13',\n",
       "  '08',\n",
       "  '12',\n",
       "  '14',\n",
       "  '10',\n",
       "  '11',\n",
       "  '16',\n",
       "  1,\n",
       "  2,\n",
       "  3,\n",
       "  4,\n",
       "  5,\n",
       "  6,\n",
       "  8,\n",
       "  7,\n",
       "  12,\n",
       "  10,\n",
       "  '26',\n",
       "  '71',\n",
       "  19,\n",
       "  25,\n",
       "  9,\n",
       "  '21',\n",
       "  '27',\n",
       "  '15',\n",
       "  '35',\n",
       "  15,\n",
       "  13,\n",
       "  26,\n",
       "  '22',\n",
       "  '41',\n",
       "  27,\n",
       "  46,\n",
       "  31,\n",
       "  11,\n",
       "  '18',\n",
       "  18,\n",
       "  56,\n",
       "  '23',\n",
       "  36,\n",
       "  17,\n",
       "  14,\n",
       "  20,\n",
       "  21,\n",
       "  '19',\n",
       "  16,\n",
       "  '29',\n",
       "  '25',\n",
       "  77,\n",
       "  28,\n",
       "  38,\n",
       "  '38',\n",
       "  '17',\n",
       "  '32',\n",
       "  35,\n",
       "  22,\n",
       "  33,\n",
       "  '54',\n",
       "  72,\n",
       "  '40',\n",
       "  44,\n",
       "  58,\n",
       "  '30',\n",
       "  '77',\n",
       "  '20',\n",
       "  '24',\n",
       "  '34',\n",
       "  24,\n",
       "  nan,\n",
       "  39,\n",
       "  '51',\n",
       "  57,\n",
       "  43,\n",
       "  37],\n",
       " 'C_CONF': ['34',\n",
       "  '01',\n",
       "  'QQ',\n",
       "  '04',\n",
       "  '31',\n",
       "  '21',\n",
       "  '23',\n",
       "  '03',\n",
       "  '02',\n",
       "  '33',\n",
       "  'UU',\n",
       "  '24',\n",
       "  '35',\n",
       "  '41',\n",
       "  '06',\n",
       "  '32',\n",
       "  '36',\n",
       "  '05',\n",
       "  '22',\n",
       "  '25'],\n",
       " 'C_RCFG': ['UU',\n",
       "  'QQ',\n",
       "  '01',\n",
       "  '02',\n",
       "  '03',\n",
       "  '05',\n",
       "  '04',\n",
       "  '06',\n",
       "  '08',\n",
       "  '07',\n",
       "  '09',\n",
       "  '10'],\n",
       " 'C_WTHR': ['1', '5', '3', '4', '7', '2', 'U', '6', 'Q'],\n",
       " 'C_RSUR': ['5', '3', '2', '4', '1', '6', 'U', 'Q', '7', '9', '8'],\n",
       " 'C_RALN': ['3', '6', '1', 'U', '2', '5', '4', 'Q'],\n",
       " 'C_TRAF': ['03',\n",
       "  '18',\n",
       "  '01',\n",
       "  'UU',\n",
       "  '06',\n",
       "  '10',\n",
       "  '05',\n",
       "  '04',\n",
       "  '11',\n",
       "  'QQ',\n",
       "  '07',\n",
       "  '08',\n",
       "  '16',\n",
       "  '17',\n",
       "  '02',\n",
       "  '13',\n",
       "  '15',\n",
       "  '09',\n",
       "  '12'],\n",
       " 'V_ID': ['01',\n",
       "  '02',\n",
       "  '99',\n",
       "  '03',\n",
       "  '04',\n",
       "  'UU',\n",
       "  '05',\n",
       "  '06',\n",
       "  '07',\n",
       "  '08',\n",
       "  '09',\n",
       "  '10',\n",
       "  '11',\n",
       "  '12',\n",
       "  '13',\n",
       "  '14',\n",
       "  '15',\n",
       "  '16',\n",
       "  '17',\n",
       "  '18',\n",
       "  '19',\n",
       "  '20',\n",
       "  '21',\n",
       "  '22',\n",
       "  '23',\n",
       "  '24',\n",
       "  '25',\n",
       "  '26',\n",
       "  '27',\n",
       "  '28',\n",
       "  '29',\n",
       "  '30',\n",
       "  '31',\n",
       "  '32',\n",
       "  '33',\n",
       "  '34',\n",
       "  '35',\n",
       "  '36',\n",
       "  '37',\n",
       "  '38',\n",
       "  '39',\n",
       "  '40',\n",
       "  '41',\n",
       "  '42',\n",
       "  '43',\n",
       "  '44',\n",
       "  '45',\n",
       "  '46',\n",
       "  '47',\n",
       "  '48',\n",
       "  '49',\n",
       "  '50',\n",
       "  '51',\n",
       "  '52',\n",
       "  '53',\n",
       "  '54',\n",
       "  '55',\n",
       "  '56',\n",
       "  '57',\n",
       "  '58',\n",
       "  '59',\n",
       "  '60',\n",
       "  '61',\n",
       "  '62',\n",
       "  '63',\n",
       "  '64',\n",
       "  '65',\n",
       "  '66',\n",
       "  '67',\n",
       "  '68',\n",
       "  '69',\n",
       "  '70',\n",
       "  '71',\n",
       "  2,\n",
       "  1,\n",
       "  99,\n",
       "  3,\n",
       "  4,\n",
       "  5,\n",
       "  6,\n",
       "  7,\n",
       "  8,\n",
       "  9,\n",
       "  10,\n",
       "  11,\n",
       "  12,\n",
       "  13,\n",
       "  14,\n",
       "  15,\n",
       "  16,\n",
       "  17,\n",
       "  18,\n",
       "  19,\n",
       "  20,\n",
       "  21,\n",
       "  22,\n",
       "  23,\n",
       "  24,\n",
       "  25,\n",
       "  26,\n",
       "  27,\n",
       "  28,\n",
       "  29,\n",
       "  30,\n",
       "  31,\n",
       "  32,\n",
       "  33,\n",
       "  34,\n",
       "  35,\n",
       "  36,\n",
       "  37,\n",
       "  38,\n",
       "  39,\n",
       "  40,\n",
       "  41,\n",
       "  '72',\n",
       "  '73',\n",
       "  '74',\n",
       "  '83',\n",
       "  '85',\n",
       "  '86',\n",
       "  '75',\n",
       "  '76',\n",
       "  '77',\n",
       "  42,\n",
       "  43,\n",
       "  44,\n",
       "  45,\n",
       "  46,\n",
       "  47,\n",
       "  48,\n",
       "  49,\n",
       "  51,\n",
       "  52,\n",
       "  50,\n",
       "  53,\n",
       "  54,\n",
       "  55,\n",
       "  56,\n",
       "  57],\n",
       " 'V_TYPE': ['06',\n",
       "  '01',\n",
       "  'NN',\n",
       "  '11',\n",
       "  'UU',\n",
       "  '20',\n",
       "  '17',\n",
       "  '07',\n",
       "  '08',\n",
       "  'QQ',\n",
       "  '09',\n",
       "  '22',\n",
       "  '14',\n",
       "  '23',\n",
       "  '05',\n",
       "  '16',\n",
       "  '19',\n",
       "  '18',\n",
       "  '10',\n",
       "  '21'],\n",
       " 'V_YEAR': ['1990',\n",
       "  '1987',\n",
       "  '1986',\n",
       "  'NNNN',\n",
       "  '1984',\n",
       "  '1991',\n",
       "  '1992',\n",
       "  '1997',\n",
       "  '1993',\n",
       "  '1985',\n",
       "  '1988',\n",
       "  '1994',\n",
       "  '1995',\n",
       "  '1998',\n",
       "  '1989',\n",
       "  'UUUU',\n",
       "  '1996',\n",
       "  '1983',\n",
       "  '1999',\n",
       "  '1965',\n",
       "  '1977',\n",
       "  '1978',\n",
       "  '1968',\n",
       "  '1981',\n",
       "  '1979',\n",
       "  '1976',\n",
       "  '1972',\n",
       "  '2000',\n",
       "  '1982',\n",
       "  '1975',\n",
       "  '1973',\n",
       "  '1974',\n",
       "  '1980',\n",
       "  '1967',\n",
       "  '1970',\n",
       "  '1971',\n",
       "  '1962',\n",
       "  '1969',\n",
       "  '1966',\n",
       "  '1945',\n",
       "  '1963',\n",
       "  '1960',\n",
       "  '1950',\n",
       "  '1964',\n",
       "  '1959',\n",
       "  '1955',\n",
       "  '1958',\n",
       "  '1903',\n",
       "  '1909',\n",
       "  '1949',\n",
       "  '1923',\n",
       "  '1961',\n",
       "  '1914',\n",
       "  '1908',\n",
       "  '1953',\n",
       "  '1906',\n",
       "  '1939',\n",
       "  '1925',\n",
       "  '1948',\n",
       "  '1938',\n",
       "  '1907',\n",
       "  '1952',\n",
       "  '1904',\n",
       "  '1917',\n",
       "  '1912',\n",
       "  '1944',\n",
       "  '1956',\n",
       "  '1930',\n",
       "  '1931',\n",
       "  '1951',\n",
       "  '1946',\n",
       "  '1947',\n",
       "  '1957',\n",
       "  '1954',\n",
       "  '1943',\n",
       "  '1901',\n",
       "  '1937',\n",
       "  '1905',\n",
       "  '1935',\n",
       "  '1926',\n",
       "  '1941',\n",
       "  '1932',\n",
       "  '1920',\n",
       "  '1933',\n",
       "  '1919',\n",
       "  '1915',\n",
       "  '1929',\n",
       "  '1928',\n",
       "  '2001',\n",
       "  '1913',\n",
       "  '1940',\n",
       "  '1927',\n",
       "  '2002',\n",
       "  '1916',\n",
       "  '1942',\n",
       "  '1918',\n",
       "  '2003',\n",
       "  '1924',\n",
       "  '1922',\n",
       "  '1934',\n",
       "  '2004',\n",
       "  '2005',\n",
       "  '2006',\n",
       "  '2007',\n",
       "  '2008',\n",
       "  '1911',\n",
       "  '2009',\n",
       "  '2010',\n",
       "  '2011',\n",
       "  '1936',\n",
       "  '2012',\n",
       "  '1910',\n",
       "  '1921',\n",
       "  '2013',\n",
       "  '2014',\n",
       "  '2015'],\n",
       " 'P_ID': ['01',\n",
       "  '02',\n",
       "  '03',\n",
       "  '04',\n",
       "  '05',\n",
       "  '06',\n",
       "  'NN',\n",
       "  '07',\n",
       "  '08',\n",
       "  '09',\n",
       "  '10',\n",
       "  '11',\n",
       "  '12',\n",
       "  '13',\n",
       "  '14',\n",
       "  '15',\n",
       "  '16',\n",
       "  '17',\n",
       "  '18',\n",
       "  '19',\n",
       "  '20',\n",
       "  '21',\n",
       "  '22',\n",
       "  '23',\n",
       "  '24',\n",
       "  '25',\n",
       "  '26',\n",
       "  '27',\n",
       "  '28',\n",
       "  '29',\n",
       "  '30',\n",
       "  '31',\n",
       "  '32',\n",
       "  '33',\n",
       "  '34',\n",
       "  '35',\n",
       "  '36',\n",
       "  '37',\n",
       "  '38',\n",
       "  '39',\n",
       "  '40',\n",
       "  '41',\n",
       "  '42',\n",
       "  '43',\n",
       "  '44',\n",
       "  '45',\n",
       "  '46',\n",
       "  '47',\n",
       "  '48',\n",
       "  '49',\n",
       "  '50',\n",
       "  '51',\n",
       "  '52',\n",
       "  '53',\n",
       "  '54',\n",
       "  '55',\n",
       "  '56',\n",
       "  '57',\n",
       "  '58',\n",
       "  '59',\n",
       "  '60',\n",
       "  '61',\n",
       "  '62',\n",
       "  '63',\n",
       "  '64',\n",
       "  '65',\n",
       "  '66',\n",
       "  '67',\n",
       "  '68',\n",
       "  '69',\n",
       "  '70',\n",
       "  '71',\n",
       "  '72',\n",
       "  '73',\n",
       "  '74',\n",
       "  '75',\n",
       "  '76',\n",
       "  '77',\n",
       "  '78',\n",
       "  '79',\n",
       "  '80',\n",
       "  '81',\n",
       "  '82',\n",
       "  '83',\n",
       "  '84',\n",
       "  '85',\n",
       "  '86',\n",
       "  '87',\n",
       "  '88',\n",
       "  '89',\n",
       "  '90',\n",
       "  '91',\n",
       "  '92',\n",
       "  '93',\n",
       "  '94',\n",
       "  '95',\n",
       "  'UU',\n",
       "  '99'],\n",
       " 'P_SEX': ['M', 'F', 'U', 'N'],\n",
       " 'P_AGE': ['41',\n",
       "  '19',\n",
       "  '20',\n",
       "  '46',\n",
       "  '05',\n",
       "  '28',\n",
       "  '21',\n",
       "  'UU',\n",
       "  '61',\n",
       "  '56',\n",
       "  '34',\n",
       "  '22',\n",
       "  '30',\n",
       "  '49',\n",
       "  '32',\n",
       "  '31',\n",
       "  '68',\n",
       "  '08',\n",
       "  '45',\n",
       "  '17',\n",
       "  '33',\n",
       "  '82',\n",
       "  '39',\n",
       "  '37',\n",
       "  '55',\n",
       "  '38',\n",
       "  '43',\n",
       "  '35',\n",
       "  '23',\n",
       "  '25',\n",
       "  '65',\n",
       "  '44',\n",
       "  '36',\n",
       "  '70',\n",
       "  '50',\n",
       "  '40',\n",
       "  '27',\n",
       "  '26',\n",
       "  '15',\n",
       "  '53',\n",
       "  '16',\n",
       "  '13',\n",
       "  '14',\n",
       "  '12',\n",
       "  '18',\n",
       "  '77',\n",
       "  '86',\n",
       "  '42',\n",
       "  '24',\n",
       "  '47',\n",
       "  '62',\n",
       "  '06',\n",
       "  '57',\n",
       "  '83',\n",
       "  '74',\n",
       "  '67',\n",
       "  '51',\n",
       "  '29',\n",
       "  '01',\n",
       "  '02',\n",
       "  '54',\n",
       "  '71',\n",
       "  '10',\n",
       "  '79',\n",
       "  '63',\n",
       "  '58',\n",
       "  '48',\n",
       "  '60',\n",
       "  '07',\n",
       "  '64',\n",
       "  '75',\n",
       "  '52',\n",
       "  '85',\n",
       "  '93',\n",
       "  '92',\n",
       "  '69',\n",
       "  '72',\n",
       "  '11',\n",
       "  '59',\n",
       "  '09',\n",
       "  '66',\n",
       "  '76',\n",
       "  '73',\n",
       "  '04',\n",
       "  '78',\n",
       "  '80',\n",
       "  '84',\n",
       "  '03',\n",
       "  '81',\n",
       "  '89',\n",
       "  '87',\n",
       "  '88',\n",
       "  '90',\n",
       "  'NN',\n",
       "  '91',\n",
       "  '95',\n",
       "  '97',\n",
       "  '94',\n",
       "  '99',\n",
       "  '98',\n",
       "  '96'],\n",
       " 'P_PSN': ['11',\n",
       "  '13',\n",
       "  '99',\n",
       "  '23',\n",
       "  '98',\n",
       "  '21',\n",
       "  '22',\n",
       "  '12',\n",
       "  'QQ',\n",
       "  '96',\n",
       "  '32',\n",
       "  'UU',\n",
       "  'NN',\n",
       "  '31',\n",
       "  '33',\n",
       "  '97'],\n",
       " 'P_ISEV': ['1', '2', '3', 'U', 'N'],\n",
       " 'P_SAFE': ['UU', '02', 'NN', '01', '13', '12', '09', 'QQ', '10', '11'],\n",
       " 'P_USER': ['1', '2', '3', 'U', '4', '5']}"
      ]
     },
     "execution_count": 7,
     "metadata": {},
     "output_type": "execute_result"
    }
   ],
   "source": [
    "valores_unicos(df_pd_data, k=150)"
   ]
  },
  {
   "cell_type": "markdown",
   "id": "b84bdc13",
   "metadata": {},
   "source": [
    "Verificamos la existencia de entradas de datos duplicadas. "
   ]
  },
  {
   "cell_type": "code",
   "execution_count": 8,
   "id": "e693b628",
   "metadata": {
    "scrolled": true
   },
   "outputs": [
    {
     "data": {
      "text/plain": [
       "5069"
      ]
     },
     "execution_count": 8,
     "metadata": {},
     "output_type": "execute_result"
    }
   ],
   "source": [
    "sum(df_pd_data.duplicated())"
   ]
  },
  {
   "cell_type": "markdown",
   "id": "103590d9",
   "metadata": {},
   "source": [
    "Después de haber visto de manera rápida el dataset, las modificaciones que llevaremos a cabo serán las siguientes:\n",
    "\n",
    "- Consideraremos C_SEV como nuestra variable target\n",
    "- Cabe destacar la siguiente información. Las filas del dataset indican accidentes de tráfico, pero para cada accidente de tráfico tenemos varias personas involucradas y por eso, para cada accidente aparecen varias filas. Esto es, dicho de otra forma, si en un coche iban un conductor y un copiloto y tienen un accidente, aparecerá no una fila sino que aparecerán dos, una por cada persona. Si ha habido algún fallecido en el accidente, esto aparecerá reflejado en todas las filas de las personas involucradas (en la variable C_SEV). Considerando esto, dado que nuestro objetivo es predecir si habrá o no fallecido, \"no nos importa\" si habrá 1, 2 o 5 vicitmas mortales, queremos tener un accidente por fila únicamente. Para poder hacer esto, dado que en todos los accidentes es involucrado un coche, filtraremos el dataset por la variable P_PSN, la cual nos indica la posición de la persona en el accidente. Lo filtraremos por el valor \"11\" ya que este valor indica que se trata del conductor.\n",
    "- Trataremos los valores U, UU, UUU, UUUU (Unknown) como valores missing.\n",
    "- Las columnas C_MNTH, C_HOUR, C_WDAY, C_VEHS, V_YEAR y P_AGE las transformaremos a numéricas.\n",
    "    - Dado que C_MNTH, C_HOUR, C_WDAY son variables temporales, no podremos aplicarles propiedades numéricas directamente ya que estaríamos diciendo por ejemplo que domingo es más grande que lunes y eso carece de sentido. Es por ello que, posteriormente, transformaremos dichas columnas en cíclicas considerando las transformaciones del seno y coseno. Luego, por cada una de estas columnas, tendremos dos nuevas, la componente seno y la componente coseno. (Tipo float)\n",
    "    - Las demás columnas serán transformadas a numéricas de tipo entero.\n",
    "- Comprobaremos si existen datos objetivamente incorrectos o que carezcan de senido y los eliminaremos.    \n",
    "- Tras ejecutar la función valores_unicos observamos quetenemos datos diferentes pero aparentemente iguales (véase el diccionario de valores únicos de la línea 13 de código). Por ejemplo en la variable C_MNTH tenemos los valores \"12\" y 12, los cuales son iguales pero en términos informáticos no lo son. Es por ello que deberemos considerar que todos los valores en los que ocurra esta caso son iguales.\n",
    "- Eliminaremos los datos que estén duplicados y eliminaremos también aquellos datos que \"no tengan sentido\" o inncesarios (Esto se entenderá mejor más adelante)\n",
    "- Por último, relizaremos una serie de agrupaciones en cada variable según los distintos valores que pueda tomar. Teniendo en  cuenta su distribución respecto a nuestra variable objetivo y la similitud que puedan tener cada una de las categorías posibles.  "
   ]
  },
  {
   "cell_type": "markdown",
   "id": "f415ae2a",
   "metadata": {},
   "source": [
    "En primer lugar. como hemos explicado anteriormente en las modificaciones que ibamos a realizar, nuestro objetivo es prededir si existen victimas mortales o no en caso de accidente, sin tener en cuenta el nº de posibles fallecidos. Para ello, nos interesa tener una única fila por cada accidente. De esta manera evitamos el uso de filas inncesarias en las que solo varían datos que no aportan información relevante. Filtraremos el dataset por la variable **P_PSN**, la cual nos indica la posición de la persona en el accidente. Lo filtraremos por el valor **\"11\"** ya que este valor indica la posición de conductor. Elegimos esta posición puesto que siempre hay al menos un conductor (sea del vehículo que sea) involucrado en cualquier colisión. "
   ]
  },
  {
   "cell_type": "code",
   "execution_count": 9,
   "id": "cb6b9efa",
   "metadata": {},
   "outputs": [],
   "source": [
    "df_pd_data = df_pd_data[df_pd_data[\"P_PSN\"]==\"11\"]"
   ]
  },
  {
   "cell_type": "markdown",
   "id": "5d55fc6f",
   "metadata": {},
   "source": [
    "## Modificaciones en el dataset"
   ]
  },
  {
   "cell_type": "markdown",
   "id": "b0a7cca1",
   "metadata": {},
   "source": [
    "#### Cambiamos los valores \"U\", \"UU\", \"UUU\" y \"UUUU\" (Unknown) por NaN"
   ]
  },
  {
   "cell_type": "code",
   "execution_count": 10,
   "id": "3c29dcee",
   "metadata": {},
   "outputs": [],
   "source": [
    "df_pd_data = df_pd_data.replace([\"UU\", \"U\", \"UUU\", \"UUUU\"], np.nan)"
   ]
  },
  {
   "cell_type": "markdown",
   "id": "673f0ea5",
   "metadata": {},
   "source": [
    "Ahora, vamos a ver cuantos valores **no nulos** hay en cada una de nuestras columnas mediante 'msno.bar'."
   ]
  },
  {
   "cell_type": "code",
   "execution_count": 11,
   "id": "0dd8a334",
   "metadata": {
    "scrolled": false
   },
   "outputs": [
    {
     "data": {
      "text/plain": [
       "<AxesSubplot:>"
      ]
     },
     "execution_count": 11,
     "metadata": {},
     "output_type": "execute_result"
    },
    {
     "data": {
      "image/png": "[encoded data removed]",
      "text/plain": [
       "<Figure size 1728x720 with 3 Axes>"
      ]
     },
     "metadata": {
      "needs_background": "light"
     },
     "output_type": "display_data"
    }
   ],
   "source": [
    "msno.bar(df_pd_data, filter=\"Top\", sort = 'ascending',  color = 'orange')"
   ]
  },
  {
   "cell_type": "markdown",
   "id": "e79594e5",
   "metadata": {},
   "source": [
    "Por otro lado, observamos qué porcentaje de **valores missing** tienen las columnas con las que trabajaremos"
   ]
  },
  {
   "cell_type": "code",
   "execution_count": 12,
   "id": "e6cb503e",
   "metadata": {
    "scrolled": false
   },
   "outputs": [
    {
     "data": {
      "text/plain": [
       "P_SAFE    0.11292\n",
       "C_RCFG    0.08528\n",
       "C_RALN    0.07083\n",
       "V_YEAR    0.06608\n",
       "P_AGE     0.05239\n",
       "P_SEX     0.03973\n",
       "C_TRAF    0.03842\n",
       "C_CONF    0.03332\n",
       "P_USER    0.01667\n",
       "C_WTHR    0.01475\n",
       "C_RSUR    0.01346\n",
       "C_HOUR    0.01031\n",
       "P_ISEV    0.00807\n",
       "V_TYPE    0.00657\n",
       "C_WDAY    0.00023\n",
       "C_VEHS    0.00009\n",
       "C_MNTH    0.00005\n",
       "V_ID      0.00002\n",
       "P_ID      0.00000\n",
       "C_SEV     0.00000\n",
       "P_PSN     0.00000\n",
       "C_YEAR    0.00000\n",
       "dtype: float64"
      ]
     },
     "execution_count": 12,
     "metadata": {},
     "output_type": "execute_result"
    }
   ],
   "source": [
    "np.round(df_pd_data.isnull().sum().sort_values(ascending=False)/df_pd_data.shape[0], 5)"
   ]
  },
  {
   "cell_type": "markdown",
   "id": "5c7da438",
   "metadata": {},
   "source": [
    "El mayor porcetanje de valores missing, perteneciente a la columna P_SAFE no supera el 12%."
   ]
  },
  {
   "cell_type": "markdown",
   "id": "c127ecab",
   "metadata": {},
   "source": [
    "#### Unificamos valores duplicados, pasamos las variables C_MNTH, C_WDAY, C_HOUR, C_VEHS, V_YEAR, P_AGE a numéricas y eliminamos filas repetidas"
   ]
  },
  {
   "cell_type": "markdown",
   "id": "b5ded7a0",
   "metadata": {},
   "source": [
    "A continuación, llamamos a la función *unificar* con el fin de modificar nuestro dataset unificando los valores \"repetidos\" (ej: 12, \"12\" = \"12\"). Por otra parte, transformar las columnas seleccionadas a númericas. A partir de ahora, los valores de nuestro dataset serán de la forma \"01\", \"02\" y así sucesivamente. "
   ]
  },
  {
   "cell_type": "code",
   "execution_count": 13,
   "id": "58ef2f1d",
   "metadata": {
    "scrolled": true
   },
   "outputs": [],
   "source": [
    "df_pd_data = unificar(df_pd_data, [\"C_MNTH\", \"C_WDAY\", \"C_HOUR\", \"C_VEHS\", \"V_YEAR\", \"P_AGE\"])"
   ]
  },
  {
   "cell_type": "markdown",
   "id": "99bb1779",
   "metadata": {},
   "source": [
    "Comprobamos el  nuevo número de filas duplicadas."
   ]
  },
  {
   "cell_type": "code",
   "execution_count": null,
   "id": "10d21a06",
   "metadata": {},
   "outputs": [],
   "source": [
    "sum(df_pd_data.duplicated())"
   ]
  },
  {
   "cell_type": "markdown",
   "id": "4f9fa336",
   "metadata": {},
   "source": [
    "Efectivamente, vemos que sí, y eliminamos dichas filas mediante *drop_duplicates()*"
   ]
  },
  {
   "cell_type": "code",
   "execution_count": null,
   "id": "1cf9e079",
   "metadata": {},
   "outputs": [],
   "source": [
    "df_pd_data = df_pd_data.drop_duplicates()"
   ]
  },
  {
   "cell_type": "code",
   "execution_count": null,
   "id": "1669abf1",
   "metadata": {},
   "outputs": [],
   "source": [
    "df_pd_data = df_pd_data.reset_index(drop=True)"
   ]
  },
  {
   "cell_type": "code",
   "execution_count": null,
   "id": "c7ac3b07",
   "metadata": {},
   "outputs": [],
   "source": [
    "df_pd_data"
   ]
  },
  {
   "cell_type": "markdown",
   "id": "dd8847ac",
   "metadata": {},
   "source": [
    "Las nuevas dimensiones del dataset son:"
   ]
  },
  {
   "cell_type": "code",
   "execution_count": null,
   "id": "e5cb531f",
   "metadata": {},
   "outputs": [],
   "source": [
    "print(\"Las dimensiones del dataset que vamos a analizar son\", df_pd_data.shape[0], \"x\", df_pd_data.shape[1])"
   ]
  },
  {
   "cell_type": "markdown",
   "id": "6e6996a1",
   "metadata": {},
   "source": [
    "Llamamos de nuevo a la función *valores_unicos* y comprobamos que ya **no** hay valores repetidos en nuestras columnas"
   ]
  },
  {
   "cell_type": "code",
   "execution_count": null,
   "id": "6c5d943c",
   "metadata": {
    "scrolled": true
   },
   "outputs": [],
   "source": [
    "valores_unicos(df_pd_data, k=150)"
   ]
  },
  {
   "cell_type": "markdown",
   "id": "46570783",
   "metadata": {},
   "source": [
    "Mostramos ahora las clases de las variables para ver que se han cambiado correctamente."
   ]
  },
  {
   "cell_type": "code",
   "execution_count": null,
   "id": "9e91d039",
   "metadata": {
    "scrolled": false
   },
   "outputs": [],
   "source": [
    "df_pd_data.dtypes"
   ]
  },
  {
   "cell_type": "markdown",
   "id": "cdc86240",
   "metadata": {},
   "source": [
    "#### Datos incorrectos"
   ]
  },
  {
   "cell_type": "markdown",
   "id": "a8f73252",
   "metadata": {},
   "source": [
    "Vamos a crear una variable en la que nos apoyaremos para tomar una decisión pero no la consideraremos para el análisis. Esta variable es diferencia e indicará los años que han pasado desde año del modelo del vehículo (V_YEAR) hasta el accidente. Lo que buscamos es que si alguna de las diferencias es menor que 0, eso querrá decir que el año del modelo del vehículo es mayor que el año del accidente. "
   ]
  },
  {
   "cell_type": "code",
   "execution_count": null,
   "id": "00cdc7b1",
   "metadata": {},
   "outputs": [],
   "source": [
    "df_pd_data[\"diferencia\"] = df_pd_data[\"C_YEAR\"]-df_pd_data[\"V_YEAR\"]"
   ]
  },
  {
   "cell_type": "markdown",
   "id": "da788f78",
   "metadata": {},
   "source": [
    "Para ver si tenemos valores negativos en la columna diferencia haremos uso de la función *valores_unicos*."
   ]
  },
  {
   "cell_type": "code",
   "execution_count": null,
   "id": "c62dbd53",
   "metadata": {
    "scrolled": true
   },
   "outputs": [],
   "source": [
    "valores_unicos(df_pd_data[[\"diferencia\"]], k=150)"
   ]
  },
  {
   "cell_type": "markdown",
   "id": "243630aa",
   "metadata": {},
   "source": [
    "Efectivamente, hay valores negativos (-1 y -2). Luego, eliminamos las filas el año de colisión es menor que el año del modelo del vehículo. Para ello crearemos un bucle el cual irá recorriendo los índices de la lista df_pd_data[diferencia]. En el momento que encuentre un valor que sea negativo y, además no sea nulo, entonces añadirá el ínidice de la fila a la lista de índices. Esto nos servirá para después hacer un .drop sobre todos los ínidices de las filas en las que eso ocurre."
   ]
  },
  {
   "cell_type": "code",
   "execution_count": null,
   "id": "c3c03d66",
   "metadata": {},
   "outputs": [],
   "source": [
    "list_indexes=list()\n",
    "for i in range(len(df_pd_data[\"diferencia\"])):\n",
    "    if not pd.isnull(df_pd_data[\"diferencia\"][i]) and df_pd_data[\"diferencia\"][i]<0:\n",
    "        list_indexes.append(i)"
   ]
  },
  {
   "cell_type": "markdown",
   "id": "f2d1995d",
   "metadata": {},
   "source": [
    "Veamos cuántos valores vamos a eliminar."
   ]
  },
  {
   "cell_type": "code",
   "execution_count": null,
   "id": "c961f9c2",
   "metadata": {},
   "outputs": [],
   "source": [
    "print(len(list_indexes))"
   ]
  },
  {
   "cell_type": "markdown",
   "id": "acb85ec1",
   "metadata": {},
   "source": [
    "Eliminamos tanto las filas calculadas como la columna diferencia, la cual ya no nos interesa para el análisis"
   ]
  },
  {
   "cell_type": "code",
   "execution_count": null,
   "id": "d4b4accd",
   "metadata": {},
   "outputs": [],
   "source": [
    "df_pd_data = df_pd_data.drop(labels=list_indexes, axis=0)"
   ]
  },
  {
   "cell_type": "code",
   "execution_count": null,
   "id": "3df9a812",
   "metadata": {},
   "outputs": [],
   "source": [
    "df_pd_data = df_pd_data.drop(labels= [\"diferencia\"], axis=1)"
   ]
  },
  {
   "cell_type": "markdown",
   "id": "037e91f6",
   "metadata": {},
   "source": [
    "#### Vamos a modificar las variables MNTH, WDAY y HOUR"
   ]
  },
  {
   "cell_type": "markdown",
   "id": "4a92b848",
   "metadata": {},
   "source": [
    "La idea de modificar estas variables es convertirlas en cíclias, es decir, que el día de la semana 7 y el día de la semana 1 estén cerca matemáticamente hablando. Si no hacemos esto estaremos asegurando que domingo es más grande que lunes y esto no tiene sentido. Es por ello que haremos uso de las funciones coseno y seno para codificar las variables mencionadas cíclicamente. Para ello, llamamos a la función codificacion_ciclica"
   ]
  },
  {
   "cell_type": "code",
   "execution_count": null,
   "id": "83c23176",
   "metadata": {},
   "outputs": [],
   "source": [
    "df_pd_data = codificacion_ciclica(df_pd_data, [\"C_MNTH\", \"C_WDAY\", \"C_HOUR\"])"
   ]
  },
  {
   "cell_type": "markdown",
   "id": "cb9a1043",
   "metadata": {},
   "source": [
    "A nuestro dataset se añadiran 6 columnas nuevas de tipo float correspondientes al seno y al coseno de cada una de las variables elegidas."
   ]
  },
  {
   "cell_type": "code",
   "execution_count": null,
   "id": "d25c1da5",
   "metadata": {},
   "outputs": [],
   "source": [
    "df_pd_data"
   ]
  },
  {
   "cell_type": "markdown",
   "id": "ab6096d6",
   "metadata": {},
   "source": [
    "A continuación mostramos un ejemplo de la codificación de la variable mes (C_MNTH) con una muestra de 40 datos. En el gráfico se observa claramente la forma cíclica de la variable. "
   ]
  },
  {
   "cell_type": "code",
   "execution_count": null,
   "id": "bcdc506a",
   "metadata": {
    "scrolled": false
   },
   "outputs": [],
   "source": [
    "df_selected = df_pd_data[[\"cos_C_MNTH\",\"sin_C_MNTH\"]].dropna().sample(40).sort_index()\n",
    "display(df_selected)\n",
    "\n",
    "fig = go.Figure()\n",
    "\n",
    "fig.add_trace(go.Scatter(x=df_selected[\"cos_C_MNTH\"], y=df_selected[\"sin_C_MNTH\"], mode=\"markers\"))\n",
    "\n",
    "fig.update_layout(xaxis = dict(title=\"cos_x\"),\n",
    "                  yaxis = dict(title=\"sin_x\", scaleanchor = \"x\", scaleratio = 1))\n",
    "\n",
    "fig.show()"
   ]
  },
  {
   "cell_type": "markdown",
   "id": "ab549911",
   "metadata": {},
   "source": [
    "Mostramos cuantos valores missing tenemos por cada columna para ver que después de todas las modificaciones realizadas. Verficamos que los valores missing siguen formando parte de nuestros datos."
   ]
  },
  {
   "cell_type": "code",
   "execution_count": null,
   "id": "06649922",
   "metadata": {},
   "outputs": [],
   "source": [
    "df_dtypes = pd.merge(df_pd_data.isnull().sum(axis = 0).sort_values().to_frame('missing_value').reset_index(),\n",
    "         df_pd_data.dtypes.to_frame('feature_type').reset_index(),\n",
    "         on = 'index',\n",
    "         how = 'inner')\n",
    "df_dtypes"
   ]
  },
  {
   "cell_type": "markdown",
   "id": "d5a76563",
   "metadata": {},
   "source": [
    "Mostramos un análisis descriptivo de **todas** las variables del dataset. Al tener pocas variables numéricas y muchos valores missing, no nos va a portar gran información."
   ]
  },
  {
   "cell_type": "code",
   "execution_count": null,
   "id": "a9679b05",
   "metadata": {
    "scrolled": false
   },
   "outputs": [],
   "source": [
    "df_pd_data.describe(include = \"all\")"
   ]
  },
  {
   "cell_type": "markdown",
   "id": "259728ad",
   "metadata": {},
   "source": [
    "Dada la gran cantidad de valores nulos, la mayoría de datos estadísticos son NaN"
   ]
  },
  {
   "cell_type": "markdown",
   "id": "c055962a",
   "metadata": {},
   "source": [
    "## Análisis de la variable objetivo"
   ]
  },
  {
   "cell_type": "markdown",
   "id": "f9a8888f",
   "metadata": {},
   "source": [
    "Atendemos a la distribución de la variable objetivo. Creamos un data frame en el que mostramos cuántos valores tenemos en cada clase de la variable objetivo y el porcentaje."
   ]
  },
  {
   "cell_type": "code",
   "execution_count": null,
   "id": "9ab86d2b",
   "metadata": {},
   "outputs": [],
   "source": [
    "pd_plot_csev = df_pd_data[\"C_SEV\"]\\\n",
    "               .value_counts(normalize=True)\\\n",
    "               .mul(100).rename(\"Porcentaje\").reset_index()\n",
    "\n",
    "pd_plot_csev_conteo = df_pd_data[\"C_SEV\"].value_counts().reset_index()\n",
    "pd_plot_csev_pc = pd.merge(pd_plot_csev, pd_plot_csev_conteo, on =[\"index\"], how=\"inner\")\n",
    "pd_plot_csev_pc"
   ]
  },
  {
   "cell_type": "markdown",
   "id": "f93c4f86",
   "metadata": {},
   "source": [
    "Mostramos gráficamente la distribución de la variable objetivo"
   ]
  },
  {
   "cell_type": "code",
   "execution_count": null,
   "id": "ee9a61be",
   "metadata": {
    "scrolled": false
   },
   "outputs": [],
   "source": [
    "fig = px.histogram(pd_plot_csev_pc, x=\"index\", y=[\"Porcentaje\"])\n",
    "fig.show()"
   ]
  },
  {
   "cell_type": "markdown",
   "id": "8e899b7e",
   "metadata": {},
   "source": [
    "Como podemos observar, más del 98% de los datos de nuestra variable Taget corresponde a la categoría \"02\" = Ningún fallecido. A la hora de realizar el modelo tendremos que tener en cuenta esta distribución dado que el dataset esta desbalanceado"
   ]
  },
  {
   "cell_type": "markdown",
   "id": "54bdc833",
   "metadata": {},
   "source": [
    "#### Distribución respecto a otras variables"
   ]
  },
  {
   "cell_type": "markdown",
   "id": "977439fd",
   "metadata": {},
   "source": [
    "Distribución de la variable objetivo en función de otras variables del dataset."
   ]
  },
  {
   "cell_type": "markdown",
   "id": "11351673",
   "metadata": {},
   "source": [
    "Realizamos la distribución de nuestra variable objetivo respecto aquellas variables que consideramos más importantes para analizar."
   ]
  },
  {
   "cell_type": "markdown",
   "id": "845c6feb",
   "metadata": {},
   "source": [
    "**C_SEV ~ C_WDAY**"
   ]
  },
  {
   "cell_type": "code",
   "execution_count": null,
   "id": "40587804",
   "metadata": {
    "scrolled": false
   },
   "outputs": [],
   "source": [
    "pd_data_copia = df_pd_data[:]\n",
    "pd_data_copia['fatal']=np.where(df_pd_data['C_SEV']==1,1,0)\n",
    "pd_data_copia['non_fatal']=np.where(df_pd_data['C_SEV']==2,1,0)\n",
    "\n",
    "df1 = pd_data_copia.groupby('C_WDAY')['fatal','non_fatal'].sum()\n",
    "df1"
   ]
  },
  {
   "cell_type": "markdown",
   "id": "fe2d0580",
   "metadata": {},
   "source": [
    "**C_SEV ~ C_HOUR**"
   ]
  },
  {
   "cell_type": "code",
   "execution_count": null,
   "id": "8223cf65",
   "metadata": {},
   "outputs": [],
   "source": [
    "pd_data_copia_3 = df_pd_data[:]\n",
    "pd_data_copia_3['fatal']=np.where(df_pd_data['C_SEV']==1,1,0)\n",
    "pd_data_copia_3['non_fatal']=np.where(df_pd_data['C_SEV']==2,1,0)\n",
    "\n",
    "df3 = pd_data_copia_3.groupby('C_HOUR')['fatal','non_fatal'].sum()\n",
    "df3"
   ]
  },
  {
   "cell_type": "markdown",
   "id": "b0fe9f01",
   "metadata": {},
   "source": [
    "**C_SEV ~ C_MNTH**"
   ]
  },
  {
   "cell_type": "code",
   "execution_count": null,
   "id": "648487f3",
   "metadata": {},
   "outputs": [],
   "source": [
    "pd_data_copia_4 = df_pd_data[:]\n",
    "pd_data_copia_4['fatal']=np.where(df_pd_data['C_SEV']==1,1,0)\n",
    "pd_data_copia_4['non_fatal']=np.where(df_pd_data['C_SEV']==2,1,0)\n",
    "\n",
    "df4 = pd_data_copia_4.groupby('C_MNTH')['fatal','non_fatal'].sum()\n",
    "df4"
   ]
  },
  {
   "cell_type": "markdown",
   "id": "529b94cd",
   "metadata": {},
   "source": [
    "**C_SEV ~ C_CONF**"
   ]
  },
  {
   "cell_type": "code",
   "execution_count": null,
   "id": "b0c07908",
   "metadata": {},
   "outputs": [],
   "source": [
    "pd_data_copia_2 = df_pd_data[:]\n",
    "pd_data_copia_2['fatal']=np.where(df_pd_data['C_SEV']==1,1,0)\n",
    "pd_data_copia_2['non_fatal']=np.where(df_pd_data['C_SEV']==2,1,0)\n",
    "\n",
    "df2 = pd_data_copia_2.groupby('C_CONF')['fatal','non_fatal'].sum()\n",
    "df2"
   ]
  },
  {
   "cell_type": "markdown",
   "id": "0a721718",
   "metadata": {},
   "source": [
    "**C_SEV ~ C_WTHR**"
   ]
  },
  {
   "cell_type": "code",
   "execution_count": null,
   "id": "28e851e9",
   "metadata": {},
   "outputs": [],
   "source": [
    "pd_data_copia_5 = df_pd_data[:]\n",
    "pd_data_copia_5['fatal']=np.where(df_pd_data['C_SEV']==1,1,0)\n",
    "pd_data_copia_5['non_fatal']=np.where(df_pd_data['C_SEV']==2,1,0)\n",
    "\n",
    "df5 = pd_data_copia_5.groupby('C_WTHR')['fatal','non_fatal'].sum()\n",
    "df5"
   ]
  },
  {
   "cell_type": "markdown",
   "id": "6d265582",
   "metadata": {},
   "source": [
    "### Gráficos de distribuciones de las variables"
   ]
  },
  {
   "cell_type": "markdown",
   "id": "553899e7",
   "metadata": {},
   "source": [
    "Realizamos un gráfico de barras para analizar la distribución de las la variable objetivo en función del resto de variables. \n",
    "Para ello, llamamos a la función *graf_barras*. \n",
    "El gráfico nos mosotrara la distriubción de cada una de las variables a la izquierda. A la derecha, la distribución de la variable target en función de cada una de las variables."
   ]
  },
  {
   "cell_type": "markdown",
   "id": "8529e0a9",
   "metadata": {},
   "source": [
    "Elimminamos las colummnas de seno y coseno creadas anteriormente para realizar el plot en cuestión."
   ]
  },
  {
   "cell_type": "code",
   "execution_count": null,
   "id": "809263ea",
   "metadata": {},
   "outputs": [],
   "source": [
    "columnas = df_pd_data.drop([\"sin_C_HOUR\", \"cos_C_HOUR\", \"sin_C_WDAY\", \"cos_C_WDAY\", \"cos_C_MNTH\", \"sin_C_MNTH\"], axis=1).columns"
   ]
  },
  {
   "cell_type": "code",
   "execution_count": null,
   "id": "017e1fbf",
   "metadata": {
    "scrolled": false
   },
   "outputs": [],
   "source": [
    "for i in list(columnas):\n",
    "    if (df_pd_data[i].dtype==float) & (i!='C_SEV'):\n",
    "        graf_barras(df_pd_data, columna=i, isContinuous=True, var_objetivo='C_SEV')\n",
    "    elif  i!='C_SEV':\n",
    "        graf_barras(df_pd_data, columna=i, isContinuous=False, var_objetivo='C_SEV')"
   ]
  },
  {
   "cell_type": "markdown",
   "id": "49fedee4",
   "metadata": {},
   "source": [
    "Gracias a estos gráficos podemos conocer la distribución de cada una de las variables, el número de valores nulos existentes en cada una de ellas y el comportamiento de nuestra variable objetivo respecto a cada valor tomado por la variable en cuestión. \n",
    "Como se puede observar, en la mayoría de variables a excepción de aquellas relacionadas con la fecha de colisión, la distribución predomina para unos pocos valores. Algunas disitribuciones las comentaremos posteriormente. \n",
    "Por otro lado, como ya habiamos desmostrado con anterioridad para una inmensa mayoría de valores predomina el valor 2 de nuestra variable objetivo, correspondiente a ningún fallecido. A modo de excepción, podemos apreciar como \n",
    "es lógico, que cuando la variable P_ISEV (Intervención médica) toma el valor 03(Fallecimiento en el acto) corresponden a accidentes en los que según nuestra variable target ha tenido lugar al menos un fallecimiento (2)"
   ]
  },
  {
   "cell_type": "markdown",
   "id": "62566d3e",
   "metadata": {},
   "source": [
    "Mostramos el gráfico de correlaciones de las variables númericas."
   ]
  },
  {
   "cell_type": "code",
   "execution_count": null,
   "id": "4a22d6dd",
   "metadata": {},
   "outputs": [],
   "source": [
    "num_data = df_pd_data.select_dtypes(include=[\"Int64\", \"int64\",\"Float64\"]).columns"
   ]
  },
  {
   "cell_type": "code",
   "execution_count": null,
   "id": "745c4849",
   "metadata": {},
   "outputs": [],
   "source": [
    "numerico= df_pd_data[num_data]"
   ]
  },
  {
   "cell_type": "code",
   "execution_count": null,
   "id": "7ebddc79",
   "metadata": {},
   "outputs": [],
   "source": [
    "corr = numerico.corr(method = 'spearman')"
   ]
  },
  {
   "cell_type": "code",
   "execution_count": null,
   "id": "a900e4d4",
   "metadata": {
    "scrolled": false
   },
   "outputs": [],
   "source": [
    "plt.figure(figsize = (10, 8))\n",
    "sns.heatmap(corr.abs(), cmap ='viridis')\n",
    "plt.show()"
   ]
  },
  {
   "cell_type": "markdown",
   "id": "ce737d4f",
   "metadata": {},
   "source": [
    "### Filtrado, descartado y agrupación de datos para DATASET FINAL  "
   ]
  },
  {
   "cell_type": "markdown",
   "id": "346a3953",
   "metadata": {},
   "source": [
    "Una vez realizado el filtrado sobre nuestro dataset, decidimos hacer una selección de columnas con las que trabajaremos para llevar a cabo el modelo final.  \n",
    "\n",
    "Hemos descartado todas las columnas correspondientes a elementos de vehículos y de personas. Es decir, todas las colummnas que contienen información sobre los vehículos involucrados (V_ ...) y personas (P_ ...) quedan excluidas de nuestro conjunto de datos final. Esta exclusión se debe a que, como se ha indicado en la definición del problema, nuestro modelo tratará de predecir si hay fallecimientos o no en el momento exacto en el que se produce un accidente. \n",
    "\n",
    "Esto significa que toda la información conocida después de ese instante, es información que no conocemos. Hasta que se produce una investigación, datos como el año del modelo del vehículo, o si ha sido necesaria intervención medica, o bien cualquier otro tipo de información descripitiva, son datos desconocidos para nosotros. \n",
    "\n",
    "En el momento en el que se produce una colisión solo se tiene información acerca de aquello que este relacionado directamente con la colisión,  como puede ser la configuaración de la carretera o el número de vehiculos involucrados, o bien datos .... como la fecha o las condiciones climáticas.\n",
    "\n",
    "\n",
    "Por otra parte, al transformar las variables C_MNTH, C_WDAY y C_HOUR a cíclicas nos quedamos con aquellas columnas correspondientes a dicha transformación (seno y coseno) y eliminamos de nuestro dataset las columnas originales."
   ]
  },
  {
   "cell_type": "code",
   "execution_count": null,
   "id": "28137f10",
   "metadata": {
    "scrolled": false
   },
   "outputs": [],
   "source": [
    "list_subset_columns = ['C_YEAR', 'cos_C_MNTH', \"sin_C_MNTH\", 'cos_C_WDAY', \"sin_C_WDAY\", \"cos_C_HOUR\", 'sin_C_HOUR',\n",
    "               'C_SEV', 'C_VEHS', 'C_CONF', 'C_RCFG', 'C_WTHR', 'C_RSUR', 'C_RALN', 'C_TRAF']\n",
    "df_subset_pd_data = df_pd_data[list_subset_columns]\n",
    "df_subset_pd_data"
   ]
  },
  {
   "cell_type": "markdown",
   "id": "06bf8b7c",
   "metadata": {},
   "source": [
    "Distribución normalizada"
   ]
  },
  {
   "cell_type": "code",
   "execution_count": null,
   "id": "a58cbd08",
   "metadata": {
    "scrolled": false
   },
   "outputs": [],
   "source": [
    "categorical = ['C_CONF', 'C_RCFG', 'C_WTHR', 'C_RSUR', 'C_RALN', 'C_TRAF']\n",
    "\n",
    "fig, axes = plt.subplots(3, 2, figsize=(20, 20), sharey=False)\n",
    "fig.suptitle('Categorial Values by Severity (normalized)')\n",
    "\n",
    "i = 0\n",
    "j = 0\n",
    "for cat in categorical:\n",
    "    temp = norm_category(df = df_subset_pd_data, obj_val = 'C_SEV', cat_val = cat)\n",
    "    sns.barplot(data = temp, x = cat, y = 'group%', hue = 'C_SEV', ax = axes[i,j]);\n",
    "    if (j == 0): \n",
    "        j = 1\n",
    "    else:\n",
    "        j = 0\n",
    "        i += 1"
   ]
  },
  {
   "cell_type": "markdown",
   "id": "b0b02bab",
   "metadata": {},
   "source": [
    "Por último, tras haber realizado los descartes y con nuestro dataset ya filtrado prodecemos a realizar una agrupación de nuestros datos en función de cada variable y su distribución respecto a la variable objetivo, con el fin de reducir el número de categorias para que el modelo trabaje de forma más eficiente. \n",
    "\n",
    "En el caso de la variable C_CONF(Configuarción de la colisión) hemos agrupado las posibles opciones de la variable en 4 categorías correspondientes a la cantidad y la dirección de los vehículos involucrados. *(Vease diccionario de datos)*\n",
    "\n",
    "Para la variable C_WTHR(Clima) realizamos la agrupación mediante una distinción entre clima favorable para la conducción y clima adverso. Como se observa en eñ gráfico previamente mostrado, la mayoría de colisiones tienen lugar en la categoría 01 de la variable, correspondiente un día despejado y soleado. *(Vease diccionario de datos)*\n",
    "\n",
    "En la columna C_RALN(Alineación de la carretera) como se aprecia en la distibución respecto a la variable objetivo, la mayoría de accidentes tienen lugar en carreteras rectas, sin curvas ni pendientes (01), por lo tanto hemos agrupado la variable en dos categorías: carretera recta y sin pendiente y por otro lado carretera con curvas, pendiente etc. *(Vease diccionario de datos)*\n",
    "\n",
    "En La variable C_SUR(Superficie) hemos realizado una distinción en dos grupos. Uno correspondiente a escensarios en los que la carretera está seca, en estado normal, cuando se producen la mayoria de colisiones si observamos la distribución (01) y un segundo grupo, el cual corresponde a escenarios donde la carretera se encuentra mojada, nevada etc.  *(Vease diccionario de datos)*\n",
    "\n",
    "En el caso de la variable C_TRAF(Tráfico) hemos realizado una agrupación según lo observado en las dsitribuciones. Por una parte mantenemos aquellos casos en el que las señales de trafico funcionan con completa normalidad (01), y por otro lado, una distinción para los casos en los que no existe nigún tipo de control (18 en el dataset original) y aquellos escenarios donde ciertas reestricciones como pasos de cebra, colegios infantiles cerca etc.  *(Vease diccionario de datos)*\n",
    "\n",
    "La última agrupación la realizamos sobre la variable C_RCFG(Configuración de la carretera). Hemos distinguido dos grupos dentro de las categorias existentes. Una selección corresponde a carreteras sin nigún tipo de intersección, y el segundo grupo, a aquellas carreteras o localizaciones en las existan intersecciones, o cualquier otro tipo de elemento que altere la carretera, túneles, puentes, raíles etc.  *(Vease diccionario de datos)*\n",
    " \n"
   ]
  },
  {
   "cell_type": "markdown",
   "id": "242b8825",
   "metadata": {},
   "source": [
    "Realizamos las agrupaciones correspondientes para cada variable"
   ]
  },
  {
   "cell_type": "code",
   "execution_count": null,
   "id": "e229dff0",
   "metadata": {},
   "outputs": [],
   "source": [
    "df_subset_pd_data[\"C_CONF\"] = df_subset_pd_data[\"C_CONF\"].replace([\"01\", \"02\", \"03\", \"04\", \"05\", \"06\"], \"01\")\n",
    "df_subset_pd_data[\"C_CONF\"] = df_subset_pd_data[\"C_CONF\"].replace([\"21\", \"22\", \"23\", \"24\", \"25\"], \"02\")\n",
    "df_subset_pd_data[\"C_CONF\"] = df_subset_pd_data[\"C_CONF\"].replace([\"31\", \"32\", \"33\", \"34\", \"35\", \"36\"], \"03\")\n",
    "df_subset_pd_data[\"C_CONF\"] = df_subset_pd_data[\"C_CONF\"].replace([\"41\"], \"04\")"
   ]
  },
  {
   "cell_type": "code",
   "execution_count": null,
   "id": "d76d3b2b",
   "metadata": {},
   "outputs": [],
   "source": [
    "df_subset_pd_data[\"C_WTHR\"] = df_subset_pd_data[\"C_WTHR\"].replace([\"02\", \"03\", \"04\", \"05\", \"06\", \"07\"], \"02\")"
   ]
  },
  {
   "cell_type": "code",
   "execution_count": null,
   "id": "e289a7b2",
   "metadata": {},
   "outputs": [],
   "source": [
    "df_subset_pd_data[\"C_RALN\"] = df_subset_pd_data[\"C_RALN\"].replace([\"02\", \"03\", \"04\", \"05\", \"06\"], \"02\")"
   ]
  },
  {
   "cell_type": "code",
   "execution_count": null,
   "id": "524ac691",
   "metadata": {},
   "outputs": [],
   "source": [
    "df_subset_pd_data[\"C_RSUR\"] = df_subset_pd_data[\"C_RSUR\"].replace([\"02\", \"03\", \"04\", \"05\", \"06\", \"07\", \"08\", \"09\"], \"02\")"
   ]
  },
  {
   "cell_type": "code",
   "execution_count": null,
   "id": "b1be72f4",
   "metadata": {},
   "outputs": [],
   "source": [
    "df_subset_pd_data[\"C_TRAF\"] = df_subset_pd_data[\"C_TRAF\"].replace([\"03\", \"04\", \"05\", \"06\", \"07\", \"08\", \"09\", \"10\", \n",
    "                                              \"11\", \"12\", \"13\", \"14\", \"15\", \"16\", \"17\"], \"02\")\n",
    "df_subset_pd_data[\"C_TRAF\"] = df_subset_pd_data[\"C_TRAF\"].replace([\"01\", \"02\"], \"01\")\n",
    "df_subset_pd_data[\"C_TRAF\"] = df_subset_pd_data[\"C_TRAF\"].replace([\"18\"], \"03\")"
   ]
  },
  {
   "cell_type": "code",
   "execution_count": null,
   "id": "cdaa7b52",
   "metadata": {},
   "outputs": [],
   "source": [
    "df_subset_pd_data[\"C_RCFG\"] = df_subset_pd_data[\"C_RCFG\"].replace([\"02\", \"03\", \"04\", \"05\", \"06\", \"07\", \"08\", \"09\", \"10\"], \"02\")"
   ]
  },
  {
   "cell_type": "markdown",
   "id": "728cc668",
   "metadata": {},
   "source": [
    "Mostramos los valores únicos que nos quedan en cada una de las columnas. Se puede observar como se ha reducido notablemente el número de categorias posibles en cada una de las variables transformadas."
   ]
  },
  {
   "cell_type": "code",
   "execution_count": null,
   "id": "98f320b9",
   "metadata": {
    "scrolled": false
   },
   "outputs": [],
   "source": [
    "valores_unicos(df_subset_pd_data[['C_CONF', 'C_RCFG', 'C_WTHR', 'C_RSUR', 'C_RALN', 'C_TRAF']])"
   ]
  },
  {
   "cell_type": "markdown",
   "id": "7db88132",
   "metadata": {},
   "source": [
    "Introducimos una variable aleatoria con el fin de evaluar de manera más precisa la importancia de las variables. Es decir, a la hora de interpretar la importancia de las variables en nuestro modelo final, aquellas cuya significación esté por debajo de la variable aleatoria creada significará que no aportan información a nuestro modelo de predicción. "
   ]
  },
  {
   "cell_type": "code",
   "execution_count": null,
   "id": "5c411dd8",
   "metadata": {},
   "outputs": [],
   "source": [
    "df_subset_pd_data[\"Random\"]=np.random.randint(100, size=df_subset_pd_data.shape[0])"
   ]
  },
  {
   "cell_type": "markdown",
   "id": "e0084e1f",
   "metadata": {},
   "source": [
    "Mostramos a continuación, el dataset final con el que evaluaremos los modelos"
   ]
  },
  {
   "cell_type": "code",
   "execution_count": null,
   "id": "f555b36f",
   "metadata": {
    "scrolled": false
   },
   "outputs": [],
   "source": [
    "df_subset_pd_data"
   ]
  },
  {
   "cell_type": "markdown",
   "id": "a68a9d3f",
   "metadata": {},
   "source": [
    "Guardamos el dataset en formato parquet para posteriores usos."
   ]
  },
  {
   "cell_type": "code",
   "execution_count": null,
   "id": "e356e381",
   "metadata": {},
   "outputs": [],
   "source": [
    "table = pa.Table.from_pandas(pd_data, preserve_index=False)"
   ]
  },
  {
   "cell_type": "code",
   "execution_count": null,
   "id": "be73324d",
   "metadata": {},
   "outputs": [],
   "source": [
    "pq.write_table(table, '/Users/aitor/Desktop/Máster Ciencia de Datos/Aprendizaje automático/Machine-Learning/big practice_data/pd_data.parquet')"
   ]
  }
 ],
 "metadata": {
  "kernelspec": {
   "display_name": "Python [conda env:ML_big_practice]",
   "language": "python",
   "name": "conda-env-ML_big_practice-py"
  },
  "language_info": {
   "codemirror_mode": {
    "name": "ipython",
    "version": 3
   },
   "file_extension": ".py",
   "mimetype": "text/x-python",
   "name": "python",
   "nbconvert_exporter": "python",
   "pygments_lexer": "ipython3",
   "version": "3.9.7"
  }
 },
 "nbformat": 4,
 "nbformat_minor": 5
}
