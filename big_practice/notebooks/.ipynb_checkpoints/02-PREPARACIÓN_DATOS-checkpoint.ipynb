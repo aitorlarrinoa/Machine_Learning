{
 "cells": [
  {
   "cell_type": "markdown",
   "id": "2f8b9112",
   "metadata": {},
   "source": [
    "# ANÁLISIS DE SINIESTRALIDAD"
   ]
  },
  {
   "cell_type": "markdown",
   "id": "50b3b778",
   "metadata": {},
   "source": [
    "### CUNEF MUCD (2021/22)"
   ]
  },
  {
   "cell_type": "markdown",
   "id": "57937ff4",
   "metadata": {},
   "source": [
    "- Aitor Larriona Rementería\n",
    "- Diego Cendán Bedregal"
   ]
  },
  {
   "cell_type": "markdown",
   "id": "69660d5d",
   "metadata": {},
   "source": [
    "## LIBRERÍAS"
   ]
  },
  {
   "cell_type": "markdown",
   "id": "4ae3f39a",
   "metadata": {},
   "source": [
    "Librerías básicas"
   ]
  },
  {
   "cell_type": "code",
   "execution_count": 2,
   "id": "f6b8f859",
   "metadata": {},
   "outputs": [],
   "source": [
    "import pandas as pd\n",
    "import matplotlib.pyplot as plt\n",
    "import numpy as np\n",
    "import missingno as msno\n",
    "import seaborn as sns\n",
    "import plotly.express as px\n",
    "from statistics import mode, multimode\n",
    "import time\n",
    "import sklearn\n",
    "import warnings\n",
    "import scikitplot as skplt\n",
    "import statsmodels.api as sapi\n",
    "\n",
    "pd.set_option('display.max_columns', 30)\n",
    "pd.set_option('display.max_rows', 5000)"
   ]
  },
  {
   "cell_type": "markdown",
   "id": "a6d22a15",
   "metadata": {},
   "source": [
    "Librerías para codificar variables categóricas"
   ]
  },
  {
   "cell_type": "code",
   "execution_count": 3,
   "id": "0b7a0a50",
   "metadata": {},
   "outputs": [],
   "source": [
    "import category_encoders as ce\n",
    "from category_encoders.target_encoder import TargetEncoder"
   ]
  },
  {
   "cell_type": "markdown",
   "id": "8178eb3c",
   "metadata": {},
   "source": [
    "Librerías para oversampling"
   ]
  },
  {
   "cell_type": "code",
   "execution_count": 4,
   "id": "a41db832",
   "metadata": {},
   "outputs": [],
   "source": [
    "from imblearn.over_sampling import SMOTE"
   ]
  },
  {
   "cell_type": "code",
   "execution_count": 5,
   "id": "d51062e5",
   "metadata": {},
   "outputs": [],
   "source": [
    "from sklearn.preprocessing import StandardScaler, OneHotEncoder"
   ]
  },
  {
   "cell_type": "markdown",
   "id": "42795697",
   "metadata": {},
   "source": [
    "Librerías para separar en train y test"
   ]
  },
  {
   "cell_type": "code",
   "execution_count": 6,
   "id": "1bb26eba",
   "metadata": {},
   "outputs": [],
   "source": [
    "from sklearn.model_selection import train_test_split\n",
    "from sklearn.preprocessing import LabelEncoder"
   ]
  },
  {
   "cell_type": "markdown",
   "id": "2e5a41f7",
   "metadata": {},
   "source": [
    "Importamos el pipeline y pickle (para guardar los modelos)"
   ]
  },
  {
   "cell_type": "code",
   "execution_count": 10,
   "id": "0252929f",
   "metadata": {},
   "outputs": [],
   "source": [
    "from sklearn.pipeline import Pipeline\n",
    "from sklearn.impute import SimpleImputer\n",
    "from sklearn.compose import ColumnTransformer\n",
    "import pickle"
   ]
  },
  {
   "cell_type": "code",
   "execution_count": 11,
   "id": "dda5d94d",
   "metadata": {},
   "outputs": [],
   "source": [
    "import pyarrow.parquet as pq\n",
    "import pyarrow as pa"
   ]
  },
  {
   "cell_type": "markdown",
   "id": "6fa21b73",
   "metadata": {},
   "source": [
    "Importamos también las funciones necesarias en este notebook del notebook de funciones 00."
   ]
  },
  {
   "cell_type": "code",
   "execution_count": 12,
   "id": "0575f1ae",
   "metadata": {
    "scrolled": true
   },
   "outputs": [],
   "source": [
    "import import_ipynb"
   ]
  },
  {
   "cell_type": "code",
   "execution_count": 13,
   "id": "0de1aa85",
   "metadata": {},
   "outputs": [
    {
     "name": "stdout",
     "output_type": "stream",
     "text": [
      "importing Jupyter notebook from FUNCIONES.ipynb\n"
     ]
    }
   ],
   "source": [
    "from FUNCIONES import valores_unicos"
   ]
  },
  {
   "cell_type": "markdown",
   "id": "916636e1",
   "metadata": {},
   "source": [
    "## Lectura y modificación de los datos"
   ]
  },
  {
   "cell_type": "markdown",
   "id": "043436c4",
   "metadata": {},
   "source": [
    "Lectura de la tabla .parquet que hemos creado en el notebook *01_EDA*"
   ]
  },
  {
   "cell_type": "markdown",
   "id": "e5134630",
   "metadata": {},
   "source": [
    "**Importante:** Antes de utilizar el formato parquet, se ha utilizado también la opción de escribir un csv. Sin embargo, esta opción distorsionaba los datos y no correspondían las clases del data frame pd_data en *01_EDA* con las clases del data frame que cargábamos en este notebook. Por ello, se ha optado por el formato parquet"
   ]
  },
  {
   "cell_type": "code",
   "execution_count": 19,
   "id": "1b01c1c5",
   "metadata": {},
   "outputs": [],
   "source": [
    "table = pq.read_table('/Users/aitor/Desktop/Máster Ciencia de Datos/Aprendizaje automático/Machine-Learning/big practice_data/pd_data.parquet')"
   ]
  },
  {
   "cell_type": "code",
   "execution_count": 20,
   "id": "14b571a8",
   "metadata": {
    "scrolled": false
   },
   "outputs": [
    {
     "data": {
      "text/html": [
       "<div>\n",
       "<style scoped>\n",
       "    .dataframe tbody tr th:only-of-type {\n",
       "        vertical-align: middle;\n",
       "    }\n",
       "\n",
       "    .dataframe tbody tr th {\n",
       "        vertical-align: top;\n",
       "    }\n",
       "\n",
       "    .dataframe thead th {\n",
       "        text-align: right;\n",
       "    }\n",
       "</style>\n",
       "<table border=\"1\" class=\"dataframe\">\n",
       "  <thead>\n",
       "    <tr style=\"text-align: right;\">\n",
       "      <th></th>\n",
       "      <th>C_YEAR</th>\n",
       "      <th>cos_C_MNTH</th>\n",
       "      <th>sin_C_MNTH</th>\n",
       "      <th>cos_C_WDAY</th>\n",
       "      <th>sin_C_WDAY</th>\n",
       "      <th>cos_C_HOUR</th>\n",
       "      <th>sin_C_HOUR</th>\n",
       "      <th>C_SEV</th>\n",
       "      <th>C_VEHS</th>\n",
       "      <th>C_CONF</th>\n",
       "      <th>C_RCFG</th>\n",
       "      <th>C_WTHR</th>\n",
       "      <th>C_RSUR</th>\n",
       "      <th>C_RALN</th>\n",
       "      <th>C_TRAF</th>\n",
       "      <th>Random</th>\n",
       "    </tr>\n",
       "  </thead>\n",
       "  <tbody>\n",
       "    <tr>\n",
       "      <th>0</th>\n",
       "      <td>1999</td>\n",
       "      <td>0.866025</td>\n",
       "      <td>0.5</td>\n",
       "      <td>0.62349</td>\n",
       "      <td>0.781831</td>\n",
       "      <td>0.682553</td>\n",
       "      <td>-0.730836</td>\n",
       "      <td>2</td>\n",
       "      <td>2</td>\n",
       "      <td>03</td>\n",
       "      <td>None</td>\n",
       "      <td>01</td>\n",
       "      <td>02</td>\n",
       "      <td>02</td>\n",
       "      <td>01</td>\n",
       "      <td>7</td>\n",
       "    </tr>\n",
       "    <tr>\n",
       "      <th>1</th>\n",
       "      <td>1999</td>\n",
       "      <td>0.866025</td>\n",
       "      <td>0.5</td>\n",
       "      <td>0.62349</td>\n",
       "      <td>0.781831</td>\n",
       "      <td>0.682553</td>\n",
       "      <td>-0.730836</td>\n",
       "      <td>2</td>\n",
       "      <td>2</td>\n",
       "      <td>03</td>\n",
       "      <td>None</td>\n",
       "      <td>01</td>\n",
       "      <td>02</td>\n",
       "      <td>02</td>\n",
       "      <td>01</td>\n",
       "      <td>1</td>\n",
       "    </tr>\n",
       "    <tr>\n",
       "      <th>2</th>\n",
       "      <td>1999</td>\n",
       "      <td>0.866025</td>\n",
       "      <td>0.5</td>\n",
       "      <td>0.62349</td>\n",
       "      <td>0.781831</td>\n",
       "      <td>-0.57668</td>\n",
       "      <td>0.81697</td>\n",
       "      <td>2</td>\n",
       "      <td>1</td>\n",
       "      <td>01</td>\n",
       "      <td>None</td>\n",
       "      <td>02</td>\n",
       "      <td>02</td>\n",
       "      <td>02</td>\n",
       "      <td>03</td>\n",
       "      <td>68</td>\n",
       "    </tr>\n",
       "    <tr>\n",
       "      <th>3</th>\n",
       "      <td>1999</td>\n",
       "      <td>0.866025</td>\n",
       "      <td>0.5</td>\n",
       "      <td>0.62349</td>\n",
       "      <td>0.781831</td>\n",
       "      <td>-0.068242</td>\n",
       "      <td>-0.997669</td>\n",
       "      <td>2</td>\n",
       "      <td>3</td>\n",
       "      <td>QQ</td>\n",
       "      <td>QQ</td>\n",
       "      <td>01</td>\n",
       "      <td>02</td>\n",
       "      <td>01</td>\n",
       "      <td>01</td>\n",
       "      <td>62</td>\n",
       "    </tr>\n",
       "    <tr>\n",
       "      <th>4</th>\n",
       "      <td>1999</td>\n",
       "      <td>0.866025</td>\n",
       "      <td>0.5</td>\n",
       "      <td>0.62349</td>\n",
       "      <td>0.781831</td>\n",
       "      <td>-0.068242</td>\n",
       "      <td>-0.997669</td>\n",
       "      <td>2</td>\n",
       "      <td>3</td>\n",
       "      <td>QQ</td>\n",
       "      <td>QQ</td>\n",
       "      <td>01</td>\n",
       "      <td>02</td>\n",
       "      <td>01</td>\n",
       "      <td>01</td>\n",
       "      <td>16</td>\n",
       "    </tr>\n",
       "    <tr>\n",
       "      <th>...</th>\n",
       "      <td>...</td>\n",
       "      <td>...</td>\n",
       "      <td>...</td>\n",
       "      <td>...</td>\n",
       "      <td>...</td>\n",
       "      <td>...</td>\n",
       "      <td>...</td>\n",
       "      <td>...</td>\n",
       "      <td>...</td>\n",
       "      <td>...</td>\n",
       "      <td>...</td>\n",
       "      <td>...</td>\n",
       "      <td>...</td>\n",
       "      <td>...</td>\n",
       "      <td>...</td>\n",
       "      <td>...</td>\n",
       "    </tr>\n",
       "    <tr>\n",
       "      <th>3902109</th>\n",
       "      <td>2014</td>\n",
       "      <td>&lt;NA&gt;</td>\n",
       "      <td>&lt;NA&gt;</td>\n",
       "      <td>&lt;NA&gt;</td>\n",
       "      <td>&lt;NA&gt;</td>\n",
       "      <td>&lt;NA&gt;</td>\n",
       "      <td>&lt;NA&gt;</td>\n",
       "      <td>2</td>\n",
       "      <td>&lt;NA&gt;</td>\n",
       "      <td>None</td>\n",
       "      <td>01</td>\n",
       "      <td>None</td>\n",
       "      <td>None</td>\n",
       "      <td>None</td>\n",
       "      <td>None</td>\n",
       "      <td>72</td>\n",
       "    </tr>\n",
       "    <tr>\n",
       "      <th>3902110</th>\n",
       "      <td>2014</td>\n",
       "      <td>&lt;NA&gt;</td>\n",
       "      <td>&lt;NA&gt;</td>\n",
       "      <td>&lt;NA&gt;</td>\n",
       "      <td>&lt;NA&gt;</td>\n",
       "      <td>&lt;NA&gt;</td>\n",
       "      <td>&lt;NA&gt;</td>\n",
       "      <td>2</td>\n",
       "      <td>&lt;NA&gt;</td>\n",
       "      <td>None</td>\n",
       "      <td>01</td>\n",
       "      <td>None</td>\n",
       "      <td>None</td>\n",
       "      <td>None</td>\n",
       "      <td>None</td>\n",
       "      <td>42</td>\n",
       "    </tr>\n",
       "    <tr>\n",
       "      <th>3902111</th>\n",
       "      <td>2014</td>\n",
       "      <td>&lt;NA&gt;</td>\n",
       "      <td>&lt;NA&gt;</td>\n",
       "      <td>&lt;NA&gt;</td>\n",
       "      <td>&lt;NA&gt;</td>\n",
       "      <td>&lt;NA&gt;</td>\n",
       "      <td>&lt;NA&gt;</td>\n",
       "      <td>2</td>\n",
       "      <td>&lt;NA&gt;</td>\n",
       "      <td>None</td>\n",
       "      <td>01</td>\n",
       "      <td>None</td>\n",
       "      <td>None</td>\n",
       "      <td>None</td>\n",
       "      <td>None</td>\n",
       "      <td>97</td>\n",
       "    </tr>\n",
       "    <tr>\n",
       "      <th>3902112</th>\n",
       "      <td>2014</td>\n",
       "      <td>&lt;NA&gt;</td>\n",
       "      <td>&lt;NA&gt;</td>\n",
       "      <td>&lt;NA&gt;</td>\n",
       "      <td>&lt;NA&gt;</td>\n",
       "      <td>&lt;NA&gt;</td>\n",
       "      <td>&lt;NA&gt;</td>\n",
       "      <td>2</td>\n",
       "      <td>&lt;NA&gt;</td>\n",
       "      <td>None</td>\n",
       "      <td>01</td>\n",
       "      <td>None</td>\n",
       "      <td>None</td>\n",
       "      <td>None</td>\n",
       "      <td>None</td>\n",
       "      <td>71</td>\n",
       "    </tr>\n",
       "    <tr>\n",
       "      <th>3902113</th>\n",
       "      <td>2014</td>\n",
       "      <td>&lt;NA&gt;</td>\n",
       "      <td>&lt;NA&gt;</td>\n",
       "      <td>&lt;NA&gt;</td>\n",
       "      <td>&lt;NA&gt;</td>\n",
       "      <td>-0.775711</td>\n",
       "      <td>-0.631088</td>\n",
       "      <td>2</td>\n",
       "      <td>1</td>\n",
       "      <td>01</td>\n",
       "      <td>01</td>\n",
       "      <td>01</td>\n",
       "      <td>02</td>\n",
       "      <td>02</td>\n",
       "      <td>03</td>\n",
       "      <td>35</td>\n",
       "    </tr>\n",
       "  </tbody>\n",
       "</table>\n",
       "<p>3902114 rows × 16 columns</p>\n",
       "</div>"
      ],
      "text/plain": [
       "         C_YEAR  cos_C_MNTH  sin_C_MNTH  cos_C_WDAY  sin_C_WDAY  cos_C_HOUR  \\\n",
       "0          1999    0.866025         0.5     0.62349    0.781831    0.682553   \n",
       "1          1999    0.866025         0.5     0.62349    0.781831    0.682553   \n",
       "2          1999    0.866025         0.5     0.62349    0.781831    -0.57668   \n",
       "3          1999    0.866025         0.5     0.62349    0.781831   -0.068242   \n",
       "4          1999    0.866025         0.5     0.62349    0.781831   -0.068242   \n",
       "...         ...         ...         ...         ...         ...         ...   \n",
       "3902109    2014        <NA>        <NA>        <NA>        <NA>        <NA>   \n",
       "3902110    2014        <NA>        <NA>        <NA>        <NA>        <NA>   \n",
       "3902111    2014        <NA>        <NA>        <NA>        <NA>        <NA>   \n",
       "3902112    2014        <NA>        <NA>        <NA>        <NA>        <NA>   \n",
       "3902113    2014        <NA>        <NA>        <NA>        <NA>   -0.775711   \n",
       "\n",
       "         sin_C_HOUR  C_SEV  C_VEHS C_CONF C_RCFG C_WTHR C_RSUR C_RALN C_TRAF  \\\n",
       "0         -0.730836      2       2     03   None     01     02     02     01   \n",
       "1         -0.730836      2       2     03   None     01     02     02     01   \n",
       "2           0.81697      2       1     01   None     02     02     02     03   \n",
       "3         -0.997669      2       3     QQ     QQ     01     02     01     01   \n",
       "4         -0.997669      2       3     QQ     QQ     01     02     01     01   \n",
       "...             ...    ...     ...    ...    ...    ...    ...    ...    ...   \n",
       "3902109        <NA>      2    <NA>   None     01   None   None   None   None   \n",
       "3902110        <NA>      2    <NA>   None     01   None   None   None   None   \n",
       "3902111        <NA>      2    <NA>   None     01   None   None   None   None   \n",
       "3902112        <NA>      2    <NA>   None     01   None   None   None   None   \n",
       "3902113   -0.631088      2       1     01     01     01     02     02     03   \n",
       "\n",
       "         Random  \n",
       "0             7  \n",
       "1             1  \n",
       "2            68  \n",
       "3            62  \n",
       "4            16  \n",
       "...         ...  \n",
       "3902109      72  \n",
       "3902110      42  \n",
       "3902111      97  \n",
       "3902112      71  \n",
       "3902113      35  \n",
       "\n",
       "[3902114 rows x 16 columns]"
      ]
     },
     "execution_count": 20,
     "metadata": {},
     "output_type": "execute_result"
    }
   ],
   "source": [
    "df_pd_data = table.to_pandas()\n",
    "df_pd_data"
   ]
  },
  {
   "cell_type": "markdown",
   "id": "054232e3",
   "metadata": {},
   "source": [
    "Comprobemos ahora que la clase de las variables es correcto y que no ha habido modificaciones de ningún tipo"
   ]
  },
  {
   "cell_type": "code",
   "execution_count": 21,
   "id": "e75f702e",
   "metadata": {
    "scrolled": false
   },
   "outputs": [
    {
     "data": {
      "text/plain": [
       "C_YEAR          int64\n",
       "cos_C_MNTH    Float64\n",
       "sin_C_MNTH    Float64\n",
       "cos_C_WDAY    Float64\n",
       "sin_C_WDAY    Float64\n",
       "cos_C_HOUR    Float64\n",
       "sin_C_HOUR    Float64\n",
       "C_SEV           int64\n",
       "C_VEHS          Int64\n",
       "C_CONF         object\n",
       "C_RCFG         object\n",
       "C_WTHR         object\n",
       "C_RSUR         object\n",
       "C_RALN         object\n",
       "C_TRAF         object\n",
       "Random          int64\n",
       "dtype: object"
      ]
     },
     "execution_count": 21,
     "metadata": {},
     "output_type": "execute_result"
    }
   ],
   "source": [
    "df_pd_data.dtypes"
   ]
  },
  {
   "cell_type": "markdown",
   "id": "111ec0df",
   "metadata": {},
   "source": [
    "Nuestro objetivo es predecir si habrá o no muertos en un accidente de tráfico. Es por ello mismo que nos quedaremos con todos los datos relacionados con las colisiones. En otras palabras,"
   ]
  },
  {
   "cell_type": "code",
   "execution_count": 22,
   "id": "49904b7d",
   "metadata": {},
   "outputs": [
    {
     "data": {
      "text/plain": [
       "{'C_YEAR': [1999,\n",
       "  2000,\n",
       "  2001,\n",
       "  2002,\n",
       "  2003,\n",
       "  2004,\n",
       "  2005,\n",
       "  2006,\n",
       "  2007,\n",
       "  2008,\n",
       "  2009,\n",
       "  2010,\n",
       "  2011,\n",
       "  2012,\n",
       "  2013,\n",
       "  2014],\n",
       " 'cos_C_MNTH': [0.8660254037844387,\n",
       "  0.5000000000000001,\n",
       "  6.123233995736766e-17,\n",
       "  -0.4999999999999998,\n",
       "  -0.8660254037844387,\n",
       "  -1.0,\n",
       "  -0.8660254037844388,\n",
       "  -0.5000000000000004,\n",
       "  -1.8369701987210297e-16,\n",
       "  0.5,\n",
       "  0.8660254037844384,\n",
       "  1.0,\n",
       "  <NA>],\n",
       " 'sin_C_MNTH': [0.49999999999999994,\n",
       "  0.8660254037844386,\n",
       "  1.0,\n",
       "  0.8660254037844388,\n",
       "  1.2246467991473532e-16,\n",
       "  -0.4999999999999998,\n",
       "  -0.8660254037844384,\n",
       "  -1.0,\n",
       "  -0.8660254037844386,\n",
       "  -0.5000000000000004,\n",
       "  -2.4492935982947064e-16,\n",
       "  <NA>],\n",
       " 'cos_C_WDAY': [0.6234898018587336,\n",
       "  -0.22252093395631434,\n",
       "  -0.900968867902419,\n",
       "  -0.9009688679024191,\n",
       "  -0.2225209339563146,\n",
       "  0.6234898018587334,\n",
       "  1.0,\n",
       "  <NA>],\n",
       " 'sin_C_WDAY': [0.7818314824680297,\n",
       "  0.9749279121818236,\n",
       "  0.43388373911755823,\n",
       "  -0.433883739117558,\n",
       "  -0.9749279121818235,\n",
       "  -0.7818314824680299,\n",
       "  -2.4492935982947064e-16,\n",
       "  <NA>],\n",
       " 'cos_C_HOUR': [0.6825531432186541,\n",
       "  -0.576680322114867,\n",
       "  -0.06824241336467046,\n",
       "  -0.5766803221148673,\n",
       "  -0.7757112907044198,\n",
       "  0.9629172873477994,\n",
       "  -0.9906859460363306,\n",
       "  -0.9172113015054529,\n",
       "  0.4600650377311516,\n",
       "  -0.3348796121709864,\n",
       "  -0.7757112907044197,\n",
       "  0.8544194045464886,\n",
       "  0.20345601305263328,\n",
       "  -0.9906859460363308,\n",
       "  -0.917211301505453,\n",
       "  1.0,\n",
       "  -0.06824241336467089,\n",
       "  -0.33487961217098616,\n",
       "  <NA>,\n",
       "  0.20345601305263375,\n",
       "  0.962917287347799,\n",
       "  0.46006503773115215],\n",
       " 'sin_C_HOUR': [-0.730835964278124,\n",
       "  0.8169698930104421,\n",
       "  -0.9976687691905393,\n",
       "  -0.8169698930104419,\n",
       "  -0.6310879443260529,\n",
       "  0.2697967711570243,\n",
       "  0.13616664909624707,\n",
       "  -0.39840108984624156,\n",
       "  -0.8878852184023756,\n",
       "  -0.9422609221188204,\n",
       "  0.631087944326053,\n",
       "  0.5195839500354336,\n",
       "  -0.979084087682323,\n",
       "  -0.13616664909624643,\n",
       "  0.3984010898462414,\n",
       "  -2.4492935982947064e-16,\n",
       "  0.0,\n",
       "  0.9976687691905392,\n",
       "  0.9422609221188205,\n",
       "  -0.5195839500354336,\n",
       "  <NA>,\n",
       "  0.9790840876823229,\n",
       "  -0.2697967711570252,\n",
       "  0.730835964278124,\n",
       "  0.8878852184023752],\n",
       " 'C_SEV': [2, 1],\n",
       " 'C_CONF': ['03', '01', 'QQ', '02', None, '04'],\n",
       " 'C_RCFG': [None, 'QQ', '01', '02'],\n",
       " 'C_WTHR': ['01', '02', None, 'Q'],\n",
       " 'C_RSUR': ['02', '01', None, 'Q'],\n",
       " 'C_RALN': ['02', '01', None, 'Q'],\n",
       " 'C_TRAF': ['01', '03', None, 'QQ']}"
      ]
     },
     "execution_count": 22,
     "metadata": {},
     "output_type": "execute_result"
    }
   ],
   "source": [
    "valores_unicos(df_pd_data)"
   ]
  },
  {
   "cell_type": "markdown",
   "id": "b051dede",
   "metadata": {},
   "source": [
    "---"
   ]
  },
  {
   "cell_type": "markdown",
   "id": "20e49751",
   "metadata": {},
   "source": [
    "## Separación en train y test"
   ]
  },
  {
   "cell_type": "markdown",
   "id": "d033af34",
   "metadata": {},
   "source": [
    "Eliminamos la variable objetivo C_SEV y creamos el data frame X. Por otro lado, con la variable C_SEV únicamente, creamos el objeto Y que representará nuestra variable target"
   ]
  },
  {
   "cell_type": "code",
   "execution_count": 23,
   "id": "4b4ca618",
   "metadata": {},
   "outputs": [],
   "source": [
    "X = df_pd_data.drop([\"C_SEV\"], axis = 1)\n",
    "Y = df_pd_data.C_SEV"
   ]
  },
  {
   "cell_type": "markdown",
   "id": "8af82b8c",
   "metadata": {},
   "source": [
    "Mostramos el data frame X"
   ]
  },
  {
   "cell_type": "code",
   "execution_count": 24,
   "id": "b639bc4e",
   "metadata": {},
   "outputs": [
    {
     "data": {
      "text/html": [
       "<div>\n",
       "<style scoped>\n",
       "    .dataframe tbody tr th:only-of-type {\n",
       "        vertical-align: middle;\n",
       "    }\n",
       "\n",
       "    .dataframe tbody tr th {\n",
       "        vertical-align: top;\n",
       "    }\n",
       "\n",
       "    .dataframe thead th {\n",
       "        text-align: right;\n",
       "    }\n",
       "</style>\n",
       "<table border=\"1\" class=\"dataframe\">\n",
       "  <thead>\n",
       "    <tr style=\"text-align: right;\">\n",
       "      <th></th>\n",
       "      <th>C_YEAR</th>\n",
       "      <th>cos_C_MNTH</th>\n",
       "      <th>sin_C_MNTH</th>\n",
       "      <th>cos_C_WDAY</th>\n",
       "      <th>sin_C_WDAY</th>\n",
       "      <th>cos_C_HOUR</th>\n",
       "      <th>sin_C_HOUR</th>\n",
       "      <th>C_VEHS</th>\n",
       "      <th>C_CONF</th>\n",
       "      <th>C_RCFG</th>\n",
       "      <th>C_WTHR</th>\n",
       "      <th>C_RSUR</th>\n",
       "      <th>C_RALN</th>\n",
       "      <th>C_TRAF</th>\n",
       "      <th>Random</th>\n",
       "    </tr>\n",
       "  </thead>\n",
       "  <tbody>\n",
       "    <tr>\n",
       "      <th>0</th>\n",
       "      <td>1999</td>\n",
       "      <td>0.866025</td>\n",
       "      <td>0.5</td>\n",
       "      <td>0.62349</td>\n",
       "      <td>0.781831</td>\n",
       "      <td>0.682553</td>\n",
       "      <td>-0.730836</td>\n",
       "      <td>2</td>\n",
       "      <td>03</td>\n",
       "      <td>None</td>\n",
       "      <td>01</td>\n",
       "      <td>02</td>\n",
       "      <td>02</td>\n",
       "      <td>01</td>\n",
       "      <td>7</td>\n",
       "    </tr>\n",
       "    <tr>\n",
       "      <th>1</th>\n",
       "      <td>1999</td>\n",
       "      <td>0.866025</td>\n",
       "      <td>0.5</td>\n",
       "      <td>0.62349</td>\n",
       "      <td>0.781831</td>\n",
       "      <td>0.682553</td>\n",
       "      <td>-0.730836</td>\n",
       "      <td>2</td>\n",
       "      <td>03</td>\n",
       "      <td>None</td>\n",
       "      <td>01</td>\n",
       "      <td>02</td>\n",
       "      <td>02</td>\n",
       "      <td>01</td>\n",
       "      <td>1</td>\n",
       "    </tr>\n",
       "    <tr>\n",
       "      <th>2</th>\n",
       "      <td>1999</td>\n",
       "      <td>0.866025</td>\n",
       "      <td>0.5</td>\n",
       "      <td>0.62349</td>\n",
       "      <td>0.781831</td>\n",
       "      <td>-0.57668</td>\n",
       "      <td>0.81697</td>\n",
       "      <td>1</td>\n",
       "      <td>01</td>\n",
       "      <td>None</td>\n",
       "      <td>02</td>\n",
       "      <td>02</td>\n",
       "      <td>02</td>\n",
       "      <td>03</td>\n",
       "      <td>68</td>\n",
       "    </tr>\n",
       "    <tr>\n",
       "      <th>3</th>\n",
       "      <td>1999</td>\n",
       "      <td>0.866025</td>\n",
       "      <td>0.5</td>\n",
       "      <td>0.62349</td>\n",
       "      <td>0.781831</td>\n",
       "      <td>-0.068242</td>\n",
       "      <td>-0.997669</td>\n",
       "      <td>3</td>\n",
       "      <td>QQ</td>\n",
       "      <td>QQ</td>\n",
       "      <td>01</td>\n",
       "      <td>02</td>\n",
       "      <td>01</td>\n",
       "      <td>01</td>\n",
       "      <td>62</td>\n",
       "    </tr>\n",
       "    <tr>\n",
       "      <th>4</th>\n",
       "      <td>1999</td>\n",
       "      <td>0.866025</td>\n",
       "      <td>0.5</td>\n",
       "      <td>0.62349</td>\n",
       "      <td>0.781831</td>\n",
       "      <td>-0.068242</td>\n",
       "      <td>-0.997669</td>\n",
       "      <td>3</td>\n",
       "      <td>QQ</td>\n",
       "      <td>QQ</td>\n",
       "      <td>01</td>\n",
       "      <td>02</td>\n",
       "      <td>01</td>\n",
       "      <td>01</td>\n",
       "      <td>16</td>\n",
       "    </tr>\n",
       "    <tr>\n",
       "      <th>...</th>\n",
       "      <td>...</td>\n",
       "      <td>...</td>\n",
       "      <td>...</td>\n",
       "      <td>...</td>\n",
       "      <td>...</td>\n",
       "      <td>...</td>\n",
       "      <td>...</td>\n",
       "      <td>...</td>\n",
       "      <td>...</td>\n",
       "      <td>...</td>\n",
       "      <td>...</td>\n",
       "      <td>...</td>\n",
       "      <td>...</td>\n",
       "      <td>...</td>\n",
       "      <td>...</td>\n",
       "    </tr>\n",
       "    <tr>\n",
       "      <th>3902109</th>\n",
       "      <td>2014</td>\n",
       "      <td>&lt;NA&gt;</td>\n",
       "      <td>&lt;NA&gt;</td>\n",
       "      <td>&lt;NA&gt;</td>\n",
       "      <td>&lt;NA&gt;</td>\n",
       "      <td>&lt;NA&gt;</td>\n",
       "      <td>&lt;NA&gt;</td>\n",
       "      <td>&lt;NA&gt;</td>\n",
       "      <td>None</td>\n",
       "      <td>01</td>\n",
       "      <td>None</td>\n",
       "      <td>None</td>\n",
       "      <td>None</td>\n",
       "      <td>None</td>\n",
       "      <td>72</td>\n",
       "    </tr>\n",
       "    <tr>\n",
       "      <th>3902110</th>\n",
       "      <td>2014</td>\n",
       "      <td>&lt;NA&gt;</td>\n",
       "      <td>&lt;NA&gt;</td>\n",
       "      <td>&lt;NA&gt;</td>\n",
       "      <td>&lt;NA&gt;</td>\n",
       "      <td>&lt;NA&gt;</td>\n",
       "      <td>&lt;NA&gt;</td>\n",
       "      <td>&lt;NA&gt;</td>\n",
       "      <td>None</td>\n",
       "      <td>01</td>\n",
       "      <td>None</td>\n",
       "      <td>None</td>\n",
       "      <td>None</td>\n",
       "      <td>None</td>\n",
       "      <td>42</td>\n",
       "    </tr>\n",
       "    <tr>\n",
       "      <th>3902111</th>\n",
       "      <td>2014</td>\n",
       "      <td>&lt;NA&gt;</td>\n",
       "      <td>&lt;NA&gt;</td>\n",
       "      <td>&lt;NA&gt;</td>\n",
       "      <td>&lt;NA&gt;</td>\n",
       "      <td>&lt;NA&gt;</td>\n",
       "      <td>&lt;NA&gt;</td>\n",
       "      <td>&lt;NA&gt;</td>\n",
       "      <td>None</td>\n",
       "      <td>01</td>\n",
       "      <td>None</td>\n",
       "      <td>None</td>\n",
       "      <td>None</td>\n",
       "      <td>None</td>\n",
       "      <td>97</td>\n",
       "    </tr>\n",
       "    <tr>\n",
       "      <th>3902112</th>\n",
       "      <td>2014</td>\n",
       "      <td>&lt;NA&gt;</td>\n",
       "      <td>&lt;NA&gt;</td>\n",
       "      <td>&lt;NA&gt;</td>\n",
       "      <td>&lt;NA&gt;</td>\n",
       "      <td>&lt;NA&gt;</td>\n",
       "      <td>&lt;NA&gt;</td>\n",
       "      <td>&lt;NA&gt;</td>\n",
       "      <td>None</td>\n",
       "      <td>01</td>\n",
       "      <td>None</td>\n",
       "      <td>None</td>\n",
       "      <td>None</td>\n",
       "      <td>None</td>\n",
       "      <td>71</td>\n",
       "    </tr>\n",
       "    <tr>\n",
       "      <th>3902113</th>\n",
       "      <td>2014</td>\n",
       "      <td>&lt;NA&gt;</td>\n",
       "      <td>&lt;NA&gt;</td>\n",
       "      <td>&lt;NA&gt;</td>\n",
       "      <td>&lt;NA&gt;</td>\n",
       "      <td>-0.775711</td>\n",
       "      <td>-0.631088</td>\n",
       "      <td>1</td>\n",
       "      <td>01</td>\n",
       "      <td>01</td>\n",
       "      <td>01</td>\n",
       "      <td>02</td>\n",
       "      <td>02</td>\n",
       "      <td>03</td>\n",
       "      <td>35</td>\n",
       "    </tr>\n",
       "  </tbody>\n",
       "</table>\n",
       "<p>3902114 rows × 15 columns</p>\n",
       "</div>"
      ],
      "text/plain": [
       "         C_YEAR  cos_C_MNTH  sin_C_MNTH  cos_C_WDAY  sin_C_WDAY  cos_C_HOUR  \\\n",
       "0          1999    0.866025         0.5     0.62349    0.781831    0.682553   \n",
       "1          1999    0.866025         0.5     0.62349    0.781831    0.682553   \n",
       "2          1999    0.866025         0.5     0.62349    0.781831    -0.57668   \n",
       "3          1999    0.866025         0.5     0.62349    0.781831   -0.068242   \n",
       "4          1999    0.866025         0.5     0.62349    0.781831   -0.068242   \n",
       "...         ...         ...         ...         ...         ...         ...   \n",
       "3902109    2014        <NA>        <NA>        <NA>        <NA>        <NA>   \n",
       "3902110    2014        <NA>        <NA>        <NA>        <NA>        <NA>   \n",
       "3902111    2014        <NA>        <NA>        <NA>        <NA>        <NA>   \n",
       "3902112    2014        <NA>        <NA>        <NA>        <NA>        <NA>   \n",
       "3902113    2014        <NA>        <NA>        <NA>        <NA>   -0.775711   \n",
       "\n",
       "         sin_C_HOUR  C_VEHS C_CONF C_RCFG C_WTHR C_RSUR C_RALN C_TRAF  Random  \n",
       "0         -0.730836       2     03   None     01     02     02     01       7  \n",
       "1         -0.730836       2     03   None     01     02     02     01       1  \n",
       "2           0.81697       1     01   None     02     02     02     03      68  \n",
       "3         -0.997669       3     QQ     QQ     01     02     01     01      62  \n",
       "4         -0.997669       3     QQ     QQ     01     02     01     01      16  \n",
       "...             ...     ...    ...    ...    ...    ...    ...    ...     ...  \n",
       "3902109        <NA>    <NA>   None     01   None   None   None   None      72  \n",
       "3902110        <NA>    <NA>   None     01   None   None   None   None      42  \n",
       "3902111        <NA>    <NA>   None     01   None   None   None   None      97  \n",
       "3902112        <NA>    <NA>   None     01   None   None   None   None      71  \n",
       "3902113   -0.631088       1     01     01     01     02     02     03      35  \n",
       "\n",
       "[3902114 rows x 15 columns]"
      ]
     },
     "execution_count": 24,
     "metadata": {},
     "output_type": "execute_result"
    }
   ],
   "source": [
    "X"
   ]
  },
  {
   "cell_type": "code",
   "execution_count": 25,
   "id": "389b20c2",
   "metadata": {},
   "outputs": [
    {
     "data": {
      "text/plain": [
       "array([1, 1, 1, ..., 1, 1, 1])"
      ]
     },
     "execution_count": 25,
     "metadata": {},
     "output_type": "execute_result"
    }
   ],
   "source": [
    "Y = LabelEncoder().fit_transform(Y)\n",
    "Y"
   ]
  },
  {
   "cell_type": "markdown",
   "id": "0a135979",
   "metadata": {},
   "source": [
    "LabelEconder() otorga etiquetas categóricas según el valor que puede tomar nuestra variable target. En este caso, 2=1 (1 = No fallecidos) y 1=0 (0= Al menos un fallecido)"
   ]
  },
  {
   "cell_type": "markdown",
   "id": "f918cc4a",
   "metadata": {},
   "source": [
    "Separamos en train y test con una semilla de 0 y un tamaño de 75% y 25% para el conjunto de train y test respectivamente"
   ]
  },
  {
   "cell_type": "code",
   "execution_count": 26,
   "id": "746ef6b7",
   "metadata": {},
   "outputs": [],
   "source": [
    "xtrain, xtest, ytrain, ytest = train_test_split(X, Y, test_size=0.25, random_state=0)"
   ]
  },
  {
   "cell_type": "code",
   "execution_count": 27,
   "id": "a5519cb2",
   "metadata": {},
   "outputs": [
    {
     "data": {
      "text/plain": [
       "C_YEAR          int64\n",
       "cos_C_MNTH    Float64\n",
       "sin_C_MNTH    Float64\n",
       "cos_C_WDAY    Float64\n",
       "sin_C_WDAY    Float64\n",
       "cos_C_HOUR    Float64\n",
       "sin_C_HOUR    Float64\n",
       "C_VEHS          Int64\n",
       "C_CONF         object\n",
       "C_RCFG         object\n",
       "C_WTHR         object\n",
       "C_RSUR         object\n",
       "C_RALN         object\n",
       "C_TRAF         object\n",
       "Random          int64\n",
       "dtype: object"
      ]
     },
     "execution_count": 27,
     "metadata": {},
     "output_type": "execute_result"
    }
   ],
   "source": [
    "xtrain.dtypes"
   ]
  },
  {
   "cell_type": "markdown",
   "id": "f2c4e53c",
   "metadata": {},
   "source": [
    "---"
   ]
  },
  {
   "cell_type": "markdown",
   "id": "a69c983f",
   "metadata": {},
   "source": [
    "## Preparación de los datos"
   ]
  },
  {
   "cell_type": "markdown",
   "id": "347d1c81",
   "metadata": {},
   "source": [
    "Dado que tenemos un dataset desbalanceado (véase notebook *01_EDA*) nuestro objetivo será hacer uso de la técnica de oversampling, la cual explicaremos más adelante, para dotar de mayor información a los modelos a la hora de entrenar. Pero, para poder realizar el oversampling sobre el conjunto de datos, deberemos realizar varios cambios a las columnas, en función si son numéricas o de tipo object.\n",
    "- Si las columnas son numéricas, se deberá imputar sus valores y missing y, posteriormente hacer un escalado.\n",
    "- Si las columnas son categóricas, o de tipo object, se deberá hacer una codificación de las mismas."
   ]
  },
  {
   "cell_type": "markdown",
   "id": "a0c6ee34",
   "metadata": {},
   "source": [
    "Para realizar estas modificaciones haremos uso de los *Pipeline*. \n",
    "\n",
    "**Def.** Pipeline es un objeto que sirve para realizar una secuencia de diferentes transformaciones. \n",
    "\n",
    "Nosotros, en este caso, utilizaremos el pipeline para realizar, para cada tipo de columna, los pasos mencionados anteriormente. Es por ello que trataremos con dos pipelines, por un lado el de las columnas numéricas y, por otro, el de las columnas categóricas. \n",
    "\n",
    "Para las columnas numéricas realizaremos en primer lugar una imputación de los valores missing por la moda y después escalaremos las columnas mediante el StandardScaler (véase explicación de StandardScaler en *01_EDA*). Para las columnas categóricas, sin embargo, nos bastará únicamente con codificar la variable con el OneHotEncoding.\n",
    "\n",
    "**Def.** El one hot encoding crea una columna nueva para cada valor distinto que exista en la variable a codificar. Cada registro se marca con el valor uno en la columna a la que pertenece el valor y los demás registros tomarán el valor 0."
   ]
  },
  {
   "cell_type": "code",
   "execution_count": 28,
   "id": "6e356692",
   "metadata": {},
   "outputs": [],
   "source": [
    "scaled_transform = Pipeline(steps=[('imputer', SimpleImputer(strategy='most_frequent')),\n",
    "                                    ('scaler', StandardScaler())])"
   ]
  },
  {
   "cell_type": "code",
   "execution_count": 29,
   "id": "6ec16a27",
   "metadata": {},
   "outputs": [],
   "source": [
    "impute_NA = Pipeline(steps=[('imputer', SimpleImputer(strategy='most_frequent'))])"
   ]
  },
  {
   "cell_type": "code",
   "execution_count": 30,
   "id": "d37b2616",
   "metadata": {},
   "outputs": [],
   "source": [
    "categorical_transform = Pipeline(steps=[('ohe', OneHotEncoder())])"
   ]
  },
  {
   "cell_type": "markdown",
   "id": "12fe3255",
   "metadata": {},
   "source": [
    "Ahora, necesitamos seleccionar las columnas numéricas y categóricas. Esto lo hacemos de la siguiente forma"
   ]
  },
  {
   "cell_type": "code",
   "execution_count": 31,
   "id": "e097de2f",
   "metadata": {},
   "outputs": [],
   "source": [
    "numeric_data = df_pd_data.select_dtypes(include=['int', \"float\"]).drop([\"C_SEV\"], axis=1).columns\n",
    "int_data = df_pd_data.select_dtypes(include=['int']).drop([\"C_SEV\"], axis=1).columns\n",
    "cat_data = df_pd_data.select_dtypes(include=['object']).columns"
   ]
  },
  {
   "cell_type": "markdown",
   "id": "54771906",
   "metadata": {},
   "source": [
    "Para poder llevar a cabo el pipeline necesitamos del estimador *ColumnTransformer*. Esta función permite transformar, de forma separada, diferentes columnas y luego se concatenan los resultados para obtener un único dataset. Para nosotros es perfecto ya que no todas nuestras columnas del dataset necesitan ser modificadas de la misma manera como hemos podido ver anteriormente.\n",
    "\n",
    "A las columnas numéricas les aplicaremos el pipeline numérico y a las categóricas el pipeline categórico"
   ]
  },
  {
   "cell_type": "code",
   "execution_count": 32,
   "id": "0ca7f849",
   "metadata": {},
   "outputs": [],
   "source": [
    "preprocessor = ColumnTransformer(\n",
    "    transformers=[\n",
    "        ('NA', impute_NA, numeric_data),\n",
    "        ('cat', categorical_transform, cat_data),\n",
    "        (\"num\", scaled_transform, int_data)])"
   ]
  },
  {
   "cell_type": "markdown",
   "id": "c8b97e76",
   "metadata": {},
   "source": [
    "Debido a que, de momento, no nos interesa escalar el test, hemos tenido problemas a la hora de intentar hacer un nuevo pipeline para el test. La única modificación que haremos en el test será la imputación de los NAs. Esta la haremos a mano de la siguiente forma:"
   ]
  },
  {
   "cell_type": "code",
   "execution_count": 33,
   "id": "c43c2b9f",
   "metadata": {},
   "outputs": [],
   "source": [
    "preprocessor_test = ColumnTransformer(\n",
    "    transformers=[\n",
    "        ('NA', impute_NA, numeric_data),\n",
    "        ('cat', categorical_transform, cat_data)])"
   ]
  },
  {
   "cell_type": "code",
   "execution_count": 34,
   "id": "5dd284f9",
   "metadata": {
    "scrolled": true
   },
   "outputs": [
    {
     "data": {
      "text/plain": [
       "ColumnTransformer(transformers=[('NA',\n",
       "                                 Pipeline(steps=[('imputer',\n",
       "                                                  SimpleImputer(strategy='most_frequent'))]),\n",
       "                                 Index(['C_YEAR', 'cos_C_MNTH', 'sin_C_MNTH', 'cos_C_WDAY', 'sin_C_WDAY',\n",
       "       'cos_C_HOUR', 'sin_C_HOUR', 'C_VEHS', 'Random'],\n",
       "      dtype='object')),\n",
       "                                ('cat',\n",
       "                                 Pipeline(steps=[('ohe', OneHotEncoder())]),\n",
       "                                 Index(['C_CONF', 'C_RCFG', 'C_WTHR', 'C_RSUR', 'C_RALN', 'C_TRAF'], dtype='object')),\n",
       "                                ('num',\n",
       "                                 Pipeline(steps=[('imputer',\n",
       "                                                  SimpleImputer(strategy='most_frequent')),\n",
       "                                                 ('scaler', StandardScaler())]),\n",
       "                                 Index(['C_YEAR', 'C_VEHS', 'Random'], dtype='object'))])"
      ]
     },
     "execution_count": 34,
     "metadata": {},
     "output_type": "execute_result"
    }
   ],
   "source": [
    "preprocessor.fit(xtrain, ytrain)"
   ]
  },
  {
   "cell_type": "code",
   "execution_count": 35,
   "id": "60a30528",
   "metadata": {},
   "outputs": [
    {
     "data": {
      "text/plain": [
       "ColumnTransformer(transformers=[('NA',\n",
       "                                 Pipeline(steps=[('imputer',\n",
       "                                                  SimpleImputer(strategy='most_frequent'))]),\n",
       "                                 Index(['C_YEAR', 'cos_C_MNTH', 'sin_C_MNTH', 'cos_C_WDAY', 'sin_C_WDAY',\n",
       "       'cos_C_HOUR', 'sin_C_HOUR', 'C_VEHS', 'Random'],\n",
       "      dtype='object')),\n",
       "                                ('cat',\n",
       "                                 Pipeline(steps=[('ohe', OneHotEncoder())]),\n",
       "                                 Index(['C_CONF', 'C_RCFG', 'C_WTHR', 'C_RSUR', 'C_RALN', 'C_TRAF'], dtype='object')),\n",
       "                                ('num',\n",
       "                                 Pipeline(steps=[('imputer',\n",
       "                                                  SimpleImputer(strategy='most_frequent')),\n",
       "                                                 ('scaler', StandardScaler())]),\n",
       "                                 Index(['C_YEAR', 'C_VEHS', 'Random'], dtype='object'))])"
      ]
     },
     "execution_count": 35,
     "metadata": {},
     "output_type": "execute_result"
    }
   ],
   "source": [
    "preprocessor.fit(xtest, ytest)"
   ]
  },
  {
   "cell_type": "markdown",
   "id": "90721609",
   "metadata": {},
   "source": [
    "Entrenamos nuestro estimador con los datos de training"
   ]
  },
  {
   "cell_type": "markdown",
   "id": "35729275",
   "metadata": {},
   "source": [
    "Ahora ya podemos transformar nuestros datos mediante el atributo .transform. Lo haremos de los datos de training únicamente, de momento."
   ]
  },
  {
   "cell_type": "code",
   "execution_count": 36,
   "id": "0960118f",
   "metadata": {},
   "outputs": [],
   "source": [
    "xtrain = preprocessor.transform(xtrain)"
   ]
  },
  {
   "cell_type": "code",
   "execution_count": 37,
   "id": "f3f2d40a",
   "metadata": {},
   "outputs": [],
   "source": [
    "xtest = preprocessor.transform(xtest)"
   ]
  },
  {
   "cell_type": "markdown",
   "id": "25349d43",
   "metadata": {},
   "source": [
    "Para obtener los datos en formato de data frame necesitamos pasarlos, precisamente, a data frame"
   ]
  },
  {
   "cell_type": "code",
   "execution_count": 38,
   "id": "763d48f1",
   "metadata": {
    "scrolled": true
   },
   "outputs": [
    {
     "name": "stderr",
     "output_type": "stream",
     "text": [
      "/var/folders/3q/zfn8yb513nj10ry8w8r8_jmc0000gn/T/ipykernel_7558/1830106548.py:16: UserWarning: Transformer imputer (type SimpleImputer) does not provide get_feature_names. Will return input column names if available\n",
      "  warnings.warn(\"Transformer %s (type %s) does not \"\n",
      "/Users/aitor/opt/anaconda3/envs/ML_big_practice/lib/python3.9/site-packages/sklearn/utils/deprecation.py:87: FutureWarning: Function get_feature_names is deprecated; get_feature_names is deprecated in 1.0 and will be removed in 1.2. Please use get_feature_names_out instead.\n",
      "  warnings.warn(msg, category=FutureWarning)\n",
      "/var/folders/3q/zfn8yb513nj10ry8w8r8_jmc0000gn/T/ipykernel_7558/1830106548.py:16: UserWarning: Transformer scaler (type StandardScaler) does not provide get_feature_names. Will return input column names if available\n",
      "  warnings.warn(\"Transformer %s (type %s) does not \"\n"
     ]
    }
   ],
   "source": [
    "x_train = pd.DataFrame(xtrain, columns=get_feature_names(preprocessor))\n",
    "x_test = pd.DataFrame(xtest, columns=get_feature_names(preprocessor))"
   ]
  },
  {
   "cell_type": "markdown",
   "id": "e1ba3dc3",
   "metadata": {},
   "source": [
    "Comprobamos que, efectivamente, ya no tenemos ningún valor nulo en el dataset de training"
   ]
  },
  {
   "cell_type": "code",
   "execution_count": 39,
   "id": "deb7b4a8",
   "metadata": {},
   "outputs": [
    {
     "data": {
      "text/plain": [
       "array([[ 2.00400000e+03, -1.00000000e+00,  1.22464680e-16, ...,\n",
       "        -4.41255693e-01, -8.23414536e-01,  8.38815100e-02],\n",
       "       [ 2.00300000e+03, -1.83697020e-16, -1.00000000e+00, ...,\n",
       "        -6.60184451e-01, -7.29172418e-02, -1.57820989e+00],\n",
       "       [ 2.00700000e+03, -5.00000000e-01,  8.66025404e-01, ...,\n",
       "         2.15530582e-01, -7.29172418e-02,  1.22656935e+00],\n",
       "       ...,\n",
       "       [ 2.00700000e+03, -5.00000000e-01,  8.66025404e-01, ...,\n",
       "         2.15530582e-01, -7.29172418e-02,  1.46277017e-02],\n",
       "       [ 2.00400000e+03, -1.00000000e+00,  1.22464680e-16, ...,\n",
       "        -4.41255693e-01,  1.42807735e+00, -6.43283477e-01],\n",
       "       [ 2.00000000e+03,  5.00000000e-01,  8.66025404e-01, ...,\n",
       "        -1.31697073e+00, -7.29172418e-02, -5.39402765e-01]])"
      ]
     },
     "execution_count": 39,
     "metadata": {},
     "output_type": "execute_result"
    }
   ],
   "source": [
    "xtrain"
   ]
  },
  {
   "cell_type": "code",
   "execution_count": 40,
   "id": "c3937718",
   "metadata": {},
   "outputs": [
    {
     "data": {
      "text/plain": [
       "{'NA_C_YEAR': [2004.0,\n",
       "  2003.0,\n",
       "  2007.0,\n",
       "  2000.0,\n",
       "  1999.0,\n",
       "  2005.0,\n",
       "  2013.0,\n",
       "  2012.0,\n",
       "  2001.0,\n",
       "  2011.0,\n",
       "  2008.0,\n",
       "  2002.0,\n",
       "  2014.0,\n",
       "  2006.0,\n",
       "  2010.0,\n",
       "  2009.0],\n",
       " 'NA_cos_C_MNTH': [-1.0,\n",
       "  -1.8369701987210297e-16,\n",
       "  -0.4999999999999998,\n",
       "  0.5,\n",
       "  -0.8660254037844387,\n",
       "  -0.8660254037844388,\n",
       "  0.8660254037844387,\n",
       "  6.123233995736766e-17,\n",
       "  -0.5000000000000004,\n",
       "  0.8660254037844384,\n",
       "  1.0,\n",
       "  0.5000000000000001],\n",
       " 'NA_sin_C_MNTH': [1.2246467991473532e-16,\n",
       "  -1.0,\n",
       "  0.8660254037844388,\n",
       "  -0.8660254037844386,\n",
       "  0.49999999999999994,\n",
       "  -0.4999999999999998,\n",
       "  1.0,\n",
       "  -0.8660254037844384,\n",
       "  -0.5000000000000004,\n",
       "  -2.4492935982947064e-16,\n",
       "  0.8660254037844386],\n",
       " 'NA_cos_C_WDAY': [0.6234898018587334,\n",
       "  -0.2225209339563146,\n",
       "  0.6234898018587336,\n",
       "  1.0,\n",
       "  -0.900968867902419,\n",
       "  -0.22252093395631434,\n",
       "  -0.9009688679024191],\n",
       " 'NA_sin_C_WDAY': [-0.7818314824680299,\n",
       "  -0.9749279121818235,\n",
       "  0.7818314824680297,\n",
       "  -2.4492935982947064e-16,\n",
       "  0.43388373911755823,\n",
       "  0.9749279121818236,\n",
       "  -0.433883739117558],\n",
       " 'NA_cos_C_HOUR': [-0.3348796121709864,\n",
       "  -0.576680322114867,\n",
       "  -0.06824241336467046,\n",
       "  0.20345601305263328,\n",
       "  -0.9906859460363306,\n",
       "  -0.33487961217098616,\n",
       "  -0.7757112907044198,\n",
       "  -0.9906859460363308,\n",
       "  0.8544194045464886,\n",
       "  0.6825531432186541,\n",
       "  -0.5766803221148673,\n",
       "  -0.917211301505453,\n",
       "  0.20345601305263375,\n",
       "  -0.7757112907044197,\n",
       "  -0.9172113015054529,\n",
       "  1.0,\n",
       "  0.4600650377311516,\n",
       "  0.962917287347799,\n",
       "  0.46006503773115215,\n",
       "  0.9629172873477994,\n",
       "  -0.06824241336467089],\n",
       " 'NA_sin_C_HOUR': [-0.9422609221188204,\n",
       "  0.8169698930104421,\n",
       "  -0.9976687691905393,\n",
       "  -0.979084087682323,\n",
       "  0.13616664909624707,\n",
       "  0.9422609221188205,\n",
       "  -0.6310879443260529,\n",
       "  -0.13616664909624643,\n",
       "  -0.5195839500354336,\n",
       "  -0.730835964278124,\n",
       "  -0.8169698930104419,\n",
       "  0.3984010898462414,\n",
       "  0.9790840876823229,\n",
       "  0.5195839500354336,\n",
       "  0.631087944326053,\n",
       "  -0.39840108984624156,\n",
       "  -2.4492935982947064e-16,\n",
       "  -0.8878852184023756,\n",
       "  -0.2697967711570252,\n",
       "  0.0,\n",
       "  0.730835964278124,\n",
       "  0.8878852184023752,\n",
       "  0.2697967711570243,\n",
       "  0.9976687691905392],\n",
       " 'NA_C_VEHS': [1.0,\n",
       "  2.0,\n",
       "  5.0,\n",
       "  3.0,\n",
       "  4.0,\n",
       "  6.0,\n",
       "  7.0,\n",
       "  57.0,\n",
       "  8.0,\n",
       "  10.0,\n",
       "  20.0,\n",
       "  36.0,\n",
       "  15.0,\n",
       "  77.0,\n",
       "  13.0,\n",
       "  9.0,\n",
       "  11.0,\n",
       "  58.0,\n",
       "  17.0,\n",
       "  14.0,\n",
       "  44.0,\n",
       "  28.0,\n",
       "  26.0,\n",
       "  16.0,\n",
       "  35.0,\n",
       "  30.0,\n",
       "  12.0,\n",
       "  71.0,\n",
       "  31.0,\n",
       "  29.0,\n",
       "  51.0,\n",
       "  72.0,\n",
       "  21.0,\n",
       "  39.0,\n",
       "  38.0,\n",
       "  19.0,\n",
       "  40.0,\n",
       "  54.0,\n",
       "  46.0,\n",
       "  37.0,\n",
       "  34.0,\n",
       "  18.0,\n",
       "  56.0,\n",
       "  22.0,\n",
       "  32.0,\n",
       "  24.0,\n",
       "  25.0,\n",
       "  41.0,\n",
       "  33.0,\n",
       "  23.0,\n",
       "  43.0,\n",
       "  27.0],\n",
       " 'NA_Random': [52.0,\n",
       "  4.0,\n",
       "  85.0,\n",
       "  22.0,\n",
       "  87.0,\n",
       "  14.0,\n",
       "  44.0,\n",
       "  19.0,\n",
       "  43.0,\n",
       "  93.0,\n",
       "  77.0,\n",
       "  84.0,\n",
       "  6.0,\n",
       "  92.0,\n",
       "  29.0,\n",
       "  30.0,\n",
       "  18.0,\n",
       "  3.0,\n",
       "  50.0,\n",
       "  88.0,\n",
       "  9.0,\n",
       "  24.0,\n",
       "  55.0,\n",
       "  27.0,\n",
       "  96.0,\n",
       "  10.0,\n",
       "  20.0,\n",
       "  45.0,\n",
       "  49.0,\n",
       "  74.0,\n",
       "  33.0,\n",
       "  38.0,\n",
       "  36.0,\n",
       "  23.0,\n",
       "  69.0,\n",
       "  25.0,\n",
       "  12.0,\n",
       "  16.0,\n",
       "  98.0,\n",
       "  54.0,\n",
       "  40.0,\n",
       "  13.0,\n",
       "  99.0,\n",
       "  79.0,\n",
       "  90.0,\n",
       "  7.0,\n",
       "  34.0,\n",
       "  51.0,\n",
       "  26.0,\n",
       "  66.0,\n",
       "  31.0,\n",
       "  5.0,\n",
       "  0.0,\n",
       "  59.0,\n",
       "  86.0,\n",
       "  53.0,\n",
       "  60.0,\n",
       "  63.0,\n",
       "  39.0,\n",
       "  75.0,\n",
       "  35.0,\n",
       "  56.0,\n",
       "  42.0,\n",
       "  21.0,\n",
       "  57.0,\n",
       "  70.0,\n",
       "  46.0,\n",
       "  2.0,\n",
       "  28.0,\n",
       "  83.0,\n",
       "  82.0,\n",
       "  95.0,\n",
       "  48.0,\n",
       "  17.0,\n",
       "  64.0,\n",
       "  15.0,\n",
       "  61.0,\n",
       "  37.0,\n",
       "  76.0,\n",
       "  80.0,\n",
       "  47.0,\n",
       "  58.0,\n",
       "  41.0,\n",
       "  91.0,\n",
       "  81.0,\n",
       "  11.0,\n",
       "  73.0,\n",
       "  71.0,\n",
       "  78.0,\n",
       "  1.0,\n",
       "  62.0,\n",
       "  68.0,\n",
       "  89.0,\n",
       "  32.0,\n",
       "  65.0,\n",
       "  72.0,\n",
       "  97.0,\n",
       "  94.0,\n",
       "  67.0,\n",
       "  8.0],\n",
       " 'ohe_x0_01': [1.0, 0.0],\n",
       " 'ohe_x0_02': [0.0, 1.0],\n",
       " 'ohe_x0_03': [0.0, 1.0],\n",
       " 'ohe_x0_04': [0.0, 1.0],\n",
       " 'ohe_x0_QQ': [0.0, 1.0],\n",
       " 'ohe_x0_None': [0.0, 1.0],\n",
       " 'ohe_x1_01': [1.0, 0.0],\n",
       " 'ohe_x1_02': [0.0, 1.0],\n",
       " 'ohe_x1_QQ': [0.0, 1.0],\n",
       " 'ohe_x1_None': [0.0, 1.0],\n",
       " 'ohe_x2_01': [0.0, 1.0],\n",
       " 'ohe_x2_02': [1.0, 0.0],\n",
       " 'ohe_x2_Q': [0.0, 1.0],\n",
       " 'ohe_x2_None': [0.0, 1.0],\n",
       " 'ohe_x3_01': [1.0, 0.0],\n",
       " 'ohe_x3_02': [0.0, 1.0],\n",
       " 'ohe_x3_Q': [0.0, 1.0],\n",
       " 'ohe_x3_None': [0.0, 1.0],\n",
       " 'ohe_x4_01': [0.0, 1.0],\n",
       " 'ohe_x4_02': [1.0, 0.0],\n",
       " 'ohe_x4_Q': [0.0, 1.0],\n",
       " 'ohe_x4_None': [0.0, 1.0],\n",
       " 'ohe_x5_01': [0.0, 1.0],\n",
       " 'ohe_x5_03': [1.0, 0.0],\n",
       " 'ohe_x5_QQ': [0.0, 1.0],\n",
       " 'ohe_x5_None': [0.0, 1.0],\n",
       " 'num_C_YEAR': [-0.44125569298995,\n",
       "  -0.6601844514717,\n",
       "  0.21553058245530007,\n",
       "  -1.3169707269169502,\n",
       "  -1.5358994853987002,\n",
       "  -0.22232693450819999,\n",
       "  1.5291031333458003,\n",
       "  1.3101743748640502,\n",
       "  -1.0980419684352,\n",
       "  1.0912456163823,\n",
       "  0.43445934093705013,\n",
       "  -0.8791132099534501,\n",
       "  1.7480318918275504,\n",
       "  -0.0033981760264499474,\n",
       "  0.8723168579005501,\n",
       "  0.6533880994188002],\n",
       " 'num_C_VEHS': [-0.823414535565184,\n",
       "  -0.07291724182283982,\n",
       "  2.1785746394041925,\n",
       "  0.6775800519195043,\n",
       "  1.4280773456618483,\n",
       "  2.9290719331465365,\n",
       "  3.679569226888881,\n",
       "  41.20443391400608,\n",
       "  4.430066520631225,\n",
       "  5.931061108115913,\n",
       "  13.436034045539355,\n",
       "  25.44399074541686,\n",
       "  9.683547576827634,\n",
       "  56.214379788852966,\n",
       "  8.182552989342945,\n",
       "  5.180563814373569,\n",
       "  6.681558401858258,\n",
       "  41.95493120774843,\n",
       "  11.184542164312322,\n",
       "  8.93305028308529,\n",
       "  31.44796909535561,\n",
       "  19.440012395478107,\n",
       "  17.93901780799342,\n",
       "  10.434044870569977,\n",
       "  24.693493451674513,\n",
       "  20.941006982962794,\n",
       "  7.432055695600601,\n",
       "  51.7113960263989,\n",
       "  21.69150427670514,\n",
       "  20.190509689220452,\n",
       "  36.70145015155202,\n",
       "  52.46189332014124,\n",
       "  14.186531339281698,\n",
       "  27.69548262664389,\n",
       "  26.944985332901545,\n",
       "  12.68553675179701,\n",
       "  28.445979920386232,\n",
       "  38.95294203277905,\n",
       "  32.9489636828403,\n",
       "  26.1944880391592,\n",
       "  23.94299615793217,\n",
       "  11.935039458054666,\n",
       "  40.45393662026374,\n",
       "  14.937028633024042,\n",
       "  22.442001570447484,\n",
       "  16.43802322050873,\n",
       "  17.188520514251074,\n",
       "  29.196477214128578,\n",
       "  23.192498864189826,\n",
       "  15.687525926766387,\n",
       "  30.697471801613265,\n",
       "  18.68951510173576],\n",
       " 'num_Random': [0.08388150997940261,\n",
       "  -1.5782098890457312,\n",
       "  1.226569346809182,\n",
       "  -0.9549256144113061,\n",
       "  1.295823155101896,\n",
       "  -1.2319408475821616,\n",
       "  -0.19313372319145303,\n",
       "  -1.058806326850377,\n",
       "  -0.22776062733781,\n",
       "  1.5035845799800378,\n",
       "  0.9495541136383264,\n",
       "  1.1919424426628251,\n",
       "  -1.5089560807530173,\n",
       "  1.4689576758336809,\n",
       "  -0.7125372853868074,\n",
       "  -0.6779103812404504,\n",
       "  -1.0934332309967338,\n",
       "  -1.6128367931920882,\n",
       "  0.014627701686688694,\n",
       "  1.3304500592482529,\n",
       "  -1.4050753683139465,\n",
       "  -0.8856718061185921,\n",
       "  0.18776222241847346,\n",
       "  -0.7817910936795213,\n",
       "  1.6074652924191086,\n",
       "  -1.3704484641675896,\n",
       "  -1.02417942270402,\n",
       "  -0.1585068190450961,\n",
       "  -0.019999202459668262,\n",
       "  0.8456734011992556,\n",
       "  -0.5740296688013795,\n",
       "  -0.40089514806959475,\n",
       "  -0.4701489563623087,\n",
       "  -0.9202987102649491,\n",
       "  0.6725388804674708,\n",
       "  -0.8510449019722351,\n",
       "  -1.3011946558748755,\n",
       "  -1.1626870392894477,\n",
       "  1.6767191007118225,\n",
       "  0.15313531827211652,\n",
       "  -0.3316413397768809,\n",
       "  -1.2665677517285185,\n",
       "  1.7113460048581794,\n",
       "  1.0188079219310404,\n",
       "  1.399703867540967,\n",
       "  -1.4743291766066604,\n",
       "  -0.5394027646550226,\n",
       "  0.049254605833045646,\n",
       "  -0.8164179978258782,\n",
       "  0.5686581680284,\n",
       "  -0.6432834770940935,\n",
       "  -1.5435829848993743,\n",
       "  -1.716717505631159,\n",
       "  0.3262698390039013,\n",
       "  1.261196250955539,\n",
       "  0.11850841412575956,\n",
       "  0.36089674315025827,\n",
       "  0.4647774555893291,\n",
       "  -0.3662682439232378,\n",
       "  0.8803003053456125,\n",
       "  -0.5047758605086656,\n",
       "  0.22238912656483042,\n",
       "  -0.26238753148416694,\n",
       "  -0.989552518557663,\n",
       "  0.2570160307111874,\n",
       "  0.7071657846138278,\n",
       "  -0.12387991489873912,\n",
       "  -1.647463697338445,\n",
       "  -0.7471641895331643,\n",
       "  1.1573155385164682,\n",
       "  1.1226886343701112,\n",
       "  1.5728383882727517,\n",
       "  -0.05462610660602522,\n",
       "  -1.1280601351430908,\n",
       "  0.4994043597356861,\n",
       "  -1.1973139434358047,\n",
       "  0.3955236472966152,\n",
       "  -0.4355220522159517,\n",
       "  0.9149272094919695,\n",
       "  1.0534348260773974,\n",
       "  -0.08925301075238216,\n",
       "  0.29164293485754433,\n",
       "  -0.2970144356305239,\n",
       "  1.434330771687324,\n",
       "  1.0880617302237543,\n",
       "  -1.3358215600212326,\n",
       "  0.8110464970528987,\n",
       "  0.7417926887601848,\n",
       "  0.9841810177846835,\n",
       "  -1.682090601484802,\n",
       "  0.43015055144297215,\n",
       "  0.6379119763211138,\n",
       "  1.36507696339461,\n",
       "  -0.6086565729477365,\n",
       "  0.534031263882043,\n",
       "  0.7764195929065417,\n",
       "  1.6420921965654656,\n",
       "  1.5382114841263947,\n",
       "  0.6032850721747569,\n",
       "  -1.4397022724603035]}"
      ]
     },
     "execution_count": 40,
     "metadata": {},
     "output_type": "execute_result"
    }
   ],
   "source": [
    "valores_unicos(x_train, k=150)"
   ]
  },
  {
   "cell_type": "code",
   "execution_count": 41,
   "id": "d39ba11d",
   "metadata": {},
   "outputs": [],
   "source": [
    "x_train=x_train.drop([\"NA_C_VEHS\", \"NA_C_YEAR\"], axis=1)\n",
    "x_test=x_test.drop([\"NA_C_VEHS\", \"NA_C_YEAR\"], axis=1)"
   ]
  },
  {
   "cell_type": "code",
   "execution_count": 42,
   "id": "8e105bbb",
   "metadata": {},
   "outputs": [],
   "source": [
    "columnas=x_train.drop(['NA_cos_C_MNTH', 'NA_sin_C_MNTH', 'NA_cos_C_WDAY', 'NA_sin_C_WDAY', 'NA_cos_C_HOUR', 'NA_sin_C_HOUR', \"num_C_YEAR\", \"num_C_VEHS\"], axis=1).columns"
   ]
  },
  {
   "cell_type": "code",
   "execution_count": 43,
   "id": "5d907382",
   "metadata": {},
   "outputs": [],
   "source": [
    "x_train[columnas] = x_train[columnas].astype(\"int\")\n",
    "x_test[columnas]=x_test[columnas].astype(\"int\")"
   ]
  },
  {
   "cell_type": "code",
   "execution_count": 44,
   "id": "97800562",
   "metadata": {},
   "outputs": [
    {
     "data": {
      "text/plain": [
       "NA_cos_C_MNTH    float64\n",
       "NA_sin_C_MNTH    float64\n",
       "NA_cos_C_WDAY    float64\n",
       "NA_sin_C_WDAY    float64\n",
       "NA_cos_C_HOUR    float64\n",
       "NA_sin_C_HOUR    float64\n",
       "NA_Random          int64\n",
       "ohe_x0_01          int64\n",
       "ohe_x0_02          int64\n",
       "ohe_x0_03          int64\n",
       "ohe_x0_04          int64\n",
       "ohe_x0_QQ          int64\n",
       "ohe_x0_None        int64\n",
       "ohe_x1_01          int64\n",
       "ohe_x1_02          int64\n",
       "ohe_x1_QQ          int64\n",
       "ohe_x1_None        int64\n",
       "ohe_x2_01          int64\n",
       "ohe_x2_02          int64\n",
       "ohe_x2_Q           int64\n",
       "ohe_x2_None        int64\n",
       "ohe_x3_01          int64\n",
       "ohe_x3_02          int64\n",
       "ohe_x3_Q           int64\n",
       "ohe_x3_None        int64\n",
       "ohe_x4_01          int64\n",
       "ohe_x4_02          int64\n",
       "ohe_x4_Q           int64\n",
       "ohe_x4_None        int64\n",
       "ohe_x5_01          int64\n",
       "ohe_x5_03          int64\n",
       "ohe_x5_QQ          int64\n",
       "ohe_x5_None        int64\n",
       "num_C_YEAR       float64\n",
       "num_C_VEHS       float64\n",
       "num_Random         int64\n",
       "dtype: object"
      ]
     },
     "execution_count": 44,
     "metadata": {},
     "output_type": "execute_result"
    }
   ],
   "source": [
    "x_test.dtypes"
   ]
  },
  {
   "cell_type": "code",
   "execution_count": 45,
   "id": "7959f1b2",
   "metadata": {},
   "outputs": [
    {
     "data": {
      "text/plain": [
       "NA_cos_C_MNTH    False\n",
       "NA_sin_C_MNTH    False\n",
       "NA_cos_C_WDAY    False\n",
       "NA_sin_C_WDAY    False\n",
       "NA_cos_C_HOUR    False\n",
       "NA_sin_C_HOUR    False\n",
       "NA_Random        False\n",
       "ohe_x0_01        False\n",
       "ohe_x0_02        False\n",
       "ohe_x0_03        False\n",
       "ohe_x0_04        False\n",
       "ohe_x0_QQ        False\n",
       "ohe_x0_None      False\n",
       "ohe_x1_01        False\n",
       "ohe_x1_02        False\n",
       "ohe_x1_QQ        False\n",
       "ohe_x1_None      False\n",
       "ohe_x2_01        False\n",
       "ohe_x2_02        False\n",
       "ohe_x2_Q         False\n",
       "ohe_x2_None      False\n",
       "ohe_x3_01        False\n",
       "ohe_x3_02        False\n",
       "ohe_x3_Q         False\n",
       "ohe_x3_None      False\n",
       "ohe_x4_01        False\n",
       "ohe_x4_02        False\n",
       "ohe_x4_Q         False\n",
       "ohe_x4_None      False\n",
       "ohe_x5_01        False\n",
       "ohe_x5_03        False\n",
       "ohe_x5_QQ        False\n",
       "ohe_x5_None      False\n",
       "num_C_YEAR       False\n",
       "num_C_VEHS       False\n",
       "num_Random       False\n",
       "dtype: bool"
      ]
     },
     "execution_count": 45,
     "metadata": {},
     "output_type": "execute_result"
    }
   ],
   "source": [
    "x_train.isna().any()"
   ]
  },
  {
   "cell_type": "markdown",
   "id": "67693334",
   "metadata": {},
   "source": [
    "---"
   ]
  },
  {
   "cell_type": "markdown",
   "id": "0ea99011",
   "metadata": {},
   "source": [
    "Dado que tenemos los datos transformados, ya estamos en condiciones de introducir nuestro conjunto de testing en un algoritmo de oversampling"
   ]
  },
  {
   "cell_type": "markdown",
   "id": "11ec67cf",
   "metadata": {},
   "source": [
    "## Oversampling (SMOTE algorithm)"
   ]
  },
  {
   "cell_type": "markdown",
   "id": "2a5ea67b",
   "metadata": {},
   "source": [
    "Como hemos podido comprobar en el notebook *01_EDA*, el dataset con el que estamos trabajando está realmente desbalanceado. Nuestra variable objetivo tiene muchos menos fallecidos que no fallecidos. Debido a esto, si introducimos en el modelo estos datos, no será posible obtener un buen modelo, pues no le estaremos dotando de suficiente información para que pueda predecir de manera correcta cuando haya algún fallecido. \n",
    "\n",
    "Teniendo en cuenta esto, existen dos grandes técnicas para solucionar este problema. Estas son *undersampling* y *oversampling*. Esta última consiste en generar datos \"aleatorios\" en la clase mayoritaria, para así poder dotar de información suficiente al entrenamiento del modelo. En cambio, el *undersampling* consiste en lo contrario, eliminar datos \"aleatorios\" de la clase mayoritaria de manera que ambas clases queden menos desvalanceadas. \n",
    "\n",
    "Nosotros haremos uso de *oversampling* y para ello utilizaremos uno de los algoritmos más utilizados en estas técnicas (SMOTE)."
   ]
  },
  {
   "cell_type": "markdown",
   "id": "bdd8d52d",
   "metadata": {},
   "source": [
    "**Def.** SMOTE (Synthetic Minority Oversampling Technique) utiliza un algoritmo de vecino k-más cercano para crear datos sintéticos. SMOTE primero comienza eligiendo datos aleatorios de la clase minoritaria, luego se establecen los k vecinos más cercanos de los datos. Los datos sintéticos se harían entonces entre los datos aleatorios y el vecino k más cercano seleccionado al azar."
   ]
  },
  {
   "cell_type": "markdown",
   "id": "c12a830b",
   "metadata": {},
   "source": [
    "**Ejemplo.** En el siguiente ejemplo podremos ver cómo trata de crear el algoritmo los nuevos datos sintéticos"
   ]
  },
  {
   "cell_type": "markdown",
   "id": "7b787d0c",
   "metadata": {},
   "source": [
    "<table>\n",
    "  <tr>\n",
    "     <td>Before SMOTE</td>\n",
    "     <td>After SMOTE</td>\n",
    "  </tr>\n",
    "  <tr>\n",
    "    <td><img src=\"../Images/SMOTE_before.png\" width=\"300\" hspace=\"100\"/> \n",
    "    <td><img src=\"../Images/SMOTE_after.png\" width=\"300\"/>\n",
    "  </tr>\n",
    " </table>"
   ]
  },
  {
   "cell_type": "code",
   "execution_count": 46,
   "id": "e34e4627",
   "metadata": {
    "scrolled": true
   },
   "outputs": [
    {
     "name": "stdout",
     "output_type": "stream",
     "text": [
      "Antes del OverSampling, número de '1's: 2884022\n",
      "Antes del OverSampling, número de '0's: 42563 \n",
      "\n"
     ]
    }
   ],
   "source": [
    "print(\"Antes del OverSampling, número de '1's: {}\".format(sum(ytrain == 1)))\n",
    "print(\"Antes del OverSampling, número de '0's: {} \\n\".format(sum(ytrain == 0)))"
   ]
  },
  {
   "cell_type": "code",
   "execution_count": 47,
   "id": "066952a2",
   "metadata": {},
   "outputs": [],
   "source": [
    "sm = SMOTE(random_state = 2, sampling_strategy=0.5)\n",
    "X_train_oversampled, y_train_oversampled = sm.fit_resample(x_train, ytrain.ravel())"
   ]
  },
  {
   "cell_type": "code",
   "execution_count": 48,
   "id": "2781be00",
   "metadata": {
    "scrolled": true
   },
   "outputs": [
    {
     "name": "stdout",
     "output_type": "stream",
     "text": [
      "Después del OverSampling, el tamaño de train_X: (4326033, 36)\n",
      "Después del OverSampling, el tamaño de train_y: (4326033,) \n",
      "\n",
      "Después del OverSampling, número de '1's: 2884022\n",
      "Después del OverSampling, número de '0's: 1442011\n"
     ]
    }
   ],
   "source": [
    "print('Después del OverSampling, el tamaño de train_X: {}'.format(X_train_oversampled.shape))\n",
    "print('Después del OverSampling, el tamaño de train_y: {} \\n'.format(y_train_oversampled.shape))\n",
    " \n",
    "print(\"Después del OverSampling, número de '1's: {}\".format(sum(y_train_oversampled == 1)))\n",
    "print(\"Después del OverSampling, número de '0's: {}\".format(sum(y_train_oversampled == 0)))"
   ]
  },
  {
   "cell_type": "markdown",
   "id": "71b6a71c",
   "metadata": {},
   "source": [
    "Una vez tenemos los conjuntos de training y testing definitivos, vamos a pasarlos a formato parquet para poder utilizarlos en otros notebooks."
   ]
  },
  {
   "cell_type": "code",
   "execution_count": null,
   "id": "fcc662ee",
   "metadata": {},
   "outputs": [],
   "source": [
    "table_X_train = pa.Table.from_pandas(X_train_oversampled, preserve_index=False)"
   ]
  },
  {
   "cell_type": "code",
   "execution_count": null,
   "id": "c34c1be9",
   "metadata": {},
   "outputs": [],
   "source": [
    "pq.write_table(table, '/Users/aitor/Desktop/Máster Ciencia de Datos/Aprendizaje automático/Machine-Learning/big practice_data/X_train_oversampled.parquet')"
   ]
  },
  {
   "cell_type": "code",
   "execution_count": null,
   "id": "eb01526f",
   "metadata": {},
   "outputs": [],
   "source": [
    "table_y_train = pa.Table.from_pandas(y_train_oversampled, preserve_index=False)"
   ]
  },
  {
   "cell_type": "code",
   "execution_count": null,
   "id": "36b156bb",
   "metadata": {},
   "outputs": [],
   "source": [
    "pq.write_table(table_y_train, '/Users/aitor/Desktop/Máster Ciencia de Datos/Aprendizaje automático/Machine-Learning/big practice_data/y_train_oversampled.parquet')"
   ]
  },
  {
   "cell_type": "code",
   "execution_count": null,
   "id": "bb3ad2ab",
   "metadata": {},
   "outputs": [],
   "source": [
    "table_xtest = pa.Table.from_pandas(x_test, preserve_index=False)"
   ]
  },
  {
   "cell_type": "code",
   "execution_count": null,
   "id": "f64de4ef",
   "metadata": {},
   "outputs": [],
   "source": [
    "pq.write_table(table, '/Users/aitor/Desktop/Máster Ciencia de Datos/Aprendizaje automático/Machine-Learning/big practice_data/x_test.parquet')"
   ]
  },
  {
   "cell_type": "code",
   "execution_count": null,
   "id": "00266b9c",
   "metadata": {},
   "outputs": [],
   "source": [
    "table_ytest = pa.Table.from_pandas(ytest, preserve_index=False)"
   ]
  },
  {
   "cell_type": "code",
   "execution_count": null,
   "id": "2749deab",
   "metadata": {},
   "outputs": [],
   "source": [
    "pq.write_table(table, '/Users/aitor/Desktop/Máster Ciencia de Datos/Aprendizaje automático/Machine-Learning/big practice_data/ytest.parquet')"
   ]
  }
 ],
 "metadata": {
  "kernelspec": {
   "display_name": "Python [conda env:ML_big_practice]",
   "language": "python",
   "name": "conda-env-ML_big_practice-py"
  },
  "language_info": {
   "codemirror_mode": {
    "name": "ipython",
    "version": 3
   },
   "file_extension": ".py",
   "mimetype": "text/x-python",
   "name": "python",
   "nbconvert_exporter": "python",
   "pygments_lexer": "ipython3",
   "version": "3.9.7"
  }
 },
 "nbformat": 4,
 "nbformat_minor": 5
}
