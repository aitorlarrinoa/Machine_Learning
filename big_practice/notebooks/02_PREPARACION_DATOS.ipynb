{
 "cells": [
  {
   "cell_type": "markdown",
   "id": "2f8b9112",
   "metadata": {},
   "source": [
    "# ANÁLISIS DE SINIESTRALIDAD"
   ]
  },
  {
   "cell_type": "markdown",
   "id": "50b3b778",
   "metadata": {},
   "source": [
    "### CUNEF MUCD (2021/22)"
   ]
  },
  {
   "cell_type": "markdown",
   "id": "57937ff4",
   "metadata": {},
   "source": [
    "- Aitor Larriona Rementería\n",
    "- Diego Cendán Bedregal"
   ]
  },
  {
   "cell_type": "markdown",
   "id": "69660d5d",
   "metadata": {},
   "source": [
    "## LIBRERÍAS"
   ]
  },
  {
   "cell_type": "markdown",
   "id": "4ae3f39a",
   "metadata": {},
   "source": [
    "Librerías básicas"
   ]
  },
  {
   "cell_type": "code",
   "execution_count": 1,
   "id": "f6b8f859",
   "metadata": {},
   "outputs": [],
   "source": [
    "import pandas as pd\n",
    "import matplotlib.pyplot as plt\n",
    "import numpy as np\n",
    "import missingno as msno\n",
    "import seaborn as sns\n",
    "import plotly.express as px\n",
    "from statistics import mode, multimode\n",
    "import time\n",
    "import sklearn\n",
    "import warnings\n",
    "import scikitplot as skplt\n",
    "import statsmodels.api as sapi\n",
    "\n",
    "pd.set_option('display.max_columns', 30)\n",
    "pd.set_option('display.max_rows', 5000)"
   ]
  },
  {
   "cell_type": "markdown",
   "id": "a6d22a15",
   "metadata": {},
   "source": [
    "Librerías para codificar variables categóricas"
   ]
  },
  {
   "cell_type": "code",
   "execution_count": 2,
   "id": "0b7a0a50",
   "metadata": {},
   "outputs": [],
   "source": [
    "import category_encoders as ce\n",
    "from category_encoders.target_encoder import TargetEncoder"
   ]
  },
  {
   "cell_type": "markdown",
   "id": "8178eb3c",
   "metadata": {},
   "source": [
    "Librerías para oversampling"
   ]
  },
  {
   "cell_type": "code",
   "execution_count": 3,
   "id": "a41db832",
   "metadata": {},
   "outputs": [],
   "source": [
    "from imblearn.over_sampling import SMOTE"
   ]
  },
  {
   "cell_type": "code",
   "execution_count": 4,
   "id": "d51062e5",
   "metadata": {},
   "outputs": [],
   "source": [
    "from sklearn.preprocessing import StandardScaler, OneHotEncoder"
   ]
  },
  {
   "cell_type": "markdown",
   "id": "42795697",
   "metadata": {},
   "source": [
    "Librerías para separar en train y test"
   ]
  },
  {
   "cell_type": "code",
   "execution_count": 5,
   "id": "1bb26eba",
   "metadata": {},
   "outputs": [],
   "source": [
    "from sklearn.model_selection import train_test_split\n",
    "from sklearn.preprocessing import LabelEncoder"
   ]
  },
  {
   "cell_type": "markdown",
   "id": "2e5a41f7",
   "metadata": {},
   "source": [
    "Importamos el pipeline y pickle (para guardar los modelos)"
   ]
  },
  {
   "cell_type": "code",
   "execution_count": 6,
   "id": "0252929f",
   "metadata": {},
   "outputs": [],
   "source": [
    "from sklearn.pipeline import Pipeline\n",
    "from sklearn.impute import SimpleImputer\n",
    "from sklearn.compose import ColumnTransformer\n",
    "import pickle"
   ]
  },
  {
   "cell_type": "code",
   "execution_count": 7,
   "id": "dda5d94d",
   "metadata": {},
   "outputs": [],
   "source": [
    "import pyarrow.parquet as pq\n",
    "import pyarrow as pa"
   ]
  },
  {
   "cell_type": "markdown",
   "id": "6fa21b73",
   "metadata": {},
   "source": [
    "Importamos también las funciones necesarias en este notebook del notebook de funciones 00."
   ]
  },
  {
   "cell_type": "code",
   "execution_count": 8,
   "id": "0575f1ae",
   "metadata": {
    "scrolled": true
   },
   "outputs": [],
   "source": [
    "import import_ipynb"
   ]
  },
  {
   "cell_type": "code",
   "execution_count": 9,
   "id": "0de1aa85",
   "metadata": {},
   "outputs": [],
   "source": [
    "%run FUNCIONES"
   ]
  },
  {
   "cell_type": "markdown",
   "id": "916636e1",
   "metadata": {},
   "source": [
    "## Lectura y modificación de los datos"
   ]
  },
  {
   "cell_type": "markdown",
   "id": "043436c4",
   "metadata": {},
   "source": [
    "Lectura de la tabla .parquet que hemos creado en el notebook *01_EDA*"
   ]
  },
  {
   "cell_type": "markdown",
   "id": "e5134630",
   "metadata": {},
   "source": [
    "**Importante:** Antes de utilizar el formato parquet, se ha utilizado también la opción de escribir un csv. Sin embargo, esta opción distorsionaba los datos y no correspondían las clases del data frame pd_data en *01_EDA* con las clases del data frame que cargábamos en este notebook. Por ello, se ha optado por el formato parquet"
   ]
  },
  {
   "cell_type": "code",
   "execution_count": 10,
   "id": "1b01c1c5",
   "metadata": {},
   "outputs": [],
   "source": [
    "table = pq.read_table('/Users/aitor/Desktop/Máster Ciencia de Datos/Aprendizaje automático/Machine-Learning/big_practice_data/pd_data.parquet')"
   ]
  },
  {
   "cell_type": "code",
   "execution_count": 11,
   "id": "14b571a8",
   "metadata": {
    "scrolled": false
   },
   "outputs": [
    {
     "data": {
      "text/html": [
       "<div>\n",
       "<style scoped>\n",
       "    .dataframe tbody tr th:only-of-type {\n",
       "        vertical-align: middle;\n",
       "    }\n",
       "\n",
       "    .dataframe tbody tr th {\n",
       "        vertical-align: top;\n",
       "    }\n",
       "\n",
       "    .dataframe thead th {\n",
       "        text-align: right;\n",
       "    }\n",
       "</style>\n",
       "<table border=\"1\" class=\"dataframe\">\n",
       "  <thead>\n",
       "    <tr style=\"text-align: right;\">\n",
       "      <th></th>\n",
       "      <th>C_YEAR</th>\n",
       "      <th>cos_C_MNTH</th>\n",
       "      <th>sin_C_MNTH</th>\n",
       "      <th>cos_C_WDAY</th>\n",
       "      <th>sin_C_WDAY</th>\n",
       "      <th>cos_C_HOUR</th>\n",
       "      <th>sin_C_HOUR</th>\n",
       "      <th>C_SEV</th>\n",
       "      <th>C_VEHS</th>\n",
       "      <th>C_CONF</th>\n",
       "      <th>C_RCFG</th>\n",
       "      <th>C_WTHR</th>\n",
       "      <th>C_RSUR</th>\n",
       "      <th>C_RALN</th>\n",
       "      <th>C_TRAF</th>\n",
       "      <th>Random</th>\n",
       "    </tr>\n",
       "  </thead>\n",
       "  <tbody>\n",
       "    <tr>\n",
       "      <th>0</th>\n",
       "      <td>1999</td>\n",
       "      <td>0.866025</td>\n",
       "      <td>0.5</td>\n",
       "      <td>0.62349</td>\n",
       "      <td>0.781831</td>\n",
       "      <td>0.682553</td>\n",
       "      <td>-0.730836</td>\n",
       "      <td>2</td>\n",
       "      <td>2</td>\n",
       "      <td>03</td>\n",
       "      <td>None</td>\n",
       "      <td>01</td>\n",
       "      <td>02</td>\n",
       "      <td>02</td>\n",
       "      <td>01</td>\n",
       "      <td>98</td>\n",
       "    </tr>\n",
       "    <tr>\n",
       "      <th>1</th>\n",
       "      <td>1999</td>\n",
       "      <td>0.866025</td>\n",
       "      <td>0.5</td>\n",
       "      <td>0.62349</td>\n",
       "      <td>0.781831</td>\n",
       "      <td>0.682553</td>\n",
       "      <td>-0.730836</td>\n",
       "      <td>2</td>\n",
       "      <td>2</td>\n",
       "      <td>03</td>\n",
       "      <td>None</td>\n",
       "      <td>01</td>\n",
       "      <td>02</td>\n",
       "      <td>02</td>\n",
       "      <td>01</td>\n",
       "      <td>61</td>\n",
       "    </tr>\n",
       "    <tr>\n",
       "      <th>2</th>\n",
       "      <td>1999</td>\n",
       "      <td>0.866025</td>\n",
       "      <td>0.5</td>\n",
       "      <td>0.62349</td>\n",
       "      <td>0.781831</td>\n",
       "      <td>-0.57668</td>\n",
       "      <td>0.81697</td>\n",
       "      <td>2</td>\n",
       "      <td>1</td>\n",
       "      <td>01</td>\n",
       "      <td>None</td>\n",
       "      <td>02</td>\n",
       "      <td>02</td>\n",
       "      <td>02</td>\n",
       "      <td>03</td>\n",
       "      <td>22</td>\n",
       "    </tr>\n",
       "    <tr>\n",
       "      <th>3</th>\n",
       "      <td>1999</td>\n",
       "      <td>0.866025</td>\n",
       "      <td>0.5</td>\n",
       "      <td>0.62349</td>\n",
       "      <td>0.781831</td>\n",
       "      <td>-0.068242</td>\n",
       "      <td>-0.997669</td>\n",
       "      <td>2</td>\n",
       "      <td>3</td>\n",
       "      <td>QQ</td>\n",
       "      <td>QQ</td>\n",
       "      <td>01</td>\n",
       "      <td>02</td>\n",
       "      <td>01</td>\n",
       "      <td>01</td>\n",
       "      <td>75</td>\n",
       "    </tr>\n",
       "    <tr>\n",
       "      <th>4</th>\n",
       "      <td>1999</td>\n",
       "      <td>0.866025</td>\n",
       "      <td>0.5</td>\n",
       "      <td>0.62349</td>\n",
       "      <td>0.781831</td>\n",
       "      <td>-0.068242</td>\n",
       "      <td>-0.997669</td>\n",
       "      <td>2</td>\n",
       "      <td>3</td>\n",
       "      <td>QQ</td>\n",
       "      <td>QQ</td>\n",
       "      <td>01</td>\n",
       "      <td>02</td>\n",
       "      <td>01</td>\n",
       "      <td>01</td>\n",
       "      <td>16</td>\n",
       "    </tr>\n",
       "    <tr>\n",
       "      <th>...</th>\n",
       "      <td>...</td>\n",
       "      <td>...</td>\n",
       "      <td>...</td>\n",
       "      <td>...</td>\n",
       "      <td>...</td>\n",
       "      <td>...</td>\n",
       "      <td>...</td>\n",
       "      <td>...</td>\n",
       "      <td>...</td>\n",
       "      <td>...</td>\n",
       "      <td>...</td>\n",
       "      <td>...</td>\n",
       "      <td>...</td>\n",
       "      <td>...</td>\n",
       "      <td>...</td>\n",
       "      <td>...</td>\n",
       "    </tr>\n",
       "    <tr>\n",
       "      <th>3902109</th>\n",
       "      <td>2014</td>\n",
       "      <td>&lt;NA&gt;</td>\n",
       "      <td>&lt;NA&gt;</td>\n",
       "      <td>&lt;NA&gt;</td>\n",
       "      <td>&lt;NA&gt;</td>\n",
       "      <td>&lt;NA&gt;</td>\n",
       "      <td>&lt;NA&gt;</td>\n",
       "      <td>2</td>\n",
       "      <td>&lt;NA&gt;</td>\n",
       "      <td>None</td>\n",
       "      <td>01</td>\n",
       "      <td>None</td>\n",
       "      <td>None</td>\n",
       "      <td>None</td>\n",
       "      <td>None</td>\n",
       "      <td>36</td>\n",
       "    </tr>\n",
       "    <tr>\n",
       "      <th>3902110</th>\n",
       "      <td>2014</td>\n",
       "      <td>&lt;NA&gt;</td>\n",
       "      <td>&lt;NA&gt;</td>\n",
       "      <td>&lt;NA&gt;</td>\n",
       "      <td>&lt;NA&gt;</td>\n",
       "      <td>&lt;NA&gt;</td>\n",
       "      <td>&lt;NA&gt;</td>\n",
       "      <td>2</td>\n",
       "      <td>&lt;NA&gt;</td>\n",
       "      <td>None</td>\n",
       "      <td>01</td>\n",
       "      <td>None</td>\n",
       "      <td>None</td>\n",
       "      <td>None</td>\n",
       "      <td>None</td>\n",
       "      <td>68</td>\n",
       "    </tr>\n",
       "    <tr>\n",
       "      <th>3902111</th>\n",
       "      <td>2014</td>\n",
       "      <td>&lt;NA&gt;</td>\n",
       "      <td>&lt;NA&gt;</td>\n",
       "      <td>&lt;NA&gt;</td>\n",
       "      <td>&lt;NA&gt;</td>\n",
       "      <td>&lt;NA&gt;</td>\n",
       "      <td>&lt;NA&gt;</td>\n",
       "      <td>2</td>\n",
       "      <td>&lt;NA&gt;</td>\n",
       "      <td>None</td>\n",
       "      <td>01</td>\n",
       "      <td>None</td>\n",
       "      <td>None</td>\n",
       "      <td>None</td>\n",
       "      <td>None</td>\n",
       "      <td>30</td>\n",
       "    </tr>\n",
       "    <tr>\n",
       "      <th>3902112</th>\n",
       "      <td>2014</td>\n",
       "      <td>&lt;NA&gt;</td>\n",
       "      <td>&lt;NA&gt;</td>\n",
       "      <td>&lt;NA&gt;</td>\n",
       "      <td>&lt;NA&gt;</td>\n",
       "      <td>&lt;NA&gt;</td>\n",
       "      <td>&lt;NA&gt;</td>\n",
       "      <td>2</td>\n",
       "      <td>&lt;NA&gt;</td>\n",
       "      <td>None</td>\n",
       "      <td>01</td>\n",
       "      <td>None</td>\n",
       "      <td>None</td>\n",
       "      <td>None</td>\n",
       "      <td>None</td>\n",
       "      <td>52</td>\n",
       "    </tr>\n",
       "    <tr>\n",
       "      <th>3902113</th>\n",
       "      <td>2014</td>\n",
       "      <td>&lt;NA&gt;</td>\n",
       "      <td>&lt;NA&gt;</td>\n",
       "      <td>&lt;NA&gt;</td>\n",
       "      <td>&lt;NA&gt;</td>\n",
       "      <td>-0.775711</td>\n",
       "      <td>-0.631088</td>\n",
       "      <td>2</td>\n",
       "      <td>1</td>\n",
       "      <td>01</td>\n",
       "      <td>01</td>\n",
       "      <td>01</td>\n",
       "      <td>02</td>\n",
       "      <td>02</td>\n",
       "      <td>03</td>\n",
       "      <td>68</td>\n",
       "    </tr>\n",
       "  </tbody>\n",
       "</table>\n",
       "<p>3902114 rows × 16 columns</p>\n",
       "</div>"
      ],
      "text/plain": [
       "         C_YEAR  cos_C_MNTH  sin_C_MNTH  cos_C_WDAY  sin_C_WDAY  cos_C_HOUR  \\\n",
       "0          1999    0.866025         0.5     0.62349    0.781831    0.682553   \n",
       "1          1999    0.866025         0.5     0.62349    0.781831    0.682553   \n",
       "2          1999    0.866025         0.5     0.62349    0.781831    -0.57668   \n",
       "3          1999    0.866025         0.5     0.62349    0.781831   -0.068242   \n",
       "4          1999    0.866025         0.5     0.62349    0.781831   -0.068242   \n",
       "...         ...         ...         ...         ...         ...         ...   \n",
       "3902109    2014        <NA>        <NA>        <NA>        <NA>        <NA>   \n",
       "3902110    2014        <NA>        <NA>        <NA>        <NA>        <NA>   \n",
       "3902111    2014        <NA>        <NA>        <NA>        <NA>        <NA>   \n",
       "3902112    2014        <NA>        <NA>        <NA>        <NA>        <NA>   \n",
       "3902113    2014        <NA>        <NA>        <NA>        <NA>   -0.775711   \n",
       "\n",
       "         sin_C_HOUR  C_SEV  C_VEHS C_CONF C_RCFG C_WTHR C_RSUR C_RALN C_TRAF  \\\n",
       "0         -0.730836      2       2     03   None     01     02     02     01   \n",
       "1         -0.730836      2       2     03   None     01     02     02     01   \n",
       "2           0.81697      2       1     01   None     02     02     02     03   \n",
       "3         -0.997669      2       3     QQ     QQ     01     02     01     01   \n",
       "4         -0.997669      2       3     QQ     QQ     01     02     01     01   \n",
       "...             ...    ...     ...    ...    ...    ...    ...    ...    ...   \n",
       "3902109        <NA>      2    <NA>   None     01   None   None   None   None   \n",
       "3902110        <NA>      2    <NA>   None     01   None   None   None   None   \n",
       "3902111        <NA>      2    <NA>   None     01   None   None   None   None   \n",
       "3902112        <NA>      2    <NA>   None     01   None   None   None   None   \n",
       "3902113   -0.631088      2       1     01     01     01     02     02     03   \n",
       "\n",
       "         Random  \n",
       "0            98  \n",
       "1            61  \n",
       "2            22  \n",
       "3            75  \n",
       "4            16  \n",
       "...         ...  \n",
       "3902109      36  \n",
       "3902110      68  \n",
       "3902111      30  \n",
       "3902112      52  \n",
       "3902113      68  \n",
       "\n",
       "[3902114 rows x 16 columns]"
      ]
     },
     "execution_count": 11,
     "metadata": {},
     "output_type": "execute_result"
    }
   ],
   "source": [
    "df_pd_data = table.to_pandas()\n",
    "df_pd_data"
   ]
  },
  {
   "cell_type": "markdown",
   "id": "054232e3",
   "metadata": {},
   "source": [
    "Comprobemos ahora que la clase de las variables es correcto y que no ha habido modificaciones de ningún tipo"
   ]
  },
  {
   "cell_type": "code",
   "execution_count": 12,
   "id": "e75f702e",
   "metadata": {
    "scrolled": false
   },
   "outputs": [
    {
     "data": {
      "text/plain": [
       "C_YEAR          int64\n",
       "cos_C_MNTH    Float64\n",
       "sin_C_MNTH    Float64\n",
       "cos_C_WDAY    Float64\n",
       "sin_C_WDAY    Float64\n",
       "cos_C_HOUR    Float64\n",
       "sin_C_HOUR    Float64\n",
       "C_SEV           int64\n",
       "C_VEHS          Int64\n",
       "C_CONF         object\n",
       "C_RCFG         object\n",
       "C_WTHR         object\n",
       "C_RSUR         object\n",
       "C_RALN         object\n",
       "C_TRAF         object\n",
       "Random          int64\n",
       "dtype: object"
      ]
     },
     "execution_count": 12,
     "metadata": {},
     "output_type": "execute_result"
    }
   ],
   "source": [
    "df_pd_data.dtypes"
   ]
  },
  {
   "cell_type": "markdown",
   "id": "111ec0df",
   "metadata": {},
   "source": [
    "Nuestro objetivo es predecir si habrá o no muertos en un accidente de tráfico. Es por ello mismo que nos quedaremos con todos los datos relacionados con las colisiones. En otras palabras,"
   ]
  },
  {
   "cell_type": "code",
   "execution_count": 13,
   "id": "49904b7d",
   "metadata": {},
   "outputs": [
    {
     "data": {
      "text/plain": [
       "{'C_YEAR': [1999,\n",
       "  2000,\n",
       "  2001,\n",
       "  2002,\n",
       "  2003,\n",
       "  2004,\n",
       "  2005,\n",
       "  2006,\n",
       "  2007,\n",
       "  2008,\n",
       "  2009,\n",
       "  2010,\n",
       "  2011,\n",
       "  2012,\n",
       "  2013,\n",
       "  2014],\n",
       " 'cos_C_MNTH': [0.8660254037844387,\n",
       "  0.5000000000000001,\n",
       "  6.123233995736766e-17,\n",
       "  -0.4999999999999998,\n",
       "  -0.8660254037844387,\n",
       "  -1.0,\n",
       "  -0.8660254037844388,\n",
       "  -0.5000000000000004,\n",
       "  -1.8369701987210297e-16,\n",
       "  0.5,\n",
       "  0.8660254037844384,\n",
       "  1.0,\n",
       "  <NA>],\n",
       " 'sin_C_MNTH': [0.49999999999999994,\n",
       "  0.8660254037844386,\n",
       "  1.0,\n",
       "  0.8660254037844388,\n",
       "  1.2246467991473532e-16,\n",
       "  -0.4999999999999998,\n",
       "  -0.8660254037844384,\n",
       "  -1.0,\n",
       "  -0.8660254037844386,\n",
       "  -0.5000000000000004,\n",
       "  -2.4492935982947064e-16,\n",
       "  <NA>],\n",
       " 'cos_C_WDAY': [0.6234898018587336,\n",
       "  -0.22252093395631434,\n",
       "  -0.900968867902419,\n",
       "  -0.9009688679024191,\n",
       "  -0.2225209339563146,\n",
       "  0.6234898018587334,\n",
       "  1.0,\n",
       "  <NA>],\n",
       " 'sin_C_WDAY': [0.7818314824680297,\n",
       "  0.9749279121818236,\n",
       "  0.43388373911755823,\n",
       "  -0.433883739117558,\n",
       "  -0.9749279121818235,\n",
       "  -0.7818314824680299,\n",
       "  -2.4492935982947064e-16,\n",
       "  <NA>],\n",
       " 'cos_C_HOUR': [0.6825531432186541,\n",
       "  -0.576680322114867,\n",
       "  -0.06824241336467046,\n",
       "  -0.5766803221148673,\n",
       "  -0.7757112907044198,\n",
       "  0.9629172873477994,\n",
       "  -0.9906859460363306,\n",
       "  -0.9172113015054529,\n",
       "  0.4600650377311516,\n",
       "  -0.3348796121709864,\n",
       "  -0.7757112907044197,\n",
       "  0.8544194045464886,\n",
       "  0.20345601305263328,\n",
       "  -0.9906859460363308,\n",
       "  -0.917211301505453,\n",
       "  1.0,\n",
       "  -0.06824241336467089,\n",
       "  -0.33487961217098616,\n",
       "  <NA>,\n",
       "  0.20345601305263375,\n",
       "  0.962917287347799,\n",
       "  0.46006503773115215],\n",
       " 'sin_C_HOUR': [-0.730835964278124,\n",
       "  0.8169698930104421,\n",
       "  -0.9976687691905393,\n",
       "  -0.8169698930104419,\n",
       "  -0.6310879443260529,\n",
       "  0.2697967711570243,\n",
       "  0.13616664909624707,\n",
       "  -0.39840108984624156,\n",
       "  -0.8878852184023756,\n",
       "  -0.9422609221188204,\n",
       "  0.631087944326053,\n",
       "  0.5195839500354336,\n",
       "  -0.979084087682323,\n",
       "  -0.13616664909624643,\n",
       "  0.3984010898462414,\n",
       "  -2.4492935982947064e-16,\n",
       "  0.0,\n",
       "  0.9976687691905392,\n",
       "  0.9422609221188205,\n",
       "  -0.5195839500354336,\n",
       "  <NA>,\n",
       "  0.9790840876823229,\n",
       "  -0.2697967711570252,\n",
       "  0.730835964278124,\n",
       "  0.8878852184023752],\n",
       " 'C_SEV': [2, 1],\n",
       " 'C_CONF': ['03', '01', 'QQ', '02', None, '04'],\n",
       " 'C_RCFG': [None, 'QQ', '01', '02'],\n",
       " 'C_WTHR': ['01', '02', None, 'Q'],\n",
       " 'C_RSUR': ['02', '01', None, 'Q'],\n",
       " 'C_RALN': ['02', '01', None, 'Q'],\n",
       " 'C_TRAF': ['01', '03', None, 'QQ']}"
      ]
     },
     "execution_count": 13,
     "metadata": {},
     "output_type": "execute_result"
    }
   ],
   "source": [
    "valores_unicos(df_pd_data)"
   ]
  },
  {
   "cell_type": "markdown",
   "id": "b051dede",
   "metadata": {},
   "source": [
    "---"
   ]
  },
  {
   "cell_type": "markdown",
   "id": "20e49751",
   "metadata": {},
   "source": [
    "## Separación en train y test"
   ]
  },
  {
   "cell_type": "markdown",
   "id": "d033af34",
   "metadata": {},
   "source": [
    "Eliminamos la variable objetivo C_SEV y creamos el data frame X. Por otro lado, con la variable C_SEV únicamente, creamos el objeto Y que representará nuestra variable target"
   ]
  },
  {
   "cell_type": "code",
   "execution_count": 14,
   "id": "4b4ca618",
   "metadata": {},
   "outputs": [],
   "source": [
    "X = df_pd_data.drop([\"C_SEV\"], axis = 1)\n",
    "Y = df_pd_data.C_SEV"
   ]
  },
  {
   "cell_type": "markdown",
   "id": "8af82b8c",
   "metadata": {},
   "source": [
    "Mostramos el data frame X"
   ]
  },
  {
   "cell_type": "code",
   "execution_count": 15,
   "id": "b639bc4e",
   "metadata": {},
   "outputs": [
    {
     "data": {
      "text/html": [
       "<div>\n",
       "<style scoped>\n",
       "    .dataframe tbody tr th:only-of-type {\n",
       "        vertical-align: middle;\n",
       "    }\n",
       "\n",
       "    .dataframe tbody tr th {\n",
       "        vertical-align: top;\n",
       "    }\n",
       "\n",
       "    .dataframe thead th {\n",
       "        text-align: right;\n",
       "    }\n",
       "</style>\n",
       "<table border=\"1\" class=\"dataframe\">\n",
       "  <thead>\n",
       "    <tr style=\"text-align: right;\">\n",
       "      <th></th>\n",
       "      <th>C_YEAR</th>\n",
       "      <th>cos_C_MNTH</th>\n",
       "      <th>sin_C_MNTH</th>\n",
       "      <th>cos_C_WDAY</th>\n",
       "      <th>sin_C_WDAY</th>\n",
       "      <th>cos_C_HOUR</th>\n",
       "      <th>sin_C_HOUR</th>\n",
       "      <th>C_VEHS</th>\n",
       "      <th>C_CONF</th>\n",
       "      <th>C_RCFG</th>\n",
       "      <th>C_WTHR</th>\n",
       "      <th>C_RSUR</th>\n",
       "      <th>C_RALN</th>\n",
       "      <th>C_TRAF</th>\n",
       "      <th>Random</th>\n",
       "    </tr>\n",
       "  </thead>\n",
       "  <tbody>\n",
       "    <tr>\n",
       "      <th>0</th>\n",
       "      <td>1999</td>\n",
       "      <td>0.866025</td>\n",
       "      <td>0.5</td>\n",
       "      <td>0.62349</td>\n",
       "      <td>0.781831</td>\n",
       "      <td>0.682553</td>\n",
       "      <td>-0.730836</td>\n",
       "      <td>2</td>\n",
       "      <td>03</td>\n",
       "      <td>None</td>\n",
       "      <td>01</td>\n",
       "      <td>02</td>\n",
       "      <td>02</td>\n",
       "      <td>01</td>\n",
       "      <td>98</td>\n",
       "    </tr>\n",
       "    <tr>\n",
       "      <th>1</th>\n",
       "      <td>1999</td>\n",
       "      <td>0.866025</td>\n",
       "      <td>0.5</td>\n",
       "      <td>0.62349</td>\n",
       "      <td>0.781831</td>\n",
       "      <td>0.682553</td>\n",
       "      <td>-0.730836</td>\n",
       "      <td>2</td>\n",
       "      <td>03</td>\n",
       "      <td>None</td>\n",
       "      <td>01</td>\n",
       "      <td>02</td>\n",
       "      <td>02</td>\n",
       "      <td>01</td>\n",
       "      <td>61</td>\n",
       "    </tr>\n",
       "    <tr>\n",
       "      <th>2</th>\n",
       "      <td>1999</td>\n",
       "      <td>0.866025</td>\n",
       "      <td>0.5</td>\n",
       "      <td>0.62349</td>\n",
       "      <td>0.781831</td>\n",
       "      <td>-0.57668</td>\n",
       "      <td>0.81697</td>\n",
       "      <td>1</td>\n",
       "      <td>01</td>\n",
       "      <td>None</td>\n",
       "      <td>02</td>\n",
       "      <td>02</td>\n",
       "      <td>02</td>\n",
       "      <td>03</td>\n",
       "      <td>22</td>\n",
       "    </tr>\n",
       "    <tr>\n",
       "      <th>3</th>\n",
       "      <td>1999</td>\n",
       "      <td>0.866025</td>\n",
       "      <td>0.5</td>\n",
       "      <td>0.62349</td>\n",
       "      <td>0.781831</td>\n",
       "      <td>-0.068242</td>\n",
       "      <td>-0.997669</td>\n",
       "      <td>3</td>\n",
       "      <td>QQ</td>\n",
       "      <td>QQ</td>\n",
       "      <td>01</td>\n",
       "      <td>02</td>\n",
       "      <td>01</td>\n",
       "      <td>01</td>\n",
       "      <td>75</td>\n",
       "    </tr>\n",
       "    <tr>\n",
       "      <th>4</th>\n",
       "      <td>1999</td>\n",
       "      <td>0.866025</td>\n",
       "      <td>0.5</td>\n",
       "      <td>0.62349</td>\n",
       "      <td>0.781831</td>\n",
       "      <td>-0.068242</td>\n",
       "      <td>-0.997669</td>\n",
       "      <td>3</td>\n",
       "      <td>QQ</td>\n",
       "      <td>QQ</td>\n",
       "      <td>01</td>\n",
       "      <td>02</td>\n",
       "      <td>01</td>\n",
       "      <td>01</td>\n",
       "      <td>16</td>\n",
       "    </tr>\n",
       "    <tr>\n",
       "      <th>...</th>\n",
       "      <td>...</td>\n",
       "      <td>...</td>\n",
       "      <td>...</td>\n",
       "      <td>...</td>\n",
       "      <td>...</td>\n",
       "      <td>...</td>\n",
       "      <td>...</td>\n",
       "      <td>...</td>\n",
       "      <td>...</td>\n",
       "      <td>...</td>\n",
       "      <td>...</td>\n",
       "      <td>...</td>\n",
       "      <td>...</td>\n",
       "      <td>...</td>\n",
       "      <td>...</td>\n",
       "    </tr>\n",
       "    <tr>\n",
       "      <th>3902109</th>\n",
       "      <td>2014</td>\n",
       "      <td>&lt;NA&gt;</td>\n",
       "      <td>&lt;NA&gt;</td>\n",
       "      <td>&lt;NA&gt;</td>\n",
       "      <td>&lt;NA&gt;</td>\n",
       "      <td>&lt;NA&gt;</td>\n",
       "      <td>&lt;NA&gt;</td>\n",
       "      <td>&lt;NA&gt;</td>\n",
       "      <td>None</td>\n",
       "      <td>01</td>\n",
       "      <td>None</td>\n",
       "      <td>None</td>\n",
       "      <td>None</td>\n",
       "      <td>None</td>\n",
       "      <td>36</td>\n",
       "    </tr>\n",
       "    <tr>\n",
       "      <th>3902110</th>\n",
       "      <td>2014</td>\n",
       "      <td>&lt;NA&gt;</td>\n",
       "      <td>&lt;NA&gt;</td>\n",
       "      <td>&lt;NA&gt;</td>\n",
       "      <td>&lt;NA&gt;</td>\n",
       "      <td>&lt;NA&gt;</td>\n",
       "      <td>&lt;NA&gt;</td>\n",
       "      <td>&lt;NA&gt;</td>\n",
       "      <td>None</td>\n",
       "      <td>01</td>\n",
       "      <td>None</td>\n",
       "      <td>None</td>\n",
       "      <td>None</td>\n",
       "      <td>None</td>\n",
       "      <td>68</td>\n",
       "    </tr>\n",
       "    <tr>\n",
       "      <th>3902111</th>\n",
       "      <td>2014</td>\n",
       "      <td>&lt;NA&gt;</td>\n",
       "      <td>&lt;NA&gt;</td>\n",
       "      <td>&lt;NA&gt;</td>\n",
       "      <td>&lt;NA&gt;</td>\n",
       "      <td>&lt;NA&gt;</td>\n",
       "      <td>&lt;NA&gt;</td>\n",
       "      <td>&lt;NA&gt;</td>\n",
       "      <td>None</td>\n",
       "      <td>01</td>\n",
       "      <td>None</td>\n",
       "      <td>None</td>\n",
       "      <td>None</td>\n",
       "      <td>None</td>\n",
       "      <td>30</td>\n",
       "    </tr>\n",
       "    <tr>\n",
       "      <th>3902112</th>\n",
       "      <td>2014</td>\n",
       "      <td>&lt;NA&gt;</td>\n",
       "      <td>&lt;NA&gt;</td>\n",
       "      <td>&lt;NA&gt;</td>\n",
       "      <td>&lt;NA&gt;</td>\n",
       "      <td>&lt;NA&gt;</td>\n",
       "      <td>&lt;NA&gt;</td>\n",
       "      <td>&lt;NA&gt;</td>\n",
       "      <td>None</td>\n",
       "      <td>01</td>\n",
       "      <td>None</td>\n",
       "      <td>None</td>\n",
       "      <td>None</td>\n",
       "      <td>None</td>\n",
       "      <td>52</td>\n",
       "    </tr>\n",
       "    <tr>\n",
       "      <th>3902113</th>\n",
       "      <td>2014</td>\n",
       "      <td>&lt;NA&gt;</td>\n",
       "      <td>&lt;NA&gt;</td>\n",
       "      <td>&lt;NA&gt;</td>\n",
       "      <td>&lt;NA&gt;</td>\n",
       "      <td>-0.775711</td>\n",
       "      <td>-0.631088</td>\n",
       "      <td>1</td>\n",
       "      <td>01</td>\n",
       "      <td>01</td>\n",
       "      <td>01</td>\n",
       "      <td>02</td>\n",
       "      <td>02</td>\n",
       "      <td>03</td>\n",
       "      <td>68</td>\n",
       "    </tr>\n",
       "  </tbody>\n",
       "</table>\n",
       "<p>3902114 rows × 15 columns</p>\n",
       "</div>"
      ],
      "text/plain": [
       "         C_YEAR  cos_C_MNTH  sin_C_MNTH  cos_C_WDAY  sin_C_WDAY  cos_C_HOUR  \\\n",
       "0          1999    0.866025         0.5     0.62349    0.781831    0.682553   \n",
       "1          1999    0.866025         0.5     0.62349    0.781831    0.682553   \n",
       "2          1999    0.866025         0.5     0.62349    0.781831    -0.57668   \n",
       "3          1999    0.866025         0.5     0.62349    0.781831   -0.068242   \n",
       "4          1999    0.866025         0.5     0.62349    0.781831   -0.068242   \n",
       "...         ...         ...         ...         ...         ...         ...   \n",
       "3902109    2014        <NA>        <NA>        <NA>        <NA>        <NA>   \n",
       "3902110    2014        <NA>        <NA>        <NA>        <NA>        <NA>   \n",
       "3902111    2014        <NA>        <NA>        <NA>        <NA>        <NA>   \n",
       "3902112    2014        <NA>        <NA>        <NA>        <NA>        <NA>   \n",
       "3902113    2014        <NA>        <NA>        <NA>        <NA>   -0.775711   \n",
       "\n",
       "         sin_C_HOUR  C_VEHS C_CONF C_RCFG C_WTHR C_RSUR C_RALN C_TRAF  Random  \n",
       "0         -0.730836       2     03   None     01     02     02     01      98  \n",
       "1         -0.730836       2     03   None     01     02     02     01      61  \n",
       "2           0.81697       1     01   None     02     02     02     03      22  \n",
       "3         -0.997669       3     QQ     QQ     01     02     01     01      75  \n",
       "4         -0.997669       3     QQ     QQ     01     02     01     01      16  \n",
       "...             ...     ...    ...    ...    ...    ...    ...    ...     ...  \n",
       "3902109        <NA>    <NA>   None     01   None   None   None   None      36  \n",
       "3902110        <NA>    <NA>   None     01   None   None   None   None      68  \n",
       "3902111        <NA>    <NA>   None     01   None   None   None   None      30  \n",
       "3902112        <NA>    <NA>   None     01   None   None   None   None      52  \n",
       "3902113   -0.631088       1     01     01     01     02     02     03      68  \n",
       "\n",
       "[3902114 rows x 15 columns]"
      ]
     },
     "execution_count": 15,
     "metadata": {},
     "output_type": "execute_result"
    }
   ],
   "source": [
    "X"
   ]
  },
  {
   "cell_type": "code",
   "execution_count": 16,
   "id": "389b20c2",
   "metadata": {},
   "outputs": [
    {
     "data": {
      "text/plain": [
       "array([1, 1, 1, ..., 1, 1, 1])"
      ]
     },
     "execution_count": 16,
     "metadata": {},
     "output_type": "execute_result"
    }
   ],
   "source": [
    "Y = LabelEncoder().fit_transform(Y)\n",
    "Y"
   ]
  },
  {
   "cell_type": "markdown",
   "id": "0a135979",
   "metadata": {},
   "source": [
    "LabelEconder() otorga etiquetas categóricas según el valor que puede tomar nuestra variable target. En este caso, 2=1 (1 = No fallecidos) y 1=0 (0= Al menos un fallecido)"
   ]
  },
  {
   "cell_type": "markdown",
   "id": "f918cc4a",
   "metadata": {},
   "source": [
    "Separamos en train y test con una semilla de 0 y un tamaño de 75% y 25% para el conjunto de train y test respectivamente"
   ]
  },
  {
   "cell_type": "code",
   "execution_count": 17,
   "id": "746ef6b7",
   "metadata": {},
   "outputs": [],
   "source": [
    "xtrain, xtest, ytrain, ytest = train_test_split(X, Y, test_size=0.25, random_state=0)"
   ]
  },
  {
   "cell_type": "code",
   "execution_count": 18,
   "id": "a5519cb2",
   "metadata": {},
   "outputs": [
    {
     "data": {
      "text/plain": [
       "C_YEAR          int64\n",
       "cos_C_MNTH    Float64\n",
       "sin_C_MNTH    Float64\n",
       "cos_C_WDAY    Float64\n",
       "sin_C_WDAY    Float64\n",
       "cos_C_HOUR    Float64\n",
       "sin_C_HOUR    Float64\n",
       "C_VEHS          Int64\n",
       "C_CONF         object\n",
       "C_RCFG         object\n",
       "C_WTHR         object\n",
       "C_RSUR         object\n",
       "C_RALN         object\n",
       "C_TRAF         object\n",
       "Random          int64\n",
       "dtype: object"
      ]
     },
     "execution_count": 18,
     "metadata": {},
     "output_type": "execute_result"
    }
   ],
   "source": [
    "xtrain.dtypes"
   ]
  },
  {
   "cell_type": "markdown",
   "id": "f2c4e53c",
   "metadata": {},
   "source": [
    "---"
   ]
  },
  {
   "cell_type": "markdown",
   "id": "a69c983f",
   "metadata": {},
   "source": [
    "## Preparación de los datos"
   ]
  },
  {
   "cell_type": "markdown",
   "id": "347d1c81",
   "metadata": {},
   "source": [
    "Dado que tenemos un dataset desbalanceado (véase notebook *01_EDA*) nuestro objetivo será hacer uso de la técnica de oversampling, la cual explicaremos más adelante, para dotar de mayor información a los modelos a la hora de entrenar. Pero, para poder realizar el oversampling sobre el conjunto de datos, deberemos realizar varios cambios a las columnas, en función si son numéricas o de tipo object.\n",
    "- Si las columnas son numéricas, se deberá imputar sus valores y missing y, posteriormente hacer un escalado.\n",
    "- Si las columnas son categóricas, o de tipo object, se deberá hacer una codificación de las mismas."
   ]
  },
  {
   "cell_type": "markdown",
   "id": "a0c6ee34",
   "metadata": {},
   "source": [
    "Para realizar estas modificaciones haremos uso de los *Pipeline*. \n",
    "\n",
    "**Def.** Pipeline es un objeto que sirve para realizar una secuencia de diferentes transformaciones. \n",
    "\n",
    "Nosotros, en este caso, utilizaremos el pipeline para realizar, para cada tipo de columna, los pasos mencionados anteriormente. Es por ello que trataremos con dos pipelines, por un lado el de las columnas numéricas y, por otro, el de las columnas categóricas. \n",
    "\n",
    "Para las columnas numéricas realizaremos en primer lugar una imputación de los valores missing por la moda y después escalaremos las columnas mediante el StandardScaler (véase explicación de StandardScaler en *01_EDA*). Para las columnas categóricas, sin embargo, nos bastará únicamente con codificar la variable con el OneHotEncoding.\n",
    "\n",
    "**Def.** El one hot encoding crea una columna nueva para cada valor distinto que exista en la variable a codificar. Cada registro se marca con el valor uno en la columna a la que pertenece el valor y los demás registros tomarán el valor 0."
   ]
  },
  {
   "cell_type": "code",
   "execution_count": 19,
   "id": "6e356692",
   "metadata": {},
   "outputs": [],
   "source": [
    "scaled_transform = Pipeline(steps=[('imputer', SimpleImputer(strategy='most_frequent')),\n",
    "                                    ('scaler', StandardScaler())])"
   ]
  },
  {
   "cell_type": "code",
   "execution_count": 20,
   "id": "6ec16a27",
   "metadata": {},
   "outputs": [],
   "source": [
    "impute_NA = Pipeline(steps=[('imputer', SimpleImputer(strategy='most_frequent'))])"
   ]
  },
  {
   "cell_type": "code",
   "execution_count": 21,
   "id": "d37b2616",
   "metadata": {},
   "outputs": [],
   "source": [
    "categorical_transform = Pipeline(steps=[('ohe', OneHotEncoder())])"
   ]
  },
  {
   "cell_type": "markdown",
   "id": "12fe3255",
   "metadata": {},
   "source": [
    "Ahora, necesitamos seleccionar las columnas numéricas y categóricas. Esto lo hacemos de la siguiente forma"
   ]
  },
  {
   "cell_type": "code",
   "execution_count": 22,
   "id": "e097de2f",
   "metadata": {},
   "outputs": [],
   "source": [
    "numeric_data = df_pd_data.select_dtypes(include=['int', \"float\"]).drop([\"C_SEV\"], axis=1).columns\n",
    "int_data = df_pd_data.select_dtypes(include=['int']).drop([\"C_SEV\"], axis=1).columns\n",
    "cat_data = df_pd_data.select_dtypes(include=['object']).columns"
   ]
  },
  {
   "cell_type": "markdown",
   "id": "54771906",
   "metadata": {},
   "source": [
    "Para poder llevar a cabo el pipeline necesitamos del estimador *ColumnTransformer*. Esta función permite transformar, de forma separada, diferentes columnas y luego se concatenan los resultados para obtener un único dataset. Para nosotros es perfecto ya que no todas nuestras columnas del dataset necesitan ser modificadas de la misma manera como hemos podido ver anteriormente.\n",
    "\n",
    "A las columnas numéricas les aplicaremos el pipeline numérico y a las categóricas el pipeline categórico"
   ]
  },
  {
   "cell_type": "code",
   "execution_count": 23,
   "id": "0ca7f849",
   "metadata": {},
   "outputs": [],
   "source": [
    "preprocessor = ColumnTransformer(\n",
    "    transformers=[\n",
    "        ('NA', impute_NA, numeric_data),\n",
    "        ('cat', categorical_transform, cat_data),\n",
    "        (\"num\", scaled_transform, int_data)])"
   ]
  },
  {
   "cell_type": "markdown",
   "id": "c8b97e76",
   "metadata": {},
   "source": [
    "Debido a que, de momento, no nos interesa escalar el test, hemos tenido problemas a la hora de intentar hacer un nuevo pipeline para el test. La única modificación que haremos en el test será la imputación de los NAs. Esta la haremos a mano de la siguiente forma:"
   ]
  },
  {
   "cell_type": "code",
   "execution_count": 24,
   "id": "5dd284f9",
   "metadata": {
    "scrolled": true
   },
   "outputs": [
    {
     "data": {
      "text/plain": [
       "ColumnTransformer(transformers=[('NA',\n",
       "                                 Pipeline(steps=[('imputer',\n",
       "                                                  SimpleImputer(strategy='most_frequent'))]),\n",
       "                                 Index(['C_YEAR', 'cos_C_MNTH', 'sin_C_MNTH', 'cos_C_WDAY', 'sin_C_WDAY',\n",
       "       'cos_C_HOUR', 'sin_C_HOUR', 'C_VEHS', 'Random'],\n",
       "      dtype='object')),\n",
       "                                ('cat',\n",
       "                                 Pipeline(steps=[('ohe', OneHotEncoder())]),\n",
       "                                 Index(['C_CONF', 'C_RCFG', 'C_WTHR', 'C_RSUR', 'C_RALN', 'C_TRAF'], dtype='object')),\n",
       "                                ('num',\n",
       "                                 Pipeline(steps=[('imputer',\n",
       "                                                  SimpleImputer(strategy='most_frequent')),\n",
       "                                                 ('scaler', StandardScaler())]),\n",
       "                                 Index(['C_YEAR', 'C_VEHS', 'Random'], dtype='object'))])"
      ]
     },
     "execution_count": 24,
     "metadata": {},
     "output_type": "execute_result"
    }
   ],
   "source": [
    "preprocessor.fit(xtrain, ytrain)"
   ]
  },
  {
   "cell_type": "markdown",
   "id": "90721609",
   "metadata": {},
   "source": [
    "Entrenamos nuestro estimador con los datos de training"
   ]
  },
  {
   "cell_type": "markdown",
   "id": "35729275",
   "metadata": {},
   "source": [
    "Ahora ya podemos transformar nuestros datos mediante el atributo .transform. Lo haremos de los datos de training únicamente, de momento."
   ]
  },
  {
   "cell_type": "code",
   "execution_count": 25,
   "id": "0960118f",
   "metadata": {},
   "outputs": [],
   "source": [
    "xtrain = preprocessor.transform(xtrain)"
   ]
  },
  {
   "cell_type": "code",
   "execution_count": 26,
   "id": "f3f2d40a",
   "metadata": {},
   "outputs": [],
   "source": [
    "xtest = preprocessor.transform(xtest)"
   ]
  },
  {
   "cell_type": "markdown",
   "id": "25349d43",
   "metadata": {},
   "source": [
    "Para obtener los datos en formato de data frame necesitamos pasarlos, precisamente, a data frame"
   ]
  },
  {
   "cell_type": "code",
   "execution_count": 27,
   "id": "763d48f1",
   "metadata": {
    "scrolled": true
   },
   "outputs": [
    {
     "name": "stderr",
     "output_type": "stream",
     "text": [
      "/Users/aitor/Desktop/Máster Ciencia de Datos/Aprendizaje automático/Machine-Learning/big_practice/notebooks/FUNCIONES.py:334: UserWarning: Transformer imputer (type SimpleImputer) does not provide get_feature_names. Will return input column names if available\n",
      "  warnings.warn(\"Transformer %s (type %s) does not \"\n",
      "/Users/aitor/opt/anaconda3/envs/ML_big_practice/lib/python3.9/site-packages/sklearn/utils/deprecation.py:87: FutureWarning: Function get_feature_names is deprecated; get_feature_names is deprecated in 1.0 and will be removed in 1.2. Please use get_feature_names_out instead.\n",
      "  warnings.warn(msg, category=FutureWarning)\n",
      "/Users/aitor/Desktop/Máster Ciencia de Datos/Aprendizaje automático/Machine-Learning/big_practice/notebooks/FUNCIONES.py:334: UserWarning: Transformer scaler (type StandardScaler) does not provide get_feature_names. Will return input column names if available\n",
      "  warnings.warn(\"Transformer %s (type %s) does not \"\n"
     ]
    }
   ],
   "source": [
    "x_train = pd.DataFrame(xtrain, columns=get_feature_names(preprocessor))\n",
    "x_test = pd.DataFrame(xtest, columns=get_feature_names(preprocessor))"
   ]
  },
  {
   "cell_type": "markdown",
   "id": "e1ba3dc3",
   "metadata": {},
   "source": [
    "Comprobamos que, efectivamente, ya no tenemos ningún valor nulo en el dataset de training"
   ]
  },
  {
   "cell_type": "code",
   "execution_count": 28,
   "id": "deb7b4a8",
   "metadata": {},
   "outputs": [
    {
     "data": {
      "text/plain": [
       "array([[ 2.00400000e+03, -1.00000000e+00,  1.22464680e-16, ...,\n",
       "        -4.38597706e-01, -8.42755501e-01, -1.55427345e-01],\n",
       "       [ 2.00300000e+03, -1.83697020e-16, -1.00000000e+00, ...,\n",
       "        -6.57492328e-01, -7.37843983e-02,  4.33463624e-01],\n",
       "       [ 2.00700000e+03, -5.00000000e-01,  8.66025404e-01, ...,\n",
       "         2.18086160e-01, -7.37843983e-02,  1.54196427e+00],\n",
       "       ...,\n",
       "       [ 2.00700000e+03, -5.00000000e-01,  8.66025404e-01, ...,\n",
       "         2.18086160e-01, -7.37843983e-02, -9.86802830e-01],\n",
       "       [ 2.00400000e+03, -1.00000000e+00,  1.22464680e-16, ...,\n",
       "        -4.38597706e-01,  1.46415781e+00, -6.75037023e-01],\n",
       "       [ 2.00000000e+03,  5.00000000e-01,  8.66025404e-01, ...,\n",
       "        -1.31417619e+00, -7.37843983e-02,  1.54196427e+00]])"
      ]
     },
     "execution_count": 28,
     "metadata": {},
     "output_type": "execute_result"
    }
   ],
   "source": [
    "xtrain"
   ]
  },
  {
   "cell_type": "code",
   "execution_count": 29,
   "id": "c3937718",
   "metadata": {},
   "outputs": [
    {
     "data": {
      "text/plain": [
       "{'NA_C_YEAR': [2004.0,\n",
       "  2003.0,\n",
       "  2007.0,\n",
       "  2000.0,\n",
       "  1999.0,\n",
       "  2005.0,\n",
       "  2013.0,\n",
       "  2012.0,\n",
       "  2001.0,\n",
       "  2011.0,\n",
       "  2008.0,\n",
       "  2002.0,\n",
       "  2014.0,\n",
       "  2006.0,\n",
       "  2010.0,\n",
       "  2009.0],\n",
       " 'NA_cos_C_MNTH': [-1.0,\n",
       "  -1.8369701987210297e-16,\n",
       "  -0.4999999999999998,\n",
       "  0.5,\n",
       "  -0.8660254037844387,\n",
       "  -0.8660254037844388,\n",
       "  0.8660254037844387,\n",
       "  6.123233995736766e-17,\n",
       "  -0.5000000000000004,\n",
       "  0.8660254037844384,\n",
       "  1.0,\n",
       "  0.5000000000000001],\n",
       " 'NA_sin_C_MNTH': [1.2246467991473532e-16,\n",
       "  -1.0,\n",
       "  0.8660254037844388,\n",
       "  -0.8660254037844386,\n",
       "  0.49999999999999994,\n",
       "  -0.4999999999999998,\n",
       "  1.0,\n",
       "  -0.8660254037844384,\n",
       "  -0.5000000000000004,\n",
       "  -2.4492935982947064e-16,\n",
       "  0.8660254037844386],\n",
       " 'NA_cos_C_WDAY': [0.6234898018587334,\n",
       "  -0.2225209339563146,\n",
       "  0.6234898018587336,\n",
       "  1.0,\n",
       "  -0.900968867902419,\n",
       "  -0.22252093395631434,\n",
       "  -0.9009688679024191],\n",
       " 'NA_sin_C_WDAY': [-0.7818314824680299,\n",
       "  -0.9749279121818235,\n",
       "  0.7818314824680297,\n",
       "  -2.4492935982947064e-16,\n",
       "  0.43388373911755823,\n",
       "  0.9749279121818236,\n",
       "  -0.433883739117558],\n",
       " 'NA_cos_C_HOUR': [-0.3348796121709864,\n",
       "  -0.576680322114867,\n",
       "  -0.06824241336467046,\n",
       "  0.20345601305263328,\n",
       "  -0.9906859460363306,\n",
       "  -0.33487961217098616,\n",
       "  -0.7757112907044198,\n",
       "  -0.9906859460363308,\n",
       "  0.8544194045464886,\n",
       "  0.6825531432186541,\n",
       "  -0.5766803221148673,\n",
       "  -0.917211301505453,\n",
       "  0.20345601305263375,\n",
       "  -0.7757112907044197,\n",
       "  -0.9172113015054529,\n",
       "  1.0,\n",
       "  0.4600650377311516,\n",
       "  0.962917287347799,\n",
       "  0.46006503773115215,\n",
       "  0.9629172873477994,\n",
       "  -0.06824241336467089],\n",
       " 'NA_sin_C_HOUR': [-0.9422609221188204,\n",
       "  0.8169698930104421,\n",
       "  -0.9976687691905393,\n",
       "  -0.979084087682323,\n",
       "  0.13616664909624707,\n",
       "  0.9422609221188205,\n",
       "  -0.6310879443260529,\n",
       "  -0.13616664909624643,\n",
       "  -0.5195839500354336,\n",
       "  -0.730835964278124,\n",
       "  -0.8169698930104419,\n",
       "  0.3984010898462414,\n",
       "  0.9790840876823229,\n",
       "  0.5195839500354336,\n",
       "  0.631087944326053,\n",
       "  -0.39840108984624156,\n",
       "  -2.4492935982947064e-16,\n",
       "  -0.8878852184023756,\n",
       "  -0.2697967711570252,\n",
       "  0.0,\n",
       "  0.730835964278124,\n",
       "  0.8878852184023752,\n",
       "  0.2697967711570243,\n",
       "  0.9976687691905392],\n",
       " 'NA_C_VEHS': [1.0,\n",
       "  2.0,\n",
       "  5.0,\n",
       "  3.0,\n",
       "  4.0,\n",
       "  6.0,\n",
       "  7.0,\n",
       "  57.0,\n",
       "  8.0,\n",
       "  10.0,\n",
       "  20.0,\n",
       "  36.0,\n",
       "  15.0,\n",
       "  77.0,\n",
       "  13.0,\n",
       "  9.0,\n",
       "  11.0,\n",
       "  58.0,\n",
       "  17.0,\n",
       "  14.0,\n",
       "  44.0,\n",
       "  28.0,\n",
       "  26.0,\n",
       "  16.0,\n",
       "  35.0,\n",
       "  30.0,\n",
       "  12.0,\n",
       "  71.0,\n",
       "  31.0,\n",
       "  29.0,\n",
       "  51.0,\n",
       "  72.0,\n",
       "  21.0,\n",
       "  39.0,\n",
       "  38.0,\n",
       "  19.0,\n",
       "  40.0,\n",
       "  54.0,\n",
       "  46.0,\n",
       "  37.0,\n",
       "  34.0,\n",
       "  18.0,\n",
       "  56.0,\n",
       "  22.0,\n",
       "  32.0,\n",
       "  24.0,\n",
       "  25.0,\n",
       "  41.0,\n",
       "  33.0,\n",
       "  23.0,\n",
       "  43.0,\n",
       "  27.0],\n",
       " 'NA_Random': [45.0,\n",
       "  62.0,\n",
       "  94.0,\n",
       "  11.0,\n",
       "  77.0,\n",
       "  72.0,\n",
       "  96.0,\n",
       "  95.0,\n",
       "  69.0,\n",
       "  70.0,\n",
       "  23.0,\n",
       "  9.0,\n",
       "  90.0,\n",
       "  39.0,\n",
       "  53.0,\n",
       "  6.0,\n",
       "  1.0,\n",
       "  76.0,\n",
       "  25.0,\n",
       "  73.0,\n",
       "  91.0,\n",
       "  78.0,\n",
       "  97.0,\n",
       "  87.0,\n",
       "  66.0,\n",
       "  43.0,\n",
       "  59.0,\n",
       "  0.0,\n",
       "  63.0,\n",
       "  75.0,\n",
       "  32.0,\n",
       "  5.0,\n",
       "  80.0,\n",
       "  50.0,\n",
       "  71.0,\n",
       "  21.0,\n",
       "  7.0,\n",
       "  27.0,\n",
       "  54.0,\n",
       "  38.0,\n",
       "  56.0,\n",
       "  48.0,\n",
       "  30.0,\n",
       "  24.0,\n",
       "  64.0,\n",
       "  31.0,\n",
       "  84.0,\n",
       "  17.0,\n",
       "  52.0,\n",
       "  22.0,\n",
       "  79.0,\n",
       "  49.0,\n",
       "  60.0,\n",
       "  58.0,\n",
       "  99.0,\n",
       "  92.0,\n",
       "  44.0,\n",
       "  51.0,\n",
       "  68.0,\n",
       "  40.0,\n",
       "  67.0,\n",
       "  41.0,\n",
       "  34.0,\n",
       "  46.0,\n",
       "  26.0,\n",
       "  14.0,\n",
       "  20.0,\n",
       "  33.0,\n",
       "  13.0,\n",
       "  42.0,\n",
       "  29.0,\n",
       "  28.0,\n",
       "  81.0,\n",
       "  65.0,\n",
       "  18.0,\n",
       "  15.0,\n",
       "  10.0,\n",
       "  98.0,\n",
       "  55.0,\n",
       "  61.0,\n",
       "  93.0,\n",
       "  88.0,\n",
       "  37.0,\n",
       "  86.0,\n",
       "  36.0,\n",
       "  4.0,\n",
       "  35.0,\n",
       "  8.0,\n",
       "  3.0,\n",
       "  16.0,\n",
       "  89.0,\n",
       "  83.0,\n",
       "  12.0,\n",
       "  82.0,\n",
       "  85.0,\n",
       "  2.0,\n",
       "  47.0,\n",
       "  57.0,\n",
       "  19.0,\n",
       "  74.0],\n",
       " 'ohe_x0_01': [1.0, 0.0],\n",
       " 'ohe_x0_02': [0.0, 1.0],\n",
       " 'ohe_x0_03': [0.0, 1.0],\n",
       " 'ohe_x0_04': [0.0, 1.0],\n",
       " 'ohe_x0_QQ': [0.0, 1.0],\n",
       " 'ohe_x0_None': [0.0, 1.0],\n",
       " 'ohe_x1_01': [1.0, 0.0],\n",
       " 'ohe_x1_02': [0.0, 1.0],\n",
       " 'ohe_x1_QQ': [0.0, 1.0],\n",
       " 'ohe_x1_None': [0.0, 1.0],\n",
       " 'ohe_x2_01': [0.0, 1.0],\n",
       " 'ohe_x2_02': [1.0, 0.0],\n",
       " 'ohe_x2_Q': [0.0, 1.0],\n",
       " 'ohe_x2_None': [0.0, 1.0],\n",
       " 'ohe_x3_01': [1.0, 0.0],\n",
       " 'ohe_x3_02': [0.0, 1.0],\n",
       " 'ohe_x3_Q': [0.0, 1.0],\n",
       " 'ohe_x3_None': [0.0, 1.0],\n",
       " 'ohe_x4_01': [0.0, 1.0],\n",
       " 'ohe_x4_02': [1.0, 0.0],\n",
       " 'ohe_x4_Q': [0.0, 1.0],\n",
       " 'ohe_x4_None': [0.0, 1.0],\n",
       " 'ohe_x5_01': [0.0, 1.0],\n",
       " 'ohe_x5_03': [1.0, 0.0],\n",
       " 'ohe_x5_QQ': [0.0, 1.0],\n",
       " 'ohe_x5_None': [0.0, 1.0],\n",
       " 'num_C_YEAR': [-0.43859770596865966,\n",
       "  -0.6574923280882563,\n",
       "  0.2180861603901303,\n",
       "  -1.3141761944470463,\n",
       "  -1.533070816566643,\n",
       "  -0.219703083849063,\n",
       "  1.5314538931077102,\n",
       "  1.3125592709881135,\n",
       "  -1.0952815723274496,\n",
       "  1.0936646488685169,\n",
       "  0.43698078250972694,\n",
       "  -0.876386950207853,\n",
       "  1.7503485152273068,\n",
       "  -0.0008084617294663522,\n",
       "  0.8747700267489202,\n",
       "  0.6558754046293236],\n",
       " 'num_C_VEHS': [-0.842755501375891,\n",
       "  -0.07378439833059847,\n",
       "  2.233128910805279,\n",
       "  0.695186704714694,\n",
       "  1.4641578077599866,\n",
       "  3.0021000138505713,\n",
       "  3.771071116895864,\n",
       "  42.21962626916049,\n",
       "  4.5400422199411565,\n",
       "  6.077984426031742,\n",
       "  13.767695456484665,\n",
       "  26.07123310520935,\n",
       "  9.922839941258204,\n",
       "  57.59904833006633,\n",
       "  8.38489773516762,\n",
       "  5.309013322986449,\n",
       "  6.846955529077034,\n",
       "  42.98859737220578,\n",
       "  11.46078214734879,\n",
       "  9.153868838212912,\n",
       "  32.22300192957169,\n",
       "  19.919464280847006,\n",
       "  18.381522074756422,\n",
       "  10.691811044303497,\n",
       "  25.302262002164056,\n",
       "  21.45740648693759,\n",
       "  7.615926632122327,\n",
       "  52.98522171179458,\n",
       "  22.22637758998288,\n",
       "  20.688435383892298,\n",
       "  37.605799650888734,\n",
       "  53.754192814839875,\n",
       "  14.536666559529959,\n",
       "  28.378146414345224,\n",
       "  27.609175311299932,\n",
       "  12.998724353439373,\n",
       "  29.14711751739052,\n",
       "  39.91271296002461,\n",
       "  33.76094413566227,\n",
       "  26.84020420825464,\n",
       "  24.53329089911876,\n",
       "  12.229753250394081,\n",
       "  41.4506551661152,\n",
       "  15.30563766257525,\n",
       "  22.995348693028173,\n",
       "  16.843579868665834,\n",
       "  17.612550971711126,\n",
       "  29.91608862043581,\n",
       "  23.76431979607347,\n",
       "  16.074608765620543,\n",
       "  31.454030826526395,\n",
       "  19.150493177801714],\n",
       " 'num_Random': [-0.1554273445683047,\n",
       "  0.43346362407596406,\n",
       "  1.541964270935764,\n",
       "  -1.3332092818568422,\n",
       "  0.9530733022914953,\n",
       "  0.7798700762196515,\n",
       "  1.6112455613645016,\n",
       "  1.5766049161501328,\n",
       "  0.6759481405765453,\n",
       "  0.710588785790914,\n",
       "  -0.9175215392844173,\n",
       "  -1.4024905722855796,\n",
       "  1.403401690078289,\n",
       "  -0.3632712158545172,\n",
       "  0.12169781714664528,\n",
       "  -1.5064125079286859,\n",
       "  -1.6796157340005298,\n",
       "  0.9184326570771265,\n",
       "  -0.8482402488556797,\n",
       "  0.8145107214340203,\n",
       "  1.4380423352926577,\n",
       "  0.987713947505864,\n",
       "  1.6458862065788702,\n",
       "  1.2994797544351828,\n",
       "  0.572026204933439,\n",
       "  -0.22470863499704222,\n",
       "  0.3295416884328578,\n",
       "  -1.7142563792148984,\n",
       "  0.4681042692903328,\n",
       "  0.8837920118627578,\n",
       "  -0.6057557323550985,\n",
       "  -1.5410531531430547,\n",
       "  1.0569952379346015,\n",
       "  0.017775881503539037,\n",
       "  0.7452294310052828,\n",
       "  -0.9868028297131547,\n",
       "  -1.4717718627143173,\n",
       "  -0.7789589584269422,\n",
       "  0.15633846236101404,\n",
       "  -0.397911861068886,\n",
       "  0.22561975278975155,\n",
       "  -0.05150540892519846,\n",
       "  -0.6750370227838359,\n",
       "  -0.8828808940700484,\n",
       "  0.5027449145047015,\n",
       "  -0.6403963775694672,\n",
       "  1.1955578187920766,\n",
       "  -1.1253654105706297,\n",
       "  0.08705717193227654,\n",
       "  -0.952162184498786,\n",
       "  1.0223545927202329,\n",
       "  -0.016864763710829712,\n",
       "  0.3641823336472265,\n",
       "  0.29490104321848903,\n",
       "  1.7151674970076078,\n",
       "  1.4726829805070265,\n",
       "  -0.19006798978267347,\n",
       "  0.05241652671790779,\n",
       "  0.6413074953621766,\n",
       "  -0.32863057064014844,\n",
       "  0.6066668501478077,\n",
       "  -0.29398992542577973,\n",
       "  -0.536474441926361,\n",
       "  -0.12078669935393596,\n",
       "  -0.813599603641311,\n",
       "  -1.229287346213736,\n",
       "  -1.0214434749275234,\n",
       "  -0.5711150871407297,\n",
       "  -1.2639279914281047,\n",
       "  -0.25934928021141096,\n",
       "  -0.7096776679982048,\n",
       "  -0.7443183132125735,\n",
       "  1.0916358831489703,\n",
       "  0.5373855597190703,\n",
       "  -1.090724765356261,\n",
       "  -1.1946467009993673,\n",
       "  -1.367849927071211,\n",
       "  1.680526851793239,\n",
       "  0.19097910757538278,\n",
       "  0.3988229788615953,\n",
       "  1.5073236257213953,\n",
       "  1.3341203996495514,\n",
       "  -0.4325525062832547,\n",
       "  1.264839109220814,\n",
       "  -0.46719315149762347,\n",
       "  -1.5756937983574235,\n",
       "  -0.5018337967119922,\n",
       "  -1.4371312174999484,\n",
       "  -1.6103344435717921,\n",
       "  -1.1600060557849985,\n",
       "  1.3687610448639203,\n",
       "  1.1609171735777077,\n",
       "  -1.2985686366424736,\n",
       "  1.1262765283633391,\n",
       "  1.2301984640064454,\n",
       "  -1.644975088786161,\n",
       "  -0.08614605413956722,\n",
       "  0.26026039800412026,\n",
       "  -1.0560841201418922,\n",
       "  0.8491513666483891]}"
      ]
     },
     "execution_count": 29,
     "metadata": {},
     "output_type": "execute_result"
    }
   ],
   "source": [
    "valores_unicos(x_train, k=150)"
   ]
  },
  {
   "cell_type": "code",
   "execution_count": 30,
   "id": "d39ba11d",
   "metadata": {},
   "outputs": [],
   "source": [
    "x_train=x_train.drop([\"NA_C_VEHS\", \"NA_C_YEAR\", \"NA_Random\"], axis=1)\n",
    "x_test=x_test.drop([\"NA_C_VEHS\", \"NA_C_YEAR\", \"NA_Random\"], axis=1)"
   ]
  },
  {
   "cell_type": "code",
   "execution_count": 31,
   "id": "8e105bbb",
   "metadata": {},
   "outputs": [],
   "source": [
    "columnas=x_train.drop(['NA_cos_C_MNTH', 'NA_sin_C_MNTH', 'NA_cos_C_WDAY', 'NA_sin_C_WDAY', 'NA_cos_C_HOUR', 'NA_sin_C_HOUR', \"num_C_YEAR\", \"num_C_VEHS\", \"num_Random\"], axis=1).columns"
   ]
  },
  {
   "cell_type": "code",
   "execution_count": 32,
   "id": "5d907382",
   "metadata": {},
   "outputs": [],
   "source": [
    "x_train[columnas] = x_train[columnas].astype(\"int\")\n",
    "x_test[columnas]=x_test[columnas].astype(\"int\")"
   ]
  },
  {
   "cell_type": "code",
   "execution_count": 33,
   "id": "97800562",
   "metadata": {},
   "outputs": [
    {
     "data": {
      "text/plain": [
       "NA_cos_C_MNTH    float64\n",
       "NA_sin_C_MNTH    float64\n",
       "NA_cos_C_WDAY    float64\n",
       "NA_sin_C_WDAY    float64\n",
       "NA_cos_C_HOUR    float64\n",
       "NA_sin_C_HOUR    float64\n",
       "ohe_x0_01          int64\n",
       "ohe_x0_02          int64\n",
       "ohe_x0_03          int64\n",
       "ohe_x0_04          int64\n",
       "ohe_x0_QQ          int64\n",
       "ohe_x0_None        int64\n",
       "ohe_x1_01          int64\n",
       "ohe_x1_02          int64\n",
       "ohe_x1_QQ          int64\n",
       "ohe_x1_None        int64\n",
       "ohe_x2_01          int64\n",
       "ohe_x2_02          int64\n",
       "ohe_x2_Q           int64\n",
       "ohe_x2_None        int64\n",
       "ohe_x3_01          int64\n",
       "ohe_x3_02          int64\n",
       "ohe_x3_Q           int64\n",
       "ohe_x3_None        int64\n",
       "ohe_x4_01          int64\n",
       "ohe_x4_02          int64\n",
       "ohe_x4_Q           int64\n",
       "ohe_x4_None        int64\n",
       "ohe_x5_01          int64\n",
       "ohe_x5_03          int64\n",
       "ohe_x5_QQ          int64\n",
       "ohe_x5_None        int64\n",
       "num_C_YEAR       float64\n",
       "num_C_VEHS       float64\n",
       "num_Random       float64\n",
       "dtype: object"
      ]
     },
     "execution_count": 33,
     "metadata": {},
     "output_type": "execute_result"
    }
   ],
   "source": [
    "x_test.dtypes"
   ]
  },
  {
   "cell_type": "code",
   "execution_count": 34,
   "id": "7959f1b2",
   "metadata": {},
   "outputs": [
    {
     "data": {
      "text/plain": [
       "NA_cos_C_MNTH    False\n",
       "NA_sin_C_MNTH    False\n",
       "NA_cos_C_WDAY    False\n",
       "NA_sin_C_WDAY    False\n",
       "NA_cos_C_HOUR    False\n",
       "NA_sin_C_HOUR    False\n",
       "ohe_x0_01        False\n",
       "ohe_x0_02        False\n",
       "ohe_x0_03        False\n",
       "ohe_x0_04        False\n",
       "ohe_x0_QQ        False\n",
       "ohe_x0_None      False\n",
       "ohe_x1_01        False\n",
       "ohe_x1_02        False\n",
       "ohe_x1_QQ        False\n",
       "ohe_x1_None      False\n",
       "ohe_x2_01        False\n",
       "ohe_x2_02        False\n",
       "ohe_x2_Q         False\n",
       "ohe_x2_None      False\n",
       "ohe_x3_01        False\n",
       "ohe_x3_02        False\n",
       "ohe_x3_Q         False\n",
       "ohe_x3_None      False\n",
       "ohe_x4_01        False\n",
       "ohe_x4_02        False\n",
       "ohe_x4_Q         False\n",
       "ohe_x4_None      False\n",
       "ohe_x5_01        False\n",
       "ohe_x5_03        False\n",
       "ohe_x5_QQ        False\n",
       "ohe_x5_None      False\n",
       "num_C_YEAR       False\n",
       "num_C_VEHS       False\n",
       "num_Random       False\n",
       "dtype: bool"
      ]
     },
     "execution_count": 34,
     "metadata": {},
     "output_type": "execute_result"
    }
   ],
   "source": [
    "x_train.isna().any()"
   ]
  },
  {
   "cell_type": "markdown",
   "id": "67693334",
   "metadata": {},
   "source": [
    "---"
   ]
  },
  {
   "cell_type": "markdown",
   "id": "0ea99011",
   "metadata": {},
   "source": [
    "Dado que tenemos los datos transformados, ya estamos en condiciones de introducir nuestro conjunto de testing en un algoritmo de oversampling"
   ]
  },
  {
   "cell_type": "markdown",
   "id": "11ec67cf",
   "metadata": {},
   "source": [
    "## Oversampling (SMOTE algorithm)"
   ]
  },
  {
   "cell_type": "markdown",
   "id": "2a5ea67b",
   "metadata": {},
   "source": [
    "Como hemos podido comprobar en el notebook *01_EDA*, el dataset con el que estamos trabajando está realmente desbalanceado. Nuestra variable objetivo tiene muchos menos fallecidos que no fallecidos. Debido a esto, si introducimos en el modelo estos datos, no será posible obtener un buen modelo, pues no le estaremos dotando de suficiente información para que pueda predecir de manera correcta cuando haya algún fallecido. \n",
    "\n",
    "Teniendo en cuenta esto, existen dos grandes técnicas para solucionar este problema. Estas son *undersampling* y *oversampling*. Esta última consiste en generar datos \"aleatorios\" en la clase mayoritaria, para así poder dotar de información suficiente al entrenamiento del modelo. En cambio, el *undersampling* consiste en lo contrario, eliminar datos \"aleatorios\" de la clase mayoritaria de manera que ambas clases queden menos desvalanceadas. \n",
    "\n",
    "Nosotros haremos uso de *oversampling* y para ello utilizaremos uno de los algoritmos más utilizados en estas técnicas (SMOTE)."
   ]
  },
  {
   "cell_type": "markdown",
   "id": "bdd8d52d",
   "metadata": {},
   "source": [
    "**Def.** SMOTE (Synthetic Minority Oversampling Technique) utiliza un algoritmo de vecino k-más cercano para crear datos sintéticos. SMOTE primero comienza eligiendo datos aleatorios de la clase minoritaria, luego se establecen los k vecinos más cercanos de los datos. Los datos sintéticos se harían entonces entre los datos aleatorios y el vecino k más cercano seleccionado al azar."
   ]
  },
  {
   "cell_type": "markdown",
   "id": "c12a830b",
   "metadata": {},
   "source": [
    "**Ejemplo.** En el siguiente ejemplo podremos ver cómo trata de crear el algoritmo los nuevos datos sintéticos"
   ]
  },
  {
   "cell_type": "markdown",
   "id": "7b787d0c",
   "metadata": {},
   "source": [
    "<table>\n",
    "  <tr>\n",
    "     <td>Before SMOTE</td>\n",
    "     <td>After SMOTE</td>\n",
    "  </tr>\n",
    "  <tr>\n",
    "    <td><img src=\"SMOTE_before.png\" width=\"300\" hspace=\"100\"/> \n",
    "    <td><img src=\"SMOTE_after.png\" width=\"300\"/>\n",
    "  </tr>\n",
    " </table>"
   ]
  },
  {
   "cell_type": "code",
   "execution_count": 35,
   "id": "e34e4627",
   "metadata": {
    "scrolled": true
   },
   "outputs": [
    {
     "name": "stdout",
     "output_type": "stream",
     "text": [
      "Antes del OverSampling, número de '1's: 2884022\n",
      "Antes del OverSampling, número de '0's: 42563 \n",
      "\n"
     ]
    }
   ],
   "source": [
    "print(\"Antes del OverSampling, número de '1's: {}\".format(sum(ytrain == 1)))\n",
    "print(\"Antes del OverSampling, número de '0's: {} \\n\".format(sum(ytrain == 0)))"
   ]
  },
  {
   "cell_type": "code",
   "execution_count": 36,
   "id": "066952a2",
   "metadata": {},
   "outputs": [],
   "source": [
    "sm = SMOTE(random_state = 2, sampling_strategy=0.5)\n",
    "X_train_oversampled, y_train_oversampled = sm.fit_resample(x_train, ytrain.ravel())"
   ]
  },
  {
   "cell_type": "code",
   "execution_count": 37,
   "id": "2781be00",
   "metadata": {
    "scrolled": true
   },
   "outputs": [
    {
     "name": "stdout",
     "output_type": "stream",
     "text": [
      "Después del OverSampling, el tamaño de train_X: (4326033, 35)\n",
      "Después del OverSampling, el tamaño de train_y: (4326033,) \n",
      "\n",
      "Después del OverSampling, número de '1's: 2884022\n",
      "Después del OverSampling, número de '0's: 1442011\n"
     ]
    }
   ],
   "source": [
    "print('Después del OverSampling, el tamaño de train_X: {}'.format(X_train_oversampled.shape))\n",
    "print('Después del OverSampling, el tamaño de train_y: {} \\n'.format(y_train_oversampled.shape))\n",
    " \n",
    "print(\"Después del OverSampling, número de '1's: {}\".format(sum(y_train_oversampled == 1)))\n",
    "print(\"Después del OverSampling, número de '0's: {}\".format(sum(y_train_oversampled == 0)))"
   ]
  },
  {
   "cell_type": "markdown",
   "id": "71b6a71c",
   "metadata": {},
   "source": [
    "Una vez tenemos los conjuntos de training y testing definitivos, vamos a pasarlos a formato parquet para poder utilizarlos en otros notebooks."
   ]
  },
  {
   "cell_type": "code",
   "execution_count": 40,
   "id": "fcc662ee",
   "metadata": {},
   "outputs": [],
   "source": [
    "table_X_train = pa.Table.from_pandas(X_train_oversampled, preserve_index=False)"
   ]
  },
  {
   "cell_type": "code",
   "execution_count": 41,
   "id": "c34c1be9",
   "metadata": {},
   "outputs": [
    {
     "ename": "FileNotFoundError",
     "evalue": "[Errno 2] Failed to open local file '/Users/aitor/Desktop/Máster Ciencia de Datos/Aprendizaje automático/Machine-Learning/big practice_data/X_train_oversampled.parquet'. Detail: [errno 2] No such file or directory",
     "output_type": "error",
     "traceback": [
      "\u001b[0;31m---------------------------------------------------------------------------\u001b[0m",
      "\u001b[0;31mFileNotFoundError\u001b[0m                         Traceback (most recent call last)",
      "\u001b[0;32m/var/folders/3q/zfn8yb513nj10ry8w8r8_jmc0000gn/T/ipykernel_30140/2052962234.py\u001b[0m in \u001b[0;36m<module>\u001b[0;34m\u001b[0m\n\u001b[0;32m----> 1\u001b[0;31m \u001b[0mpq\u001b[0m\u001b[0;34m.\u001b[0m\u001b[0mwrite_table\u001b[0m\u001b[0;34m(\u001b[0m\u001b[0mtable_X_train\u001b[0m\u001b[0;34m,\u001b[0m \u001b[0;34m'/Users/aitor/Desktop/Máster Ciencia de Datos/Aprendizaje automático/Machine-Learning/big practice_data/X_train_oversampled.parquet'\u001b[0m\u001b[0;34m)\u001b[0m\u001b[0;34m\u001b[0m\u001b[0;34m\u001b[0m\u001b[0m\n\u001b[0m",
      "\u001b[0;32m~/opt/anaconda3/envs/ML_big_practice/lib/python3.9/site-packages/pyarrow/parquet.py\u001b[0m in \u001b[0;36mwrite_table\u001b[0;34m(table, where, row_group_size, version, use_dictionary, compression, write_statistics, use_deprecated_int96_timestamps, coerce_timestamps, allow_truncated_timestamps, data_page_size, flavor, filesystem, compression_level, use_byte_stream_split, data_page_version, use_compliant_nested_type, **kwargs)\u001b[0m\n\u001b[1;32m   1798\u001b[0m     \u001b[0muse_int96\u001b[0m \u001b[0;34m=\u001b[0m \u001b[0muse_deprecated_int96_timestamps\u001b[0m\u001b[0;34m\u001b[0m\u001b[0;34m\u001b[0m\u001b[0m\n\u001b[1;32m   1799\u001b[0m     \u001b[0;32mtry\u001b[0m\u001b[0;34m:\u001b[0m\u001b[0;34m\u001b[0m\u001b[0;34m\u001b[0m\u001b[0m\n\u001b[0;32m-> 1800\u001b[0;31m         with ParquetWriter(\n\u001b[0m\u001b[1;32m   1801\u001b[0m                 \u001b[0mwhere\u001b[0m\u001b[0;34m,\u001b[0m \u001b[0mtable\u001b[0m\u001b[0;34m.\u001b[0m\u001b[0mschema\u001b[0m\u001b[0;34m,\u001b[0m\u001b[0;34m\u001b[0m\u001b[0;34m\u001b[0m\u001b[0m\n\u001b[1;32m   1802\u001b[0m                 \u001b[0mfilesystem\u001b[0m\u001b[0;34m=\u001b[0m\u001b[0mfilesystem\u001b[0m\u001b[0;34m,\u001b[0m\u001b[0;34m\u001b[0m\u001b[0;34m\u001b[0m\u001b[0m\n",
      "\u001b[0;32m~/opt/anaconda3/envs/ML_big_practice/lib/python3.9/site-packages/pyarrow/parquet.py\u001b[0m in \u001b[0;36m__init__\u001b[0;34m(self, where, schema, filesystem, flavor, version, use_dictionary, compression, write_statistics, use_deprecated_int96_timestamps, compression_level, use_byte_stream_split, writer_engine_version, data_page_version, use_compliant_nested_type, **options)\u001b[0m\n\u001b[1;32m    631\u001b[0m                 \u001b[0;31m# a filename like foo.parquet.gz is nonconforming, it\u001b[0m\u001b[0;34m\u001b[0m\u001b[0;34m\u001b[0m\u001b[0m\n\u001b[1;32m    632\u001b[0m                 \u001b[0;31m# shouldn't implicitly apply compression.\u001b[0m\u001b[0;34m\u001b[0m\u001b[0;34m\u001b[0m\u001b[0m\n\u001b[0;32m--> 633\u001b[0;31m                 sink = self.file_handle = filesystem.open_output_stream(\n\u001b[0m\u001b[1;32m    634\u001b[0m                     path, compression=None)\n\u001b[1;32m    635\u001b[0m         \u001b[0;32melse\u001b[0m\u001b[0;34m:\u001b[0m\u001b[0;34m\u001b[0m\u001b[0;34m\u001b[0m\u001b[0m\n",
      "\u001b[0;32m~/opt/anaconda3/envs/ML_big_practice/lib/python3.9/site-packages/pyarrow/_fs.pyx\u001b[0m in \u001b[0;36mpyarrow._fs.FileSystem.open_output_stream\u001b[0;34m()\u001b[0m\n",
      "\u001b[0;32m~/opt/anaconda3/envs/ML_big_practice/lib/python3.9/site-packages/pyarrow/error.pxi\u001b[0m in \u001b[0;36mpyarrow.lib.pyarrow_internal_check_status\u001b[0;34m()\u001b[0m\n",
      "\u001b[0;32m~/opt/anaconda3/envs/ML_big_practice/lib/python3.9/site-packages/pyarrow/error.pxi\u001b[0m in \u001b[0;36mpyarrow.lib.check_status\u001b[0;34m()\u001b[0m\n",
      "\u001b[0;31mFileNotFoundError\u001b[0m: [Errno 2] Failed to open local file '/Users/aitor/Desktop/Máster Ciencia de Datos/Aprendizaje automático/Machine-Learning/big practice_data/X_train_oversampled.parquet'. Detail: [errno 2] No such file or directory"
     ]
    }
   ],
   "source": [
    "pq.write_table(table_X_train, '/Users/aitor/Desktop/Máster Ciencia de Datos/Aprendizaje automático/Machine-Learning/big practice_data/X_train_oversampled.parquet')"
   ]
  },
  {
   "cell_type": "code",
   "execution_count": null,
   "id": "613718ac",
   "metadata": {},
   "outputs": [],
   "source": [
    "table_ytrain = pa.Table.from_pandas(pd.DataFrame(y_train_oversampled), preserve_index=False)"
   ]
  },
  {
   "cell_type": "code",
   "execution_count": null,
   "id": "36b156bb",
   "metadata": {},
   "outputs": [],
   "source": [
    "pq.write_table(table_ytrain, '/Users/aitor/Desktop/Máster Ciencia de Datos/Aprendizaje automático/Machine-Learning/big practice_data/y_train_oversampled.parquet')"
   ]
  },
  {
   "cell_type": "code",
   "execution_count": null,
   "id": "bb3ad2ab",
   "metadata": {},
   "outputs": [],
   "source": [
    "table_xtest = pa.Table.from_pandas(x_test, preserve_index=False)"
   ]
  },
  {
   "cell_type": "code",
   "execution_count": null,
   "id": "f64de4ef",
   "metadata": {},
   "outputs": [],
   "source": [
    "pq.write_table(table_xtest, '/Users/aitor/Desktop/Máster Ciencia de Datos/Aprendizaje automático/Machine-Learning/big practice_data/x_test.parquet')"
   ]
  },
  {
   "cell_type": "code",
   "execution_count": null,
   "id": "00266b9c",
   "metadata": {},
   "outputs": [],
   "source": [
    "table_ytest = pa.Table.from_pandas(pd.DataFrame(ytest), preserve_index=False)"
   ]
  },
  {
   "cell_type": "code",
   "execution_count": null,
   "id": "2749deab",
   "metadata": {},
   "outputs": [],
   "source": [
    "pq.write_table(table_ytest, '/Users/aitor/Desktop/Máster Ciencia de Datos/Aprendizaje automático/Machine-Learning/big practice_data/ytest.parquet')"
   ]
  },
  {
   "cell_type": "code",
   "execution_count": null,
   "id": "6884f546",
   "metadata": {},
   "outputs": [],
   "source": []
  }
 ],
 "metadata": {
  "kernelspec": {
   "display_name": "Python [conda env:ML_big_practice]",
   "language": "python",
   "name": "conda-env-ML_big_practice-py"
  },
  "language_info": {
   "codemirror_mode": {
    "name": "ipython",
    "version": 3
   },
   "file_extension": ".py",
   "mimetype": "text/x-python",
   "name": "python",
   "nbconvert_exporter": "python",
   "pygments_lexer": "ipython3",
   "version": "3.9.7"
  }
 },
 "nbformat": 4,
 "nbformat_minor": 5
}
